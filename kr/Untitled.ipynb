{
 "cells": [
  {
   "cell_type": "code",
   "execution_count": 1,
   "id": "75f7acd9-ddee-4e2d-9142-07fde028845b",
   "metadata": {},
   "outputs": [
    {
     "data": {
      "text/plain": [
       "'hello world'"
      ]
     },
     "execution_count": 1,
     "metadata": {},
     "output_type": "execute_result"
    }
   ],
   "source": [
    "\"hello world\""
   ]
  },
  {
   "cell_type": "code",
   "execution_count": null,
   "id": "94a65136-6461-4cb6-9460-dc157c6f42b4",
   "metadata": {},
   "outputs": [],
   "source": [
    "n = int(input())\n",
    "n -= 1\n",
    "print(n*5)"
   ]
  },
  {
   "cell_type": "code",
   "execution_count": 13,
   "id": "65bff710-8345-46f2-aca0-5bc5db59debe",
   "metadata": {},
   "outputs": [
    {
     "data": {
      "text/plain": [
       "'Arishka, I love you!!! <3 3 3'"
      ]
     },
     "execution_count": 13,
     "metadata": {},
     "output_type": "execute_result"
    }
   ],
   "source": [
    "s = \"Arishka, I love you!!! <3 3 3\"\n",
    "s"
   ]
  },
  {
   "cell_type": "code",
   "execution_count": 15,
   "id": "860bc913-862c-40f2-9afa-2bc808632c16",
   "metadata": {},
   "outputs": [
    {
     "name": "stdout",
     "output_type": "stream",
     "text": [
      "Arishka, I love you!!! <three three three"
     ]
    }
   ],
   "source": [
    "\n",
    "to_repl = {\n",
    "    \"0\": \"zero\",\n",
    "    \"1\": \"one\",\n",
    "    \"2\": \"two\",\n",
    "    \"3\": \"three\",\n",
    "    \"4\": \"four\",\n",
    "    \"5\": \"five\",\n",
    "    \"6\": \"six\",\n",
    "    \"7\": \"seven\",\n",
    "    \"8\": \"eight\",\n",
    "    \"9\": \"nine\",\n",
    "}\n",
    "ans = \"\"\n",
    "for ch in s:\n",
    "    if ch in to_repl.keys():\n",
    "        print(to_repl[ch], end=\"\")\n",
    "    else:\n",
    "        print(ch, end=\"\")\n"
   ]
  },
  {
   "cell_type": "code",
   "execution_count": null,
   "id": "65ba672d-9894-4b70-bb82-d7dff5690590",
   "metadata": {},
   "outputs": [],
   "source": [
    "2 3\n",
    "1 1 2\n",
    "3 3 2"
   ]
  },
  {
   "cell_type": "code",
   "execution_count": 46,
   "id": "ef808ad9-3c25-4d53-9a4d-f1280b0efd5e",
   "metadata": {},
   "outputs": [
    {
     "data": {
      "text/plain": [
       "False"
      ]
     },
     "execution_count": 46,
     "metadata": {},
     "output_type": "execute_result"
    }
   ],
   "source": [
    "5 / 2 == 2\n",
    "\n",
    "# если ровно, то + 1\n",
    "# tckb "
   ]
  },
  {
   "cell_type": "code",
   "execution_count": 68,
   "id": "0daa9fcb-620d-404f-8d98-c083157a9ccd",
   "metadata": {},
   "outputs": [
    {
     "name": "stdin",
     "output_type": "stream",
     "text": [
      " 3\n",
      " 1 1\n",
      " 2 2\n",
      " 4 3\n"
     ]
    },
    {
     "name": "stdout",
     "output_type": "stream",
     "text": [
      "[1, 2, 4]\n",
      "[0, 1, 3, 7]\n",
      "[1, 1, 1]\n",
      "5\n"
     ]
    }
   ],
   "source": [
    "from math import ceil\n",
    "\n",
    "n = int(input())\n",
    "n_troops = [0] * n\n",
    "cost = [0] * n\n",
    "\n",
    "for i in range(n):\n",
    "    a, c = map(int, input().split())\n",
    "    n_troops[i] = a\n",
    "    cost[i] = c\n",
    "\n",
    "pref_troops = [0] * (n+1)\n",
    "delta_troops = [0] * n\n",
    "for i in range(1, n+1):\n",
    "    pref_troops[i] = pref_troops[i-1] + n_troops[i-1]\n",
    "\n",
    "print(n_troops)\n",
    "print(pref_troops)\n",
    "\n",
    "for i in range(n):\n",
    "    temp = (n_troops[i] - pref_troops[i]) / 2\n",
    "    if temp < 0:\n",
    "        delta_troops[i] = 0\n",
    "        continue\n",
    "    \n",
    "    if ceil(temp) == temp:\n",
    "        delta_troops[i] = int(temp) + 1\n",
    "    else:\n",
    "        delta_troops[i] = ceil(temp)\n",
    "\n",
    "print(delta_troops)\n",
    "\n",
    "\n",
    "def calc_troops_for_0(pref, n_troops):\n",
    "    temp = (n_troops - pref) / 2\n",
    "    if temp < 0:\n",
    "        return 0\n",
    "    if ceil(temp) == temp:\n",
    "        return int(temp) + 1\n",
    "    return ceil(temp)\n",
    "    \n",
    "\n",
    "total_cost = 0\n",
    "army_now = 0\n",
    "for i in range(n-1, -1, -1):\n",
    "    if i == 0:\n",
    "        to_by = calc_troops_for_0(army_now, n_troops[0])\n",
    "        # print(\"to 0:\", to_by)\n",
    "        total_cost += to_by * cost[0]\n",
    "        break\n",
    "    if army_now <= n_troops[i]:\n",
    "        total_cost += (delta_troops[i]) * cost[i]\n",
    "        army_now += delta_troops[i]\n",
    "    else:\n",
    "        army_now += n_troops[i]\n",
    "\n",
    "print(total_cost)\n"
   ]
  },
  {
   "cell_type": "code",
   "execution_count": null,
   "id": "260d2c42-1b78-46ca-af59-0d5872903ec5",
   "metadata": {},
   "outputs": [],
   "source": [
    "n, k = map(int, input().split())\n",
    "tubes = []\n",
    "for _ in range(k):\n",
    "    r, g, b = map(int, input().split())\n",
    "    tubes.append([r, g, b])\n",
    "\n"
   ]
  },
  {
   "cell_type": "code",
   "execution_count": 69,
   "id": "5cfa6493-f64d-4ffa-b46a-7075fa1efe51",
   "metadata": {},
   "outputs": [
    {
     "name": "stdin",
     "output_type": "stream",
     "text": [
      " 3\n",
      " 1 1\n",
      " 2 2\n",
      " 4 3\n"
     ]
    },
    {
     "name": "stdout",
     "output_type": "stream",
     "text": [
      "5\n"
     ]
    }
   ],
   "source": [
    "import heapq\n",
    "\n",
    "n = int(input())\n",
    "cities = []\n",
    "\n",
    "for _ in range(n):\n",
    "    a, c = map(int, input().split())\n",
    "    cities.append((a, c))\n",
    "\n",
    "cities.sort(reverse=True)\n",
    "\n",
    "heap = []\n",
    "total_cost = 0\n",
    "current_troops = 0\n",
    "\n",
    "for a, c in cities:\n",
    "    # Пока армия <= a, нужно покупать\n",
    "    while current_troops <= a:\n",
    "        if not heap:\n",
    "            break\n",
    "        min_cost = heapq.heappop(heap)\n",
    "        total_cost += min_cost\n",
    "        current_troops += 1\n",
    "    heapq.heappush(heap, c)\n",
    "\n",
    "print(total_cost)\n"
   ]
  },
  {
   "cell_type": "code",
   "execution_count": null,
   "id": "502845cd-bde1-4f7f-9a58-94206ed2b1a6",
   "metadata": {},
   "outputs": [],
   "source": []
  }
 ],
 "metadata": {
  "kernelspec": {
   "display_name": "Python 3 (ipykernel)",
   "language": "python",
   "name": "python3"
  },
  "language_info": {
   "codemirror_mode": {
    "name": "ipython",
    "version": 3
   },
   "file_extension": ".py",
   "mimetype": "text/x-python",
   "name": "python",
   "nbconvert_exporter": "python",
   "pygments_lexer": "ipython3",
   "version": "3.12.4"
  }
 },
 "nbformat": 4,
 "nbformat_minor": 5
}
