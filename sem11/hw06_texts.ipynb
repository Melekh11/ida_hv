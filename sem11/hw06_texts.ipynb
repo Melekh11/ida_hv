{
 "cells": [
  {
   "cell_type": "markdown",
   "metadata": {
    "id": "Ffq6A2-ifzAA"
   },
   "source": [
    "# Интеллектуальный анализ данных – весна 2025\n",
    "# Домашнее задание 6: классификация текстов"
   ]
  },
  {
   "cell_type": "markdown",
   "metadata": {
    "id": "EPcxtekTA1Sm"
   },
   "source": [
    "Правила:\n",
    "\n",
    "\n",
    "\n",
    "*   Домашнее задание оценивается в 10 баллов.\n",
    "*   Можно использовать без доказательства любые результаты, встречавшиеся на лекциях или семинарах по курсу, если получение этих результатов не является вопросом задания.\n",
    "*  Можно использовать любые свободные источники с *обязательным* указанием ссылки на них.\n",
    "*  Плагиат не допускается. При обнаружении случаев списывания, 0 за работу выставляется всем участникам нарушения, даже если можно установить, кто у кого списал.\n",
    "*  Старайтесь сделать код как можно более оптимальным. В частности, будет штрафоваться использование циклов в тех случаях, когда операцию можно совершить при помощи инструментов библиотек, о которых рассказывалось в курсе.\n",
    "* Если в задании есть вопрос на рассуждение, то за отсутствие ответа на него балл за задание будет снижен вполовину."
   ]
  },
  {
   "cell_type": "markdown",
   "metadata": {
    "id": "itRtFtrOf0_b"
   },
   "source": [
    "В этом домашнем задании вам предстоит построить классификатор текстов.\n",
    "\n",
    "Будем предсказывать эмоциональную окраску твиттов о коронавирусе.\n",
    "\n"
   ]
  },
  {
   "cell_type": "code",
   "execution_count": 99,
   "metadata": {
    "id": "tNGRVO7_g9mz"
   },
   "outputs": [],
   "source": [
    "import warnings\n",
    "\n",
    "import numpy as np\n",
    "import pandas as pd\n",
    "from typing import  List\n",
    "import matplotlib.pyplot as plt\n",
    "import seaborn as sns\n",
    "from string import punctuation\n",
    "\n",
    "warnings.filterwarnings(\"ignore\")"
   ]
  },
  {
   "cell_type": "code",
   "execution_count": 100,
   "metadata": {
    "colab": {
     "base_uri": "https://localhost:8080/",
     "height": 348
    },
    "id": "zOy8iHJQg_Ss",
    "outputId": "6a32c325-1b9a-4895-ab22-5e985016da91"
   },
   "outputs": [
    {
     "data": {
      "text/html": [
       "<div>\n",
       "<style scoped>\n",
       "    .dataframe tbody tr th:only-of-type {\n",
       "        vertical-align: middle;\n",
       "    }\n",
       "\n",
       "    .dataframe tbody tr th {\n",
       "        vertical-align: top;\n",
       "    }\n",
       "\n",
       "    .dataframe thead th {\n",
       "        text-align: right;\n",
       "    }\n",
       "</style>\n",
       "<table border=\"1\" class=\"dataframe\">\n",
       "  <thead>\n",
       "    <tr style=\"text-align: right;\">\n",
       "      <th></th>\n",
       "      <th>UserName</th>\n",
       "      <th>ScreenName</th>\n",
       "      <th>Location</th>\n",
       "      <th>TweetAt</th>\n",
       "      <th>OriginalTweet</th>\n",
       "      <th>Sentiment</th>\n",
       "    </tr>\n",
       "  </thead>\n",
       "  <tbody>\n",
       "    <tr>\n",
       "      <th>796</th>\n",
       "      <td>4755</td>\n",
       "      <td>49707</td>\n",
       "      <td>NaN</td>\n",
       "      <td>17-03-2020</td>\n",
       "      <td>@DuScarla @wanda1606 @CarolineVoaden @Emmanuel...</td>\n",
       "      <td>Negative</td>\n",
       "    </tr>\n",
       "    <tr>\n",
       "      <th>9108</th>\n",
       "      <td>14855</td>\n",
       "      <td>59807</td>\n",
       "      <td>India</td>\n",
       "      <td>20-03-2020</td>\n",
       "      <td>Breaking Union Minister of Consumer Affairs Fo...</td>\n",
       "      <td>Positive</td>\n",
       "    </tr>\n",
       "    <tr>\n",
       "      <th>16738</th>\n",
       "      <td>24179</td>\n",
       "      <td>69131</td>\n",
       "      <td>Michigan</td>\n",
       "      <td>25-03-2020</td>\n",
       "      <td>Nice job Stop amp Shop northeastern grocery st...</td>\n",
       "      <td>Extremely Negative</td>\n",
       "    </tr>\n",
       "    <tr>\n",
       "      <th>3165</th>\n",
       "      <td>7631</td>\n",
       "      <td>52583</td>\n",
       "      <td>Al Hilal - C Ring Road</td>\n",
       "      <td>18-03-2020</td>\n",
       "      <td>#MoCI sets prices for hand #sanitisers, #disin...</td>\n",
       "      <td>Positive</td>\n",
       "    </tr>\n",
       "  </tbody>\n",
       "</table>\n",
       "</div>"
      ],
      "text/plain": [
       "       UserName  ScreenName                Location     TweetAt  \\\n",
       "796        4755       49707                     NaN  17-03-2020   \n",
       "9108      14855       59807                   India  20-03-2020   \n",
       "16738     24179       69131                Michigan  25-03-2020   \n",
       "3165       7631       52583  Al Hilal - C Ring Road  18-03-2020   \n",
       "\n",
       "                                           OriginalTweet           Sentiment  \n",
       "796    @DuScarla @wanda1606 @CarolineVoaden @Emmanuel...            Negative  \n",
       "9108   Breaking Union Minister of Consumer Affairs Fo...            Positive  \n",
       "16738  Nice job Stop amp Shop northeastern grocery st...  Extremely Negative  \n",
       "3165   #MoCI sets prices for hand #sanitisers, #disin...            Positive  "
      ]
     },
     "execution_count": 100,
     "metadata": {},
     "output_type": "execute_result"
    }
   ],
   "source": [
    "df = pd.read_csv('./tweets_coronavirus.csv', encoding='latin-1')\n",
    "df.sample(4)"
   ]
  },
  {
   "cell_type": "markdown",
   "metadata": {
    "id": "m2OiDog9ZBlS"
   },
   "source": [
    "Для каждого твитта указано:\n",
    "\n",
    "\n",
    "*   UserName - имя пользователя, заменено на целое число для анонимности\n",
    "*   ScreenName - отображающееся имя пользователя, заменено на целое число для анонимности\n",
    "*   Location - местоположение\n",
    "*   TweetAt - дата создания твитта\n",
    "*   OriginalTweet - текст твитта\n",
    "*   Sentiment - эмоциональная окраска твитта (целевая переменная)\n",
    "\n"
   ]
  },
  {
   "cell_type": "markdown",
   "metadata": {
    "id": "pZTMseDkhTC7"
   },
   "source": [
    "## Задание 1 Подготовка (0.5 балла)"
   ]
  },
  {
   "cell_type": "markdown",
   "metadata": {
    "id": "Xx2-odn9hdAW"
   },
   "source": [
    "Целевая переменная находится в колонке `Sentiment`.  Преобразуйте ее таким образом, чтобы она стала бинарной: 1 - если у твитта положительная или очень положительная эмоциональная окраска и 0 - если отрицательная или очень отрицательная."
   ]
  },
  {
   "cell_type": "code",
   "execution_count": 101,
   "metadata": {},
   "outputs": [
    {
     "data": {
      "text/html": [
       "<div>\n",
       "<style scoped>\n",
       "    .dataframe tbody tr th:only-of-type {\n",
       "        vertical-align: middle;\n",
       "    }\n",
       "\n",
       "    .dataframe tbody tr th {\n",
       "        vertical-align: top;\n",
       "    }\n",
       "\n",
       "    .dataframe thead th {\n",
       "        text-align: right;\n",
       "    }\n",
       "</style>\n",
       "<table border=\"1\" class=\"dataframe\">\n",
       "  <thead>\n",
       "    <tr style=\"text-align: right;\">\n",
       "      <th></th>\n",
       "      <th>UserName</th>\n",
       "      <th>ScreenName</th>\n",
       "      <th>Location</th>\n",
       "      <th>TweetAt</th>\n",
       "      <th>OriginalTweet</th>\n",
       "      <th>Sentiment</th>\n",
       "    </tr>\n",
       "  </thead>\n",
       "  <tbody>\n",
       "    <tr>\n",
       "      <th>0</th>\n",
       "      <td>3800</td>\n",
       "      <td>48752</td>\n",
       "      <td>UK</td>\n",
       "      <td>16-03-2020</td>\n",
       "      <td>advice Talk to your neighbours family to excha...</td>\n",
       "      <td>Positive</td>\n",
       "    </tr>\n",
       "    <tr>\n",
       "      <th>1</th>\n",
       "      <td>3801</td>\n",
       "      <td>48753</td>\n",
       "      <td>Vagabonds</td>\n",
       "      <td>16-03-2020</td>\n",
       "      <td>Coronavirus Australia: Woolworths to give elde...</td>\n",
       "      <td>Positive</td>\n",
       "    </tr>\n",
       "    <tr>\n",
       "      <th>2</th>\n",
       "      <td>3802</td>\n",
       "      <td>48754</td>\n",
       "      <td>NaN</td>\n",
       "      <td>16-03-2020</td>\n",
       "      <td>My food stock is not the only one which is emp...</td>\n",
       "      <td>Positive</td>\n",
       "    </tr>\n",
       "    <tr>\n",
       "      <th>3</th>\n",
       "      <td>3803</td>\n",
       "      <td>48755</td>\n",
       "      <td>NaN</td>\n",
       "      <td>16-03-2020</td>\n",
       "      <td>Me, ready to go at supermarket during the #COV...</td>\n",
       "      <td>Extremely Negative</td>\n",
       "    </tr>\n",
       "    <tr>\n",
       "      <th>4</th>\n",
       "      <td>3804</td>\n",
       "      <td>48756</td>\n",
       "      <td>ÃÂT: 36.319708,-82.363649</td>\n",
       "      <td>16-03-2020</td>\n",
       "      <td>As news of the regionÃÂs first confirmed COV...</td>\n",
       "      <td>Positive</td>\n",
       "    </tr>\n",
       "  </tbody>\n",
       "</table>\n",
       "</div>"
      ],
      "text/plain": [
       "   UserName  ScreenName                     Location     TweetAt  \\\n",
       "0      3800       48752                           UK  16-03-2020   \n",
       "1      3801       48753                    Vagabonds  16-03-2020   \n",
       "2      3802       48754                          NaN  16-03-2020   \n",
       "3      3803       48755                          NaN  16-03-2020   \n",
       "4      3804       48756  ÃÂT: 36.319708,-82.363649  16-03-2020   \n",
       "\n",
       "                                       OriginalTweet           Sentiment  \n",
       "0  advice Talk to your neighbours family to excha...            Positive  \n",
       "1  Coronavirus Australia: Woolworths to give elde...            Positive  \n",
       "2  My food stock is not the only one which is emp...            Positive  \n",
       "3  Me, ready to go at supermarket during the #COV...  Extremely Negative  \n",
       "4  As news of the regionÃÂs first confirmed COV...            Positive  "
      ]
     },
     "execution_count": 101,
     "metadata": {},
     "output_type": "execute_result"
    }
   ],
   "source": [
    "# было\n",
    "df.head()"
   ]
  },
  {
   "cell_type": "code",
   "execution_count": 102,
   "metadata": {
    "id": "ZaQKQ1zEjP15"
   },
   "outputs": [
    {
     "data": {
      "text/html": [
       "<div>\n",
       "<style scoped>\n",
       "    .dataframe tbody tr th:only-of-type {\n",
       "        vertical-align: middle;\n",
       "    }\n",
       "\n",
       "    .dataframe tbody tr th {\n",
       "        vertical-align: top;\n",
       "    }\n",
       "\n",
       "    .dataframe thead th {\n",
       "        text-align: right;\n",
       "    }\n",
       "</style>\n",
       "<table border=\"1\" class=\"dataframe\">\n",
       "  <thead>\n",
       "    <tr style=\"text-align: right;\">\n",
       "      <th></th>\n",
       "      <th>UserName</th>\n",
       "      <th>ScreenName</th>\n",
       "      <th>Location</th>\n",
       "      <th>TweetAt</th>\n",
       "      <th>OriginalTweet</th>\n",
       "      <th>Sentiment</th>\n",
       "    </tr>\n",
       "  </thead>\n",
       "  <tbody>\n",
       "    <tr>\n",
       "      <th>0</th>\n",
       "      <td>3800</td>\n",
       "      <td>48752</td>\n",
       "      <td>UK</td>\n",
       "      <td>16-03-2020</td>\n",
       "      <td>advice Talk to your neighbours family to excha...</td>\n",
       "      <td>1</td>\n",
       "    </tr>\n",
       "    <tr>\n",
       "      <th>1</th>\n",
       "      <td>3801</td>\n",
       "      <td>48753</td>\n",
       "      <td>Vagabonds</td>\n",
       "      <td>16-03-2020</td>\n",
       "      <td>Coronavirus Australia: Woolworths to give elde...</td>\n",
       "      <td>1</td>\n",
       "    </tr>\n",
       "    <tr>\n",
       "      <th>2</th>\n",
       "      <td>3802</td>\n",
       "      <td>48754</td>\n",
       "      <td>NaN</td>\n",
       "      <td>16-03-2020</td>\n",
       "      <td>My food stock is not the only one which is emp...</td>\n",
       "      <td>1</td>\n",
       "    </tr>\n",
       "    <tr>\n",
       "      <th>3</th>\n",
       "      <td>3803</td>\n",
       "      <td>48755</td>\n",
       "      <td>NaN</td>\n",
       "      <td>16-03-2020</td>\n",
       "      <td>Me, ready to go at supermarket during the #COV...</td>\n",
       "      <td>0</td>\n",
       "    </tr>\n",
       "    <tr>\n",
       "      <th>4</th>\n",
       "      <td>3804</td>\n",
       "      <td>48756</td>\n",
       "      <td>ÃÂT: 36.319708,-82.363649</td>\n",
       "      <td>16-03-2020</td>\n",
       "      <td>As news of the regionÃÂs first confirmed COV...</td>\n",
       "      <td>1</td>\n",
       "    </tr>\n",
       "  </tbody>\n",
       "</table>\n",
       "</div>"
      ],
      "text/plain": [
       "   UserName  ScreenName                     Location     TweetAt  \\\n",
       "0      3800       48752                           UK  16-03-2020   \n",
       "1      3801       48753                    Vagabonds  16-03-2020   \n",
       "2      3802       48754                          NaN  16-03-2020   \n",
       "3      3803       48755                          NaN  16-03-2020   \n",
       "4      3804       48756  ÃÂT: 36.319708,-82.363649  16-03-2020   \n",
       "\n",
       "                                       OriginalTweet  Sentiment  \n",
       "0  advice Talk to your neighbours family to excha...          1  \n",
       "1  Coronavirus Australia: Woolworths to give elde...          1  \n",
       "2  My food stock is not the only one which is emp...          1  \n",
       "3  Me, ready to go at supermarket during the #COV...          0  \n",
       "4  As news of the regionÃÂs first confirmed COV...          1  "
      ]
     },
     "execution_count": 102,
     "metadata": {},
     "output_type": "execute_result"
    }
   ],
   "source": [
    "df[\"Sentiment\"] = np.where(df[\"Sentiment\"].str.contains(\"[Pp]ositive\"), 1, 0)\n",
    "df.head()"
   ]
  },
  {
   "cell_type": "markdown",
   "metadata": {
    "id": "pGq1FxJ-kBo5"
   },
   "source": [
    "Сбалансированы ли классы?"
   ]
  },
  {
   "cell_type": "code",
   "execution_count": 103,
   "metadata": {
    "id": "a7gdNtxckK5V"
   },
   "outputs": [
    {
     "data": {
      "text/plain": [
       "Sentiment\n",
       "1    18046\n",
       "0    15398\n",
       "Name: count, dtype: int64"
      ]
     },
     "execution_count": 103,
     "metadata": {},
     "output_type": "execute_result"
    }
   ],
   "source": [
    "sentiment_vc = df[\"Sentiment\"].value_counts()\n",
    "sentiment_vc"
   ]
  },
  {
   "cell_type": "code",
   "execution_count": 104,
   "metadata": {},
   "outputs": [
    {
     "data": {
      "text/plain": [
       "14.67"
      ]
     },
     "execution_count": 104,
     "metadata": {},
     "output_type": "execute_result"
    }
   ],
   "source": [
    "dif = np.abs(sentiment_vc.iloc[0] - sentiment_vc.iloc[1]) / np.max([sentiment_vc.iloc[0], sentiment_vc.iloc[1]])\n",
    "np.round(100 * dif, 2)"
   ]
  },
  {
   "cell_type": "markdown",
   "metadata": {
    "id": "Ng8BCelMkWb0"
   },
   "source": [
    "**Ответ:** разница в $\\thicksim$15% приемлема для принятия отношения\n",
    "классов за сбалансированные"
   ]
  },
  {
   "cell_type": "markdown",
   "metadata": {
    "id": "qmSIBSsLk5Zz"
   },
   "source": [
    "Выведете на экран информацию о пропусках в данных. Если пропуски присутствуют заполните их строкой 'Unknown'."
   ]
  },
  {
   "cell_type": "code",
   "execution_count": 105,
   "metadata": {
    "id": "UhUVRkR5kxa7"
   },
   "outputs": [
    {
     "data": {
      "text/plain": [
       "UserName            0\n",
       "ScreenName          0\n",
       "Location         7049\n",
       "TweetAt             0\n",
       "OriginalTweet       0\n",
       "Sentiment           0\n",
       "dtype: int64"
      ]
     },
     "execution_count": 105,
     "metadata": {},
     "output_type": "execute_result"
    }
   ],
   "source": [
    "df.isna().sum()"
   ]
  },
  {
   "cell_type": "markdown",
   "metadata": {},
   "source": [
    "Нет данных про локацию, заменим все пустой строкой `unknown`"
   ]
  },
  {
   "cell_type": "code",
   "execution_count": 106,
   "metadata": {},
   "outputs": [
    {
     "data": {
      "text/plain": [
       "UserName         0\n",
       "ScreenName       0\n",
       "Location         0\n",
       "TweetAt          0\n",
       "OriginalTweet    0\n",
       "Sentiment        0\n",
       "dtype: int64"
      ]
     },
     "execution_count": 106,
     "metadata": {},
     "output_type": "execute_result"
    }
   ],
   "source": [
    "df[\"Location\"] = df[\"Location\"].fillna(\"unknown\")\n",
    "df.isna().sum()"
   ]
  },
  {
   "cell_type": "markdown",
   "metadata": {
    "id": "1tzt27tfjUpq"
   },
   "source": [
    "Разделите данные на обучающие и тестовые в соотношении 7 : 3 и укажите `random_state=0`"
   ]
  },
  {
   "cell_type": "code",
   "execution_count": 107,
   "metadata": {
    "id": "xSLOA9tIj9Z6"
   },
   "outputs": [],
   "source": [
    "from sklearn.model_selection import train_test_split\n",
    "\n",
    "y = df[\"Sentiment\"]\n",
    "X = df.drop([\"Sentiment\"], axis=1)\n",
    "\n",
    "X_train, X_test, y_train, y_test = train_test_split(X, y, test_size=0.3, shuffle=True)"
   ]
  },
  {
   "cell_type": "markdown",
   "metadata": {
    "id": "J9RrPUsJlL60"
   },
   "source": [
    "## Задание 2 Токенизация (3 балла)"
   ]
  },
  {
   "cell_type": "markdown",
   "metadata": {
    "id": "2Dz_b7Xopc_R"
   },
   "source": [
    "Постройте словарь на основе обучающей выборки и посчитайте количество встреч каждого токена с использованием самой простой токенизации - деления текстов по пробельным символам и приведения токенов в нижний регистр."
   ]
  },
  {
   "cell_type": "code",
   "execution_count": 108,
   "metadata": {
    "id": "SFr67WOJphny"
   },
   "outputs": [
    {
     "data": {
      "text/plain": [
       "30027    None\n",
       "28206    None\n",
       "8905     None\n",
       "11897    None\n",
       "11873    None\n",
       "         ... \n",
       "5238     None\n",
       "3342     None\n",
       "5074     None\n",
       "10512    None\n",
       "19960    None\n",
       "Name: OriginalTweet, Length: 23410, dtype: object"
      ]
     },
     "execution_count": 108,
     "metadata": {},
     "output_type": "execute_result"
    }
   ],
   "source": [
    "words_data = {}\n",
    "\n",
    "def add_to_words(text_sample):\n",
    "    words = map(lambda x: x.lower(), text_sample.split())\n",
    "    for w in words:\n",
    "        words_data[w] = words_data.get(w, 0) + 1\n",
    "        \n",
    "X_train[\"OriginalTweet\"].apply(add_to_words)"
   ]
  },
  {
   "cell_type": "markdown",
   "metadata": {
    "id": "Pe0h2Jqkpnao"
   },
   "source": [
    "Какой размер словаря получился?"
   ]
  },
  {
   "cell_type": "code",
   "execution_count": 109,
   "metadata": {
    "id": "umyENA7EpokD"
   },
   "outputs": [
    {
     "data": {
      "text/plain": [
       "79735"
      ]
     },
     "execution_count": 109,
     "metadata": {},
     "output_type": "execute_result"
    }
   ],
   "source": [
    "len(words_data)"
   ]
  },
  {
   "cell_type": "markdown",
   "metadata": {
    "id": "0d2G1Z-Qpqkd"
   },
   "source": [
    "Выведите 10 самых популярных токенов с количеством встреч каждого из них. Объясните, почему именно эти токены в топе."
   ]
  },
  {
   "cell_type": "code",
   "execution_count": 110,
   "metadata": {
    "id": "Impi32a_pssg"
   },
   "outputs": [
    {
     "data": {
      "text/plain": [
       "the             26682\n",
       "to              23383\n",
       "and             14683\n",
       "of              12857\n",
       "a               11697\n",
       "in              11210\n",
       "for              8519\n",
       "#coronavirus     8243\n",
       "is               7373\n",
       "are              7016\n",
       "dtype: int64"
      ]
     },
     "execution_count": 110,
     "metadata": {},
     "output_type": "execute_result"
    }
   ],
   "source": [
    "words_data_s = pd.Series(words_data)\n",
    "words_data_s = words_data_s.sort_values(ascending=False)\n",
    "words_data_s.head(10)"
   ]
  },
  {
   "cell_type": "markdown",
   "metadata": {
    "id": "ZtuJCD0ApuFd"
   },
   "source": [
    "**Ответ:** Стоп-слова. Стоит заметить, что эти слова не склоняются, и потому их может \n",
    "быть больше, чем, например, склоняемых слов."
   ]
  },
  {
   "cell_type": "markdown",
   "metadata": {
    "id": "T7DTQDkWsVYp"
   },
   "source": [
    "Удалите стоп-слова из словаря и выведите новый топ-10 токенов (и количество встреч) по популярности.  Что можно сказать  о нем?"
   ]
  },
  {
   "cell_type": "code",
   "execution_count": 111,
   "metadata": {
    "id": "8csSAdgTsnFx"
   },
   "outputs": [
    {
     "data": {
      "text/plain": [
       "#coronavirus    8243\n",
       "prices          3838\n",
       "food            3827\n",
       "grocery         3397\n",
       "supermarket     3325\n",
       "store           3158\n",
       "people          3120\n",
       "covid-19        3069\n",
       "#covid19        2507\n",
       "consumer        2247\n",
       "dtype: int64"
      ]
     },
     "execution_count": 111,
     "metadata": {},
     "output_type": "execute_result"
    }
   ],
   "source": [
    "import nltk\n",
    "from nltk.corpus import stopwords\n",
    "\n",
    "st_w = stopwords.words(\"english\")\n",
    "\n",
    "new_index_bool = ~np.in1d(words_data_s.index, st_w)\n",
    "new_index = words_data_s.index[new_index_bool]\n",
    "\n",
    "words_data_no_stopwords = words_data_s.reindex(new_index)\n",
    "\n",
    "words_data_no_stopwords.head(10)"
   ]
  },
  {
   "cell_type": "markdown",
   "metadata": {
    "id": "LZH0x2Lzs-Dh"
   },
   "source": [
    "**Ответ:** кроме, собственно, ковида, обсуждается функционирование магазинов \n",
    "и цен: сама основа быта каждого человека. Очевидный вывод: ковид консулся человека настолько плотно, что основные темы для обсуждения - самые низовые потребности, такие как купить покушать."
   ]
  },
  {
   "cell_type": "markdown",
   "metadata": {
    "id": "TKSGRyI-uor0"
   },
   "source": [
    "Также выведите 20 самых непопулярных слов (если самых непопулярных слов больше, выведите любые 20 из них) Почему эти токены непопулярны, требуется ли как-то дополнительно работать с ними?"
   ]
  },
  {
   "cell_type": "code",
   "execution_count": 112,
   "metadata": {
    "id": "moArbwfvun9t"
   },
   "outputs": [
    {
     "data": {
      "text/plain": [
       "https://t.co/f8jjwc6mvb    1\n",
       "https://t.co/x3qrxixl17    1\n",
       "ãâplease                 1\n",
       "kindãâ                   1\n",
       "received!                  1\n",
       "shop-lifting               1\n",
       "https://t.co/k0kgjgjjxu    1\n",
       "1-metre                    1\n",
       "ontarians:                 1\n",
       "??can't                    1\n",
       "??impacted                 1\n",
       "??must                     1\n",
       "yogurt                     1\n",
       "#ontariodairyboard         1\n",
       "https://t.co/ar5uwvvojy    1\n",
       "patrickcobb                1\n",
       "patrick,                   1\n",
       "distancingãâ             1\n",
       "https://t.co/8eamxvsghm    1\n",
       "feared,                    1\n",
       "dtype: int64"
      ]
     },
     "execution_count": 112,
     "metadata": {},
     "output_type": "execute_result"
    }
   ],
   "source": [
    "words_data_no_stopwords.tail(20)"
   ]
  },
  {
   "cell_type": "markdown",
   "metadata": {
    "id": "uRp3J1gQunlR"
   },
   "source": [
    "**Ответ:** работать с этими токенами не получится, но это не говорит, что, например, \n",
    "токен `prohibitions` (который в топ-20 самых редких) ни о чем не может нам сказать. Просто обработка текста путем сплита по пробелам может дать очень грубые усреднения, на которые можно ориентироваться, только когда ничего другого нет. Этим и займемся..\n",
    "\n"
   ]
  },
  {
   "cell_type": "markdown",
   "metadata": {
    "id": "wx9LQOSPzvjV"
   },
   "source": [
    "Теперь воспользуемся токенайзером получше - TweetTokenizer из библиотеки nltk. Примените его и посмотрите на топ-10 популярных слов. Чем он отличается от топа, который получался раньше? Почему?"
   ]
  },
  {
   "cell_type": "code",
   "execution_count": 113,
   "metadata": {
    "id": "2G1UkyVxzvFY"
   },
   "outputs": [
    {
     "data": {
      "text/plain": [
       "#coronavirus    8819\n",
       "19              7003\n",
       "covid           6087\n",
       "prices          4564\n",
       "food            4378\n",
       "store           3868\n",
       "supermarket     3858\n",
       "grocery         3451\n",
       "people          3422\n",
       "#covid19        2622\n",
       "dtype: int64"
      ]
     },
     "execution_count": 113,
     "metadata": {},
     "output_type": "execute_result"
    }
   ],
   "source": [
    "from nltk.tokenize import TweetTokenizer\n",
    "from string import punctuation\n",
    "\n",
    "tokens = {}\n",
    "tokenizer = TweetTokenizer()\n",
    "\n",
    "st_l = st_w + list(punctuation)\n",
    "\n",
    "def parse_tokens(text_sample):\n",
    "    ts = tokenizer.tokenize(text_sample)\n",
    "    for t in ts:\n",
    "        t = t.lower().strip()\n",
    "        if len(t) == 1 and ord(t) >= 128:\n",
    "            continue\n",
    "        if t not in st_l:\n",
    "            tokens[t] = tokens.get(t, 0) + 1\n",
    "\n",
    "X_train[\"OriginalTweet\"].apply(parse_tokens)\n",
    "\n",
    "tokens = pd.Series(tokens).sort_values(ascending=False)\n",
    "tokens.head(10)"
   ]
  },
  {
   "cell_type": "markdown",
   "metadata": {
    "id": "50eVUnJN1Zxl"
   },
   "source": [
    "**Ответ:** в целом, усреднение по сплиту оказалось полезнее, чем можно было предположить.\n",
    "Топ значений сохранился, как и интерпретация всего этого дела."
   ]
  },
  {
   "cell_type": "markdown",
   "metadata": {
    "id": "1gqQgiMs11bs"
   },
   "source": [
    "Удалите из словаря стоп-слова и пунктуацию, посмотрите на новый топ-10 слов с количеством встреч, есть ли теперь в нем что-то не похожее на слова?"
   ]
  },
  {
   "cell_type": "code",
   "execution_count": 114,
   "metadata": {
    "id": "0yHWdFrp0Mup"
   },
   "outputs": [],
   "source": [
    "from string import punctuation\n",
    "\n",
    "# -- YOUR CODE HERE --"
   ]
  },
  {
   "cell_type": "markdown",
   "metadata": {
    "id": "8ZJqXELP_Yxy"
   },
   "source": [
    "**Ответ:** упс, уже сделал"
   ]
  },
  {
   "cell_type": "markdown",
   "metadata": {
    "id": "rzXjMsSB_kXB"
   },
   "source": [
    "Скорее всего в некоторых топах были неотображаемые символы или отдельные буквы не латинского алфавита. Уберем их: удалите из словаря токены из одного символа, позиция которого в таблице Unicode 128 и более (`ord(x) >= 128`)\n",
    "\n",
    "Выведите топ-10 самых популярных и топ-20 непопулярных слов. Чем полученные топы отличаются от итоговых топов, полученных при использовании токенизации по пробелам? Что теперь лучше, а что хуже?"
   ]
  },
  {
   "cell_type": "code",
   "execution_count": 115,
   "metadata": {
    "id": "1695hlkS_1-J"
   },
   "outputs": [
    {
     "data": {
      "text/plain": [
       "vix                        1\n",
       "shootout                   1\n",
       "https://t.co/dufpsf9hxa    1\n",
       "vigilance                  1\n",
       "https://t.co/aq8wnws32l    1\n",
       "@austen                    1\n",
       "https://t.co/xhxtz63vi3    1\n",
       "sudbury                    1\n",
       "@apickrellctv              1\n",
       "https://t.co/arv57dzgns    1\n",
       "https://t.co/buo2a3pald    1\n",
       "brightram                  1\n",
       "@qz                        1\n",
       "rejoin                     1\n",
       "@markneary18               1\n",
       "precludes                  1\n",
       "https://t.co/is6phumisa    1\n",
       "https://t.co/zf0x7ccmzz    1\n",
       "https://t.co/stswfpcjwy    1\n",
       "facade                     1\n",
       "dtype: int64"
      ]
     },
     "execution_count": 115,
     "metadata": {},
     "output_type": "execute_result"
    }
   ],
   "source": [
    "tokens.tail(20)"
   ]
  },
  {
   "cell_type": "markdown",
   "metadata": {
    "id": "KzjHAKIlDvc6"
   },
   "source": [
    "**Ответ:**\n",
    "\n",
    "Изначально я захардкодил пару неинформативных символов, добавив в стоп-лист, но увидев этот пункт изменил решение.\n",
    "\n",
    "Говоря о репрезентативности: топ остался тот же (или почти тот же, но новых выводов сделать нельзя), однако хвост оказался более репрезентативен. Несмотря на теги, ссылки и прочий смысловой мусор, о каких-то токенах мы можем рассуждать как о непопулярных, например, `wrinkles`, `ombudsman` "
   ]
  },
  {
   "cell_type": "markdown",
   "metadata": {
    "id": "EcDf9_6HB2zm"
   },
   "source": [
    "Выведите топ-10 популярных хештегов (токены, первые символы которых - #) с количеством встреч. Что можно сказать о них?"
   ]
  },
  {
   "cell_type": "code",
   "execution_count": 116,
   "metadata": {
    "id": "zk4fygCUBw3l"
   },
   "outputs": [
    {
     "data": {
      "text/plain": [
       "#coronavirus            8819\n",
       "#covid19                2622\n",
       "#covid_19               1790\n",
       "#covid2019               971\n",
       "#toiletpaper             728\n",
       "#covid                   641\n",
       "#socialdistancing        492\n",
       "#coronacrisis            437\n",
       "#pandemic                259\n",
       "#coronaviruspandemic     257\n",
       "#stayhome                228\n",
       "#coronavirusoutbreak     224\n",
       "#covid-19                218\n",
       "#stayathome              215\n",
       "#lockdown                215\n",
       "#corona                  212\n",
       "#stayhomesavelives       205\n",
       "#supermarket             200\n",
       "#retail                  191\n",
       "#panicbuying             188\n",
       "dtype: int64"
      ]
     },
     "execution_count": 116,
     "metadata": {},
     "output_type": "execute_result"
    }
   ],
   "source": [
    "hashtag_pattern = r'^#.+'\n",
    "\n",
    "hashtags_bool = tokens.index.str.match(hashtag_pattern)\n",
    "hashtags_index = tokens.index[hashtags_bool]\n",
    "\n",
    "hashtags = tokens.reindex(hashtags_index)\n",
    "hashtags.head(20)"
   ]
  },
  {
   "cell_type": "markdown",
   "metadata": {
    "id": "-6NeNWBkDxM7"
   },
   "source": [
    "**Ответ:** \n",
    "\n",
    "Выводы похожи на вывод для всех токенов, но с оговоркой. Кроме упоминаний базоых нужд, таких как туалетная бумага и магазины, можно заметить, что хештеги подсвечивают посыл, идею и внутренную ценность автора. Например, `stayhome`, `stayhomesavelives`, `socialdistancing` - явные призывы к действую. Возможно, имеет смысл удеелить хештегам больше внимания при обучении модели.\n",
    "\n",
    "*выбрал топ-20 для большей репрезентативности*"
   ]
  },
  {
   "cell_type": "markdown",
   "metadata": {
    "id": "LLYBg7caD5GA"
   },
   "source": [
    "То же самое проделайте для ссылок на сайт https://t.co Сравнима ли популярность ссылок с популярностью хештегов? Будет ли информация о ссылке на конкретную страницу полезна?"
   ]
  },
  {
   "cell_type": "code",
   "execution_count": 117,
   "metadata": {
    "id": "MXbm1oeaCK9S"
   },
   "outputs": [
    {
     "data": {
      "text/plain": [
       "https://t.co/oxa7swtond    4\n",
       "https://t.co/r7sagojsjg    4\n",
       "https://t.co/ymsemlvttd    3\n",
       "https://t.co/3kfuiojxep    3\n",
       "https://t.co/gu6b4xpqp4    3\n",
       "https://t.co/gp3eusapl8    3\n",
       "https://t.co/pe99mhrsat    3\n",
       "https://t.co/mlw1gfkzna    3\n",
       "https://t.co/catkegayoy    3\n",
       "https://t.co/e2znxajpre    3\n",
       "https://t.co/wrlhyzizaa    3\n",
       "https://t.co/hpo7uwkakl    3\n",
       "https://t.co/jpgmr5hcsc    3\n",
       "https://t.co/7txojqdl04    3\n",
       "https://t.co/g63rp042ho    3\n",
       "https://t.co/6yvykiab2c    3\n",
       "https://t.co/xpcm2xkj4o    3\n",
       "https://t.co/3gbbdpdjat    3\n",
       "https://t.co/2ulz8jrfqw    2\n",
       "https://t.co/pj4ricpwya    2\n",
       "dtype: int64"
      ]
     },
     "execution_count": 117,
     "metadata": {},
     "output_type": "execute_result"
    }
   ],
   "source": [
    "url_pattern = r'^https://t\\.co'\n",
    "\n",
    "url_bool = tokens.index.str.match(url_pattern)\n",
    "url_index = tokens.index[url_bool]\n",
    "\n",
    "links = tokens.reindex(url_index)\n",
    "links.head(20)"
   ]
  },
  {
   "cell_type": "markdown",
   "metadata": {
    "id": "at6lRYZ8A07N"
   },
   "source": [
    "**Ответ:** самая популярная ссылка имеет 5 твитов с ней, что очень мало. Так что нет, ссылки\n",
    "для анализа не принесут ничего полезного, так как малое количесво данных не может позволить сделать какие-то знаяимые связи."
   ]
  },
  {
   "cell_type": "markdown",
   "metadata": {
    "id": "IOGdUU1kBU1D"
   },
   "source": [
    "Используем опыт предыдущих экспериментов и напишем собственный токенайзер, улучшив TweetTokenizer. Функция tokenize должна:\n",
    "\n",
    "\n",
    "\n",
    "*   Привести текст в нижний регистр\n",
    "*   Применить TweetTokenizer для  выделения токенов\n",
    "*   Удалить стоп-слова, пунктуацию, токены из одного символа с позицией в таблице Unicode 128 и более,  ссылки на t.co\n",
    "\n"
   ]
  },
  {
   "cell_type": "code",
   "execution_count": 118,
   "metadata": {
    "id": "ctEsB6xkFrrK"
   },
   "outputs": [],
   "source": [
    "# не думал не гадал, но уже почти написал его выше\n",
    "\n",
    "from nltk.tokenize import TweetTokenizer\n",
    "from string import punctuation\n",
    "import re\n",
    "\n",
    "tokenizer = TweetTokenizer()\n",
    "\n",
    "st_l = st_w + list(punctuation)\n",
    "\n",
    "def custom_tokenizer(text):\n",
    "    tokens = []\n",
    "    ts = tokenizer.tokenize(text)\n",
    "    \n",
    "    for t in ts:\n",
    "        t = t.lower().strip()\n",
    "        \n",
    "        if len(t) == 1 and ord(t) >= 128:\n",
    "            continue\n",
    "        if len(re.findall(url_pattern, t)) > 0:\n",
    "            continue\n",
    "        if t in st_l:\n",
    "            continue\n",
    "\n",
    "        tokens.append(t)\n",
    "\n",
    "    return tokens\n"
   ]
  },
  {
   "cell_type": "code",
   "execution_count": 119,
   "metadata": {
    "colab": {
     "base_uri": "https://localhost:8080/"
    },
    "id": "XwbgtYkJGYym",
    "outputId": "5808765b-3448-45e6-ccc1-7cd65f6371ef"
   },
   "outputs": [
    {
     "data": {
      "text/plain": [
       "['sample', 'text', '@sample_text', '#sampletext']"
      ]
     },
     "execution_count": 119,
     "metadata": {},
     "output_type": "execute_result"
    }
   ],
   "source": [
    "custom_tokenizer('This is sample text!!!! @Sample_text I, \\x92\\x92 https://t.co  #sampletext')"
   ]
  },
  {
   "cell_type": "markdown",
   "metadata": {
    "id": "wURVABmXHk97"
   },
   "source": [
    "## Задание 3 Векторизация текстов (2 балла)"
   ]
  },
  {
   "cell_type": "markdown",
   "metadata": {
    "id": "H44iXkoHIQfN"
   },
   "source": [
    "Обучите CountVectorizer с использованием custom_tokenizer в качестве токенайзера. Как размер полученного словаря соотносится с размером изначального словаря из начала задания 2?"
   ]
  },
  {
   "cell_type": "code",
   "execution_count": 120,
   "metadata": {},
   "outputs": [
    {
     "data": {
      "text/plain": [
       "(23410, 5)"
      ]
     },
     "execution_count": 120,
     "metadata": {},
     "output_type": "execute_result"
    }
   ],
   "source": [
    "X_train.shape"
   ]
  },
  {
   "cell_type": "code",
   "execution_count": 121,
   "metadata": {
    "colab": {
     "base_uri": "https://localhost:8080/"
    },
    "id": "gHn_limQl3BI",
    "outputId": "8e9c1826-319f-4376-f06e-c30c2eb82648"
   },
   "outputs": [
    {
     "name": "stdout",
     "output_type": "stream",
     "text": [
      "45315\n"
     ]
    }
   ],
   "source": [
    "from sklearn.feature_extraction.text import CountVectorizer\n",
    "\n",
    "cv = CountVectorizer(tokenizer=custom_tokenizer)\n",
    "cv.fit_transform(X_train[\"OriginalTweet\"])\n",
    "\n",
    "print(len(cv.vocabulary_))"
   ]
  },
  {
   "cell_type": "markdown",
   "metadata": {
    "id": "gsfmaSGoItUm"
   },
   "source": [
    "**Ответ:** # -- YOUR ANSWER HERE --\n",
    "\n",
    "было: 45308"
   ]
  },
  {
   "cell_type": "markdown",
   "metadata": {
    "id": "lm6UHNmqKZT0"
   },
   "source": [
    "Посмотрим на какой-нибудь конкретный твитт:"
   ]
  },
  {
   "cell_type": "code",
   "execution_count": 122,
   "metadata": {
    "id": "aJVjjfqOJh8m"
   },
   "outputs": [
    {
     "data": {
      "text/plain": [
       "(\"Shop keepers taking advantage of #Coronavirus boosting prices disproportionately so the most Marginalised suffer who can't afford it #SHAMEONYOU #Wewillremember\",\n",
       " 0)"
      ]
     },
     "execution_count": 122,
     "metadata": {},
     "output_type": "execute_result"
    }
   ],
   "source": [
    "ind = 9023\n",
    "df.iloc[ind]['OriginalTweet'], df.iloc[ind]['Sentiment']"
   ]
  },
  {
   "cell_type": "markdown",
   "metadata": {
    "id": "PBMIHBI5KdaS"
   },
   "source": [
    "Автор твитта не доволен ситуацией с едой во Франции и текст имеет резко негативную окраску.\n",
    "\n",
    "Примените обученный CountVectorizer для векторизации данного текста, и попытайтесь определить самый важный токен и самый неважный токен (токен, компонента которого в векторе максимальна/минимальна, без учета 0). Хорошо ли они определились, почему?"
   ]
  },
  {
   "cell_type": "code",
   "execution_count": 123,
   "metadata": {
    "id": "7NcAllaEKsJj"
   },
   "outputs": [
    {
     "data": {
      "text/plain": [
       "#shameonyou           1\n",
       "shop                  1\n",
       "advantage             1\n",
       "#coronavirus          1\n",
       "taking                1\n",
       "disproportionately    1\n",
       "suffer                1\n",
       "can't                 1\n",
       "keepers               1\n",
       "prices                1\n",
       "marginalised          1\n",
       "#wewillremember       1\n",
       "afford                1\n",
       "boosting              1\n",
       "interrupted           0\n",
       "interruptions         0\n",
       "interrupters          0\n",
       "interruption          0\n",
       "###covid-19           0\n",
       "intersection          0\n",
       "dtype: int64"
      ]
     },
     "execution_count": 123,
     "metadata": {},
     "output_type": "execute_result"
    }
   ],
   "source": [
    "arr = cv.transform([df.iloc[ind]['OriginalTweet']]).toarray()\n",
    "bof = pd.Series(arr.reshape(-1), index=cv.get_feature_names_out())\n",
    "bof = bof.sort_values(ascending=False)\n",
    "bof.head(20)"
   ]
  },
  {
   "cell_type": "markdown",
   "metadata": {
    "id": "TpEsl1k_NF4T"
   },
   "source": [
    "**Ответ:** самых важных слово в тексте - 11, ровно столько в нем токенов.\n",
    "То есть каждое слово имеет одинаковый вес в данном представлении. То есть мы не смогли отпределить самого важногог токена."
   ]
  },
  {
   "cell_type": "markdown",
   "metadata": {
    "id": "w4DsEQpLO3J6"
   },
   "source": [
    "Теперь примените TfidfVectorizer и  определите самый важный/неважный токены. Хорошо ли определились, почему?"
   ]
  },
  {
   "cell_type": "code",
   "execution_count": 124,
   "metadata": {
    "id": "uSNzdK3ENGB3"
   },
   "outputs": [
    {
     "data": {
      "text/plain": [
       "marginalised          0.372229\n",
       "#wewillremember       0.372229\n",
       "#shameonyou           0.357672\n",
       "disproportionately    0.332786\n",
       "keepers               0.322457\n",
       "boosting              0.305027\n",
       "suffer                0.273826\n",
       "afford                0.226760\n",
       "advantage             0.210476\n",
       "can't                 0.195721\n",
       "taking                0.185294\n",
       "shop                  0.171499\n",
       "prices                0.096851\n",
       "#coronavirus          0.071150\n",
       "dtype: float64"
      ]
     },
     "execution_count": 124,
     "metadata": {},
     "output_type": "execute_result"
    }
   ],
   "source": [
    "from sklearn.feature_extraction.text import TfidfVectorizer\n",
    "\n",
    "tfidf_vec = TfidfVectorizer(tokenizer=custom_tokenizer)\n",
    "tfidf_vec.fit(X_train[\"OriginalTweet\"])\n",
    "\n",
    "ans = tfidf_vec.transform([df.iloc[ind]['OriginalTweet']]).toarray()\n",
    "\n",
    "needed_indexes = custom_tokenizer(df.iloc[ind]['OriginalTweet'])\n",
    "\n",
    "sample_v = pd.Series(ans.reshape(-1), index=tfidf_vec.get_feature_names_out())\n",
    "sample_v = sample_v.reindex(needed_indexes)\n",
    "sample_v = sample_v.sort_values(ascending=False)\n",
    "sample_v.head(20)"
   ]
  },
  {
   "cell_type": "markdown",
   "metadata": {
    "id": "NYao_UhqQADm"
   },
   "source": [
    "**Ответ:**\n",
    "\n",
    "Маргинализировать в самом деле обычно имеет негативную окраску как что-то непопулярное и отталкивающие массы. Так что браво! Да и весь топ-3 (который очень похож по важности) сильно передает негативную окраску текстов. \n",
    "\n",
    "И последнему месту браво не меньше, ведь коронавирус упоминаются в таком большом количестве твитов, что на этот токен не имеет смысла ориентироваться."
   ]
  },
  {
   "cell_type": "markdown",
   "metadata": {},
   "source": [
    "-------------"
   ]
  },
  {
   "cell_type": "markdown",
   "metadata": {
    "id": "LGRJPqfWSesQ"
   },
   "source": [
    "Найдите какой-нибудь положительно окрашенный твитт, где TfidfVectorizer хорошо (полезно для определения окраски) выделяет важный токен, поясните пример.\n",
    "\n",
    "*Подсказка:* явно положительные твитты можно искать при помощи положительных слов (good, great, amazing и т. д.)"
   ]
  },
  {
   "cell_type": "code",
   "execution_count": 125,
   "metadata": {
    "id": "jSjbKPCWk87K"
   },
   "outputs": [
    {
     "data": {
      "text/plain": [
       "\"On the way home, I wanted to stop by a grocery store for a few items but I didn't. It can wait. I hope my decision today saved a life or two! #DidntDoList #StayHomeSaveLives\""
      ]
     },
     "execution_count": 125,
     "metadata": {},
     "output_type": "execute_result"
    }
   ],
   "source": [
    "idx = 33169\n",
    "\n",
    "# в предложении есть слово \"hope\"\n",
    "sample = df.iloc[idx]\n",
    "sample[\"OriginalTweet\"]"
   ]
  },
  {
   "cell_type": "code",
   "execution_count": 126,
   "metadata": {},
   "outputs": [
    {
     "data": {
      "text/plain": [
       "#didntdolist          0.444726\n",
       "saved                 0.341868\n",
       "decision              0.306653\n",
       "wanted                0.289260\n",
       "wait                  0.266668\n",
       "#stayhomesavelives    0.245920\n",
       "hope                  0.233062\n",
       "life                  0.232755\n",
       "two                   0.223306\n",
       "items                 0.207798\n",
       "way                   0.205628\n",
       "stop                  0.191945\n",
       "today                 0.189251\n",
       "home                  0.168751\n",
       "grocery               0.126756\n",
       "store                 0.122579\n",
       "dtype: float64"
      ]
     },
     "execution_count": 126,
     "metadata": {},
     "output_type": "execute_result"
    }
   ],
   "source": [
    "needed_indexes = custom_tokenizer(df.iloc[idx]['OriginalTweet'])\n",
    "\n",
    "ans = tfidf_vec.transform([df.iloc[idx]['OriginalTweet']]).toarray()\n",
    "\n",
    "sample_v = pd.Series(ans.reshape(-1), index=tfidf_vec.get_feature_names_out())\n",
    "sample_v = sample_v.reindex(needed_indexes)\n",
    "sample_v = sample_v.sort_values(ascending=False)\n",
    "sample_v.head(20)"
   ]
  },
  {
   "cell_type": "markdown",
   "metadata": {
    "id": "JTv9ST2_U6NA"
   },
   "source": [
    "**Ответ:** Сравнивая мое предположительный токен: `hope`, и токен, выделенный\n",
    "алгоритмом, я склоняюсь к его версии! `saved` сразу навеевает позитив на сообщение. А что значит `#didntdolist` я так и не понял "
   ]
  },
  {
   "cell_type": "markdown",
   "metadata": {
    "id": "JVEuZm8BHms6"
   },
   "source": [
    "## Задание 4 Обучение первых моделей (1 балл)"
   ]
  },
  {
   "cell_type": "markdown",
   "metadata": {
    "id": "JADkO3sfXdOG"
   },
   "source": [
    "Примените оба векторайзера для получения матриц с признаками текстов.  Выделите целевую переменную."
   ]
  },
  {
   "cell_type": "code",
   "execution_count": 127,
   "metadata": {
    "id": "DguoiXhCX2oN"
   },
   "outputs": [],
   "source": [
    "simple_cv_train = cv.transform(X_train['OriginalTweet'])\n",
    "tfidf_vc_train = tfidf_vec.transform(X_train['OriginalTweet'])\n",
    "\n",
    "simple_cv_test = cv.transform(X_test['OriginalTweet'])\n",
    "tfidf_vc_test = tfidf_vec.transform(X_test['OriginalTweet'])"
   ]
  },
  {
   "cell_type": "markdown",
   "metadata": {
    "id": "_FX1KSOfYSx4"
   },
   "source": [
    "Обучите логистическую регрессию на векторах из обоих векторайзеров. Посчитайте долю правильных ответов на обучающих и тестовых данных. Какой векторайзер показал лучший результат? Что можно сказать о моделях?\n",
    "\n",
    "Используйте `sparse` матрицы (после векторизации), не превращайте их в `numpy.ndarray` или `pd.DataFrame` - может не хватить памяти."
   ]
  },
  {
   "cell_type": "code",
   "execution_count": 128,
   "metadata": {
    "id": "-Tb3eh8UXJ6v"
   },
   "outputs": [
    {
     "data": {
      "text/plain": [
       "count_train    0.984195\n",
       "count_test     0.870540\n",
       "tfidf_train    0.924306\n",
       "tfidf_test     0.850807\n",
       "dtype: float64"
      ]
     },
     "execution_count": 128,
     "metadata": {},
     "output_type": "execute_result"
    }
   ],
   "source": [
    "from sklearn.linear_model import LogisticRegression\n",
    "from sklearn.metrics import accuracy_score\n",
    "\n",
    "lr_simple = LogisticRegression()\n",
    "lr_tfidf = LogisticRegression()\n",
    "\n",
    "lr_simple.fit(simple_cv_train, y_train)\n",
    "lr_tfidf.fit(tfidf_vc_train, y_train)\n",
    "\n",
    "simple_cv_train_pred = lr_simple.predict(simple_cv_train)\n",
    "tfidf_cv_train_pred = lr_tfidf.predict(tfidf_vc_train)\n",
    "\n",
    "simple_cv_test_pred = lr_simple.predict(simple_cv_test)\n",
    "tfidf_cv_test_pred = lr_tfidf.predict(tfidf_vc_test)\n",
    "\n",
    "data_accuracy = {\n",
    "    \"count_train\": accuracy_score(simple_cv_train_pred, y_train),\n",
    "    \"count_test\": accuracy_score(simple_cv_test_pred, y_test),\n",
    "    \"tfidf_train\": accuracy_score(tfidf_cv_train_pred, y_train),\n",
    "    \"tfidf_test\": accuracy_score(tfidf_cv_test_pred, y_test),\n",
    "}\n",
    "\n",
    "pd.Series(data_accuracy)"
   ]
  },
  {
   "cell_type": "markdown",
   "metadata": {
    "id": "8y_wO7rCmv7K"
   },
   "source": [
    "**Ответ:** на наших моделях себя лучше показал логистический регрессор,\n",
    "и на `test`, и на `train` выборках. Получается, на данном примере себя намного лучше показал вариант векторизации попроще. Интерпретирвоать это сложно, на самом деле, но поптаюсь:\n",
    "\n",
    "ладно, я не знаю, сдаюсь..."
   ]
  },
  {
   "cell_type": "markdown",
   "metadata": {
    "id": "rSOR1i3mjrys"
   },
   "source": [
    "## Задание 5 Стемминг (0.5 балла)"
   ]
  },
  {
   "cell_type": "markdown",
   "metadata": {
    "id": "i6ONBWNPjuq-"
   },
   "source": [
    "Для уменьшения словаря можно использовать стемминг.\n",
    "\n",
    "Модифицируйте написанный токенайзер, добавив в него стемминг с использованием SnowballStemmer. Обучите Count- и Tfidf- векторайзеры. Как изменился размер словаря?"
   ]
  },
  {
   "cell_type": "code",
   "execution_count": 129,
   "metadata": {
    "id": "oVfA2-iMkQBb"
   },
   "outputs": [],
   "source": [
    "from nltk.tokenize import TweetTokenizer\n",
    "from nltk.stem.snowball import SnowballStemmer\n",
    "from string import punctuation\n",
    "import re\n",
    "\n",
    "tokenizer = TweetTokenizer()\n",
    "stemmer = SnowballStemmer(\"english\")\n",
    "st_l = st_w + list(punctuation)\n",
    "\n",
    "def custom_stem_tokenizer(text):\n",
    "    tokens = []\n",
    "    ts = tokenizer.tokenize(text)\n",
    "    ts = [stemmer.stem(t) for t in ts]\n",
    "    \n",
    "    for t in ts:\n",
    "        t = t.lower().strip()\n",
    "        \n",
    "        if len(t) == 1 and ord(t) >= 128:\n",
    "            continue\n",
    "        if len(re.findall(url_pattern, t)) > 0:\n",
    "            continue\n",
    "        if t in st_l:\n",
    "            continue\n",
    "\n",
    "        tokens.append(t)\n",
    "\n",
    "    return tokens"
   ]
  },
  {
   "cell_type": "code",
   "execution_count": 130,
   "metadata": {
    "colab": {
     "base_uri": "https://localhost:8080/"
    },
    "id": "9QmrjYtqnlPd",
    "outputId": "cd91291d-9676-4611-9fc4-28afaed58963"
   },
   "outputs": [
    {
     "data": {
      "text/plain": [
       "['sampl', 'text', '@sample_text', '#sampletext', 'ad', 'word', 'check', 'stem']"
      ]
     },
     "execution_count": 130,
     "metadata": {},
     "output_type": "execute_result"
    }
   ],
   "source": [
    "custom_stem_tokenizer('This is sample text!!!! @Sample_text I, \\x92\\x92 https://t.co/sample  #sampletext adding more words to check stemming')"
   ]
  },
  {
   "cell_type": "code",
   "execution_count": 131,
   "metadata": {
    "colab": {
     "base_uri": "https://localhost:8080/"
    },
    "id": "zAvUTmaplzOS",
    "outputId": "566207fe-183b-4ed6-d333-f86f0cc9ae38"
   },
   "outputs": [
    {
     "name": "stdout",
     "output_type": "stream",
     "text": [
      "36662\n"
     ]
    }
   ],
   "source": [
    "cv = CountVectorizer(tokenizer=custom_stem_tokenizer)\n",
    "cv.fit(X_train[\"OriginalTweet\"])\n",
    "\n",
    "print(len(cv.vocabulary_))"
   ]
  },
  {
   "cell_type": "markdown",
   "metadata": {
    "id": "Oyzs5TaAoHP6"
   },
   "source": [
    "**Ответ** Что предсказуемо, словарных запас значительно сохранился, ведь \n",
    "функция стемминга от невозрастающая (слов станосится меньше или равно). А так как наш корпус текстов был велик, он уменьшился."
   ]
  },
  {
   "cell_type": "markdown",
   "metadata": {
    "id": "1OkncHI8oRmd"
   },
   "source": [
    "Обучите логистическую регрессию с использованием обоих векторайзеров. Изменилось ли качество? Есть ли смысл применять стемминг?"
   ]
  },
  {
   "cell_type": "code",
   "execution_count": 132,
   "metadata": {},
   "outputs": [],
   "source": [
    "count_vc_stemed = CountVectorizer(tokenizer=custom_stem_tokenizer)\n",
    "tfidf_vc_stemed = TfidfVectorizer(tokenizer=custom_stem_tokenizer)\n",
    "\n",
    "count_vc_stemed.fit(X_train[\"OriginalTweet\"])\n",
    "tfidf_vc_stemed.fit(X_train[\"OriginalTweet\"])\n",
    "\n",
    "count_vc_test = count_vc_stemed.transform(X_test[\"OriginalTweet\"])\n",
    "count_vc_train = count_vc_stemed.transform(X_train[\"OriginalTweet\"])\n",
    "\n",
    "tfidf_vc_test = tfidf_vc_stemed.transform(X_test[\"OriginalTweet\"])\n",
    "tfidf_vc_train = tfidf_vc_stemed.transform(X_train[\"OriginalTweet\"])"
   ]
  },
  {
   "cell_type": "code",
   "execution_count": 133,
   "metadata": {
    "id": "ykZJPphEoZ5W"
   },
   "outputs": [
    {
     "data": {
      "text/plain": [
       "count_train    0.971038\n",
       "count_test     0.868846\n",
       "tfidf_train    0.916104\n",
       "tfidf_test     0.855990\n",
       "dtype: float64"
      ]
     },
     "execution_count": 133,
     "metadata": {},
     "output_type": "execute_result"
    }
   ],
   "source": [
    "lr_count = LogisticRegression()\n",
    "lr_tfidf = LogisticRegression()\n",
    "\n",
    "lr_count.fit(count_vc_train, y_train)\n",
    "lr_tfidf.fit(tfidf_vc_train, y_train)\n",
    "\n",
    "count_train_pred = lr_count.predict(count_vc_train)\n",
    "tfidf_train_pred = lr_tfidf.predict(tfidf_vc_train)\n",
    "\n",
    "count_test_pred = lr_count.predict(count_vc_test)\n",
    "tfidf_test_pred = lr_tfidf.predict(tfidf_vc_test)\n",
    "\n",
    "data_stem_accuracy = {\n",
    "    \"count_train\": accuracy_score(count_train_pred, y_train),\n",
    "    \"count_test\": accuracy_score(count_test_pred, y_test),\n",
    "    \"tfidf_train\": accuracy_score(tfidf_train_pred, y_train),\n",
    "    \"tfidf_test\": accuracy_score(tfidf_test_pred, y_test),\n",
    "}\n",
    "\n",
    "pd.Series(data_stem_accuracy)\n"
   ]
  },
  {
   "cell_type": "markdown",
   "metadata": {
    "id": "bCRlrODro0h8"
   },
   "source": [
    "**Ответ:** применив стеминг значения при `CountVectorizer` почти не изменились\n",
    "(что даже похоже на ошибку, но вроде нет), и `TfidfVectirizer` изменился несущественно: минус процент на обучающей, плюс процент на тестовой. В данно мпримере нет смсла использовать стемминг. Качество моделей меняется несущественно."
   ]
  },
  {
   "cell_type": "markdown",
   "metadata": {
    "id": "hYWGQNEDqLC-"
   },
   "source": [
    "## Задание  6 Работа с частотами (1.5 балла)"
   ]
  },
  {
   "cell_type": "markdown",
   "metadata": {
    "id": "8Hq-tl5mqUSn"
   },
   "source": [
    "Еще один способ уменьшить количество признаков - это использовать параметры min_df и max_df при построении векторайзера  эти параметры помогают ограничить требуемую частоту встречаемости токена в документах.\n",
    "\n",
    "По умолчанию берутся все токены, которые встретились хотя бы один раз.\n",
    "\n"
   ]
  },
  {
   "cell_type": "markdown",
   "metadata": {
    "id": "m1SiD4DE3WZ2"
   },
   "source": [
    "Подберите max_df такой, что размер словаря будет 36651 (на 1 меньше, чем было). Почему параметр получился такой большой/маленький?"
   ]
  },
  {
   "cell_type": "code",
   "execution_count": 146,
   "metadata": {
    "id": "tyEpkJUkjnuK"
   },
   "outputs": [
    {
     "name": "stdout",
     "output_type": "stream",
     "text": [
      "36650 0.1\n",
      "36661 0.325\n",
      "36662 0.55\n",
      "36662 0.775\n",
      "36662 1.0\n"
     ]
    }
   ],
   "source": [
    "possible = np.linspace(0.1, 1, 5)\n",
    "for p in possible:\n",
    "    cv_df = CountVectorizer(tokenizer=custom_stem_tokenizer,\n",
    "                        max_df=p\n",
    "                        ).fit(\n",
    "                            X_train[\"OriginalTweet\"]\n",
    "                            )\n",
    "    print(len(cv_df.vocabulary_), p)"
   ]
  },
  {
   "cell_type": "markdown",
   "metadata": {
    "id": "UdZYoGZR4UsA"
   },
   "source": [
    "**Ответ:** получается, только 2 слова встречались в более чем 10% текстов,\n",
    "и только одно в более чем  в 32.5% текстов. Значение в ответ - 0.325, так как оно вычеркивает одно значение из текста.\n",
    "\n",
    "Это можно интерпретировать так: люди редко используют одни и те же слова (токены) (не считая мусорные stop-words), когда пишут посты."
   ]
  },
  {
   "cell_type": "markdown",
   "metadata": {
    "id": "_gRIUaB1u32f"
   },
   "source": [
    "Подберите min_df (используйте дефолтное значение max_df) в CountVectorizer таким образом, чтобы размер словаря был 3700 токенов (при использовании токенайзера со стеммингом), а качество осталось таким же, как и было. Что можно сказать о результатах?"
   ]
  },
  {
   "cell_type": "code",
   "execution_count": 161,
   "metadata": {
    "id": "mvMDwpdfjm8Y"
   },
   "outputs": [],
   "source": [
    "def din_search(l, r, res):\n",
    "    eps = 1e-10\n",
    "    while (r - l) > eps:\n",
    "        mid = (l + r) / 2\n",
    "        \n",
    "        cv_df = CountVectorizer(tokenizer=custom_stem_tokenizer,\n",
    "                        min_df=mid\n",
    "                        ).fit(\n",
    "                            X_train[\"OriginalTweet\"]\n",
    "                            )\n",
    "        cur_amount = len(cv_df.vocabulary_)\n",
    "\n",
    "        print(cur_amount, l, r)\n",
    "\n",
    "        if cur_amount < res: # то есть слов у нас мало, надо больше слов! надо уменьшить границу\n",
    "            r = mid\n",
    "        elif cur_amount == 3700:\n",
    "            return mid\n",
    "        else:\n",
    "            l = mid\n",
    "        \n",
    "    return l"
   ]
  },
  {
   "cell_type": "code",
   "execution_count": 162,
   "metadata": {},
   "outputs": [
    {
     "name": "stdout",
     "output_type": "stream",
     "text": [
      "36 0.0001 0.1\n",
      "104 0.0001 0.050050000000000004\n",
      "244 0.0001 0.025075000000000004\n",
      "523 0.0001 0.012587500000000001\n",
      "974 0.0001 0.00634375\n",
      "1620 0.0001 0.0032218750000000003\n",
      "2436 0.0001 0.0016609375\n",
      "3513 0.0001 0.0008804687500000001\n",
      "5006 0.0001 0.000490234375\n",
      "3933 0.0002951171875 0.000490234375\n",
      "3698 0.00039267578125 0.000490234375\n",
      "3933 0.00039267578125 0.000441455078125\n",
      "3698 0.0004170654296875 0.000441455078125\n",
      "3933 0.0004170654296875 0.00042926025390624997\n",
      "3933 0.000423162841796875 0.00042926025390624997\n",
      "3698 0.00042621154785156247 0.00042926025390624997\n",
      "3933 0.00042621154785156247 0.00042773590087890625\n",
      "3698 0.00042697372436523433 0.00042773590087890625\n",
      "3933 0.00042697372436523433 0.0004273548126220703\n",
      "3698 0.0004271642684936523 0.0004273548126220703\n",
      "3698 0.0004271642684936523 0.0004272595405578613\n",
      "3698 0.0004271642684936523 0.0004272119045257568\n",
      "3698 0.0004271642684936523 0.00042718808650970457\n",
      "3698 0.0004271642684936523 0.0004271761775016784\n",
      "3933 0.0004271642684936523 0.00042717022299766535\n",
      "3698 0.00042716724574565885 0.00042717022299766535\n",
      "3698 0.00042716724574565885 0.00042716873437166213\n",
      "3933 0.00042716724574565885 0.0004271679900586605\n",
      "3933 0.00042716761790215967 0.0004271679900586605\n"
     ]
    },
    {
     "ename": "KeyboardInterrupt",
     "evalue": "",
     "output_type": "error",
     "traceback": [
      "\u001b[0;31m---------------------------------------------------------------------------\u001b[0m",
      "\u001b[0;31mKeyboardInterrupt\u001b[0m                         Traceback (most recent call last)",
      "Cell \u001b[0;32mIn[162], line 1\u001b[0m\n\u001b[0;32m----> 1\u001b[0m din_search(\u001b[38;5;241m0.0001\u001b[39m, \u001b[38;5;241m0.1\u001b[39m, \u001b[38;5;241m3700\u001b[39m)\n",
      "Cell \u001b[0;32mIn[161], line 8\u001b[0m, in \u001b[0;36mdin_search\u001b[0;34m(l, r, res)\u001b[0m\n\u001b[1;32m      3\u001b[0m \u001b[38;5;28;01mwhile\u001b[39;00m (r \u001b[38;5;241m-\u001b[39m l) \u001b[38;5;241m>\u001b[39m eps:\n\u001b[1;32m      4\u001b[0m     mid \u001b[38;5;241m=\u001b[39m (l \u001b[38;5;241m+\u001b[39m r) \u001b[38;5;241m/\u001b[39m \u001b[38;5;241m2\u001b[39m\n\u001b[1;32m      6\u001b[0m     cv_df \u001b[38;5;241m=\u001b[39m CountVectorizer(tokenizer\u001b[38;5;241m=\u001b[39mcustom_stem_tokenizer,\n\u001b[1;32m      7\u001b[0m                     min_df\u001b[38;5;241m=\u001b[39mmid\n\u001b[0;32m----> 8\u001b[0m                     )\u001b[38;5;241m.\u001b[39mfit(\n\u001b[1;32m      9\u001b[0m                         X_train[\u001b[38;5;124m\"\u001b[39m\u001b[38;5;124mOriginalTweet\u001b[39m\u001b[38;5;124m\"\u001b[39m]\n\u001b[1;32m     10\u001b[0m                         )\n\u001b[1;32m     11\u001b[0m     cur_amount \u001b[38;5;241m=\u001b[39m \u001b[38;5;28mlen\u001b[39m(cv_df\u001b[38;5;241m.\u001b[39mvocabulary_)\n\u001b[1;32m     13\u001b[0m     \u001b[38;5;28mprint\u001b[39m(cur_amount, l, r)\n",
      "File \u001b[0;32m/opt/miniconda3/lib/python3.12/site-packages/sklearn/feature_extraction/text.py:1323\u001b[0m, in \u001b[0;36mCountVectorizer.fit\u001b[0;34m(self, raw_documents, y)\u001b[0m\n\u001b[1;32m   1307\u001b[0m \u001b[38;5;28;01mdef\u001b[39;00m \u001b[38;5;21mfit\u001b[39m(\u001b[38;5;28mself\u001b[39m, raw_documents, y\u001b[38;5;241m=\u001b[39m\u001b[38;5;28;01mNone\u001b[39;00m):\n\u001b[1;32m   1308\u001b[0m \u001b[38;5;250m    \u001b[39m\u001b[38;5;124;03m\"\"\"Learn a vocabulary dictionary of all tokens in the raw documents.\u001b[39;00m\n\u001b[1;32m   1309\u001b[0m \n\u001b[1;32m   1310\u001b[0m \u001b[38;5;124;03m    Parameters\u001b[39;00m\n\u001b[0;32m   (...)\u001b[0m\n\u001b[1;32m   1321\u001b[0m \u001b[38;5;124;03m        Fitted vectorizer.\u001b[39;00m\n\u001b[1;32m   1322\u001b[0m \u001b[38;5;124;03m    \"\"\"\u001b[39;00m\n\u001b[0;32m-> 1323\u001b[0m     \u001b[38;5;28mself\u001b[39m\u001b[38;5;241m.\u001b[39mfit_transform(raw_documents)\n\u001b[1;32m   1324\u001b[0m     \u001b[38;5;28;01mreturn\u001b[39;00m \u001b[38;5;28mself\u001b[39m\n",
      "File \u001b[0;32m/opt/miniconda3/lib/python3.12/site-packages/sklearn/base.py:1473\u001b[0m, in \u001b[0;36m_fit_context.<locals>.decorator.<locals>.wrapper\u001b[0;34m(estimator, *args, **kwargs)\u001b[0m\n\u001b[1;32m   1466\u001b[0m     estimator\u001b[38;5;241m.\u001b[39m_validate_params()\n\u001b[1;32m   1468\u001b[0m \u001b[38;5;28;01mwith\u001b[39;00m config_context(\n\u001b[1;32m   1469\u001b[0m     skip_parameter_validation\u001b[38;5;241m=\u001b[39m(\n\u001b[1;32m   1470\u001b[0m         prefer_skip_nested_validation \u001b[38;5;129;01mor\u001b[39;00m global_skip_validation\n\u001b[1;32m   1471\u001b[0m     )\n\u001b[1;32m   1472\u001b[0m ):\n\u001b[0;32m-> 1473\u001b[0m     \u001b[38;5;28;01mreturn\u001b[39;00m fit_method(estimator, \u001b[38;5;241m*\u001b[39margs, \u001b[38;5;241m*\u001b[39m\u001b[38;5;241m*\u001b[39mkwargs)\n",
      "File \u001b[0;32m/opt/miniconda3/lib/python3.12/site-packages/sklearn/feature_extraction/text.py:1372\u001b[0m, in \u001b[0;36mCountVectorizer.fit_transform\u001b[0;34m(self, raw_documents, y)\u001b[0m\n\u001b[1;32m   1364\u001b[0m             warnings\u001b[38;5;241m.\u001b[39mwarn(\n\u001b[1;32m   1365\u001b[0m                 \u001b[38;5;124m\"\u001b[39m\u001b[38;5;124mUpper case characters found in\u001b[39m\u001b[38;5;124m\"\u001b[39m\n\u001b[1;32m   1366\u001b[0m                 \u001b[38;5;124m\"\u001b[39m\u001b[38;5;124m vocabulary while \u001b[39m\u001b[38;5;124m'\u001b[39m\u001b[38;5;124mlowercase\u001b[39m\u001b[38;5;124m'\u001b[39m\u001b[38;5;124m\"\u001b[39m\n\u001b[1;32m   1367\u001b[0m                 \u001b[38;5;124m\"\u001b[39m\u001b[38;5;124m is True. These entries will not\u001b[39m\u001b[38;5;124m\"\u001b[39m\n\u001b[1;32m   1368\u001b[0m                 \u001b[38;5;124m\"\u001b[39m\u001b[38;5;124m be matched with any documents\u001b[39m\u001b[38;5;124m\"\u001b[39m\n\u001b[1;32m   1369\u001b[0m             )\n\u001b[1;32m   1370\u001b[0m             \u001b[38;5;28;01mbreak\u001b[39;00m\n\u001b[0;32m-> 1372\u001b[0m vocabulary, X \u001b[38;5;241m=\u001b[39m \u001b[38;5;28mself\u001b[39m\u001b[38;5;241m.\u001b[39m_count_vocab(raw_documents, \u001b[38;5;28mself\u001b[39m\u001b[38;5;241m.\u001b[39mfixed_vocabulary_)\n\u001b[1;32m   1374\u001b[0m \u001b[38;5;28;01mif\u001b[39;00m \u001b[38;5;28mself\u001b[39m\u001b[38;5;241m.\u001b[39mbinary:\n\u001b[1;32m   1375\u001b[0m     X\u001b[38;5;241m.\u001b[39mdata\u001b[38;5;241m.\u001b[39mfill(\u001b[38;5;241m1\u001b[39m)\n",
      "File \u001b[0;32m/opt/miniconda3/lib/python3.12/site-packages/sklearn/feature_extraction/text.py:1259\u001b[0m, in \u001b[0;36mCountVectorizer._count_vocab\u001b[0;34m(self, raw_documents, fixed_vocab)\u001b[0m\n\u001b[1;32m   1257\u001b[0m \u001b[38;5;28;01mfor\u001b[39;00m doc \u001b[38;5;129;01min\u001b[39;00m raw_documents:\n\u001b[1;32m   1258\u001b[0m     feature_counter \u001b[38;5;241m=\u001b[39m {}\n\u001b[0;32m-> 1259\u001b[0m     \u001b[38;5;28;01mfor\u001b[39;00m feature \u001b[38;5;129;01min\u001b[39;00m analyze(doc):\n\u001b[1;32m   1260\u001b[0m         \u001b[38;5;28;01mtry\u001b[39;00m:\n\u001b[1;32m   1261\u001b[0m             feature_idx \u001b[38;5;241m=\u001b[39m vocabulary[feature]\n",
      "File \u001b[0;32m/opt/miniconda3/lib/python3.12/site-packages/sklearn/feature_extraction/text.py:110\u001b[0m, in \u001b[0;36m_analyze\u001b[0;34m(doc, analyzer, tokenizer, ngrams, preprocessor, decoder, stop_words)\u001b[0m\n\u001b[1;32m    108\u001b[0m     doc \u001b[38;5;241m=\u001b[39m preprocessor(doc)\n\u001b[1;32m    109\u001b[0m \u001b[38;5;28;01mif\u001b[39;00m tokenizer \u001b[38;5;129;01mis\u001b[39;00m \u001b[38;5;129;01mnot\u001b[39;00m \u001b[38;5;28;01mNone\u001b[39;00m:\n\u001b[0;32m--> 110\u001b[0m     doc \u001b[38;5;241m=\u001b[39m tokenizer(doc)\n\u001b[1;32m    111\u001b[0m \u001b[38;5;28;01mif\u001b[39;00m ngrams \u001b[38;5;129;01mis\u001b[39;00m \u001b[38;5;129;01mnot\u001b[39;00m \u001b[38;5;28;01mNone\u001b[39;00m:\n\u001b[1;32m    112\u001b[0m     \u001b[38;5;28;01mif\u001b[39;00m stop_words \u001b[38;5;129;01mis\u001b[39;00m \u001b[38;5;129;01mnot\u001b[39;00m \u001b[38;5;28;01mNone\u001b[39;00m:\n",
      "Cell \u001b[0;32mIn[129], line 13\u001b[0m, in \u001b[0;36mcustom_stem_tokenizer\u001b[0;34m(text)\u001b[0m\n\u001b[1;32m     11\u001b[0m tokens \u001b[38;5;241m=\u001b[39m []\n\u001b[1;32m     12\u001b[0m ts \u001b[38;5;241m=\u001b[39m tokenizer\u001b[38;5;241m.\u001b[39mtokenize(text)\n\u001b[0;32m---> 13\u001b[0m ts \u001b[38;5;241m=\u001b[39m [stemmer\u001b[38;5;241m.\u001b[39mstem(t) \u001b[38;5;28;01mfor\u001b[39;00m t \u001b[38;5;129;01min\u001b[39;00m ts]\n\u001b[1;32m     15\u001b[0m \u001b[38;5;28;01mfor\u001b[39;00m t \u001b[38;5;129;01min\u001b[39;00m ts:\n\u001b[1;32m     16\u001b[0m     t \u001b[38;5;241m=\u001b[39m t\u001b[38;5;241m.\u001b[39mlower()\u001b[38;5;241m.\u001b[39mstrip()\n",
      "File \u001b[0;32m/opt/miniconda3/lib/python3.12/site-packages/nltk/stem/snowball.py:1431\u001b[0m, in \u001b[0;36mEnglishStemmer.stem\u001b[0;34m(self, word)\u001b[0m\n\u001b[1;32m   1428\u001b[0m     word \u001b[38;5;241m=\u001b[39m \u001b[38;5;124m\"\u001b[39m\u001b[38;5;124m\"\u001b[39m\u001b[38;5;241m.\u001b[39mjoin((\u001b[38;5;124m\"\u001b[39m\u001b[38;5;124mY\u001b[39m\u001b[38;5;124m\"\u001b[39m, word[\u001b[38;5;241m1\u001b[39m:]))\n\u001b[1;32m   1430\u001b[0m \u001b[38;5;28;01mfor\u001b[39;00m i \u001b[38;5;129;01min\u001b[39;00m \u001b[38;5;28mrange\u001b[39m(\u001b[38;5;241m1\u001b[39m, \u001b[38;5;28mlen\u001b[39m(word)):\n\u001b[0;32m-> 1431\u001b[0m     \u001b[38;5;28;01mif\u001b[39;00m word[i \u001b[38;5;241m-\u001b[39m \u001b[38;5;241m1\u001b[39m] \u001b[38;5;129;01min\u001b[39;00m \u001b[38;5;28mself\u001b[39m\u001b[38;5;241m.\u001b[39m__vowels \u001b[38;5;129;01mand\u001b[39;00m word[i] \u001b[38;5;241m==\u001b[39m \u001b[38;5;124m\"\u001b[39m\u001b[38;5;124my\u001b[39m\u001b[38;5;124m\"\u001b[39m:\n\u001b[1;32m   1432\u001b[0m         word \u001b[38;5;241m=\u001b[39m \u001b[38;5;124m\"\u001b[39m\u001b[38;5;124m\"\u001b[39m\u001b[38;5;241m.\u001b[39mjoin((word[:i], \u001b[38;5;124m\"\u001b[39m\u001b[38;5;124mY\u001b[39m\u001b[38;5;124m\"\u001b[39m, word[i \u001b[38;5;241m+\u001b[39m \u001b[38;5;241m1\u001b[39m :]))\n\u001b[1;32m   1434\u001b[0m step1a_vowel_found \u001b[38;5;241m=\u001b[39m \u001b[38;5;28;01mFalse\u001b[39;00m\n",
      "\u001b[0;31mKeyboardInterrupt\u001b[0m: "
     ]
    }
   ],
   "source": [
    "din_search(0.0001, 0.1, 3700)"
   ]
  },
  {
   "cell_type": "markdown",
   "metadata": {
    "id": "3fGYpUIZx0fk"
   },
   "source": [
    "**Ответ:** получатся, четку грань найти сложно, однако число \n",
    "`0.0004271679900586605` наиболее подходит под условие задачи.\n",
    "\n",
    "Интерпретация: всего доли процента достаточно, чтобы отрезать большую часть слов (токенов). То есть слова редко встрнечаются в разных текстах."
   ]
  },
  {
   "cell_type": "code",
   "execution_count": 221,
   "metadata": {},
   "outputs": [],
   "source": [
    "min_db_var = 0.0004271679900586605"
   ]
  },
  {
   "cell_type": "markdown",
   "metadata": {
    "id": "Gx_h_-inKbBl"
   },
   "source": [
    "В предыдущих заданиях признаки не скалировались. Отскалируйте данные (при словаре размера 3.7 тысяч, векторизованные CountVectorizer), обучите логистическую регрессию, посмотрите качество и выведите `barplot`, содержащий по 10 токенов, с наибольшим по модулю положительными/отрицательными весами. Что можно сказать об этих токенах?"
   ]
  },
  {
   "cell_type": "code",
   "execution_count": 170,
   "metadata": {
    "id": "KBATXJX6LG9q"
   },
   "outputs": [
    {
     "data": {
      "text/plain": [
       "train    0.942161\n",
       "test     0.835758\n",
       "dtype: float64"
      ]
     },
     "execution_count": 170,
     "metadata": {},
     "output_type": "execute_result"
    }
   ],
   "source": [
    "from sklearn.preprocessing import StandardScaler\n",
    "\n",
    "count_vc_data = CountVectorizer(\n",
    "    tokenizer=custom_stem_tokenizer,\n",
    "    min_df=min_db_var\n",
    ")\n",
    "\n",
    "train = count_vc_data.fit_transform(X_train[\"OriginalTweet\"])\n",
    "test = count_vc_data.transform(X_test[\"OriginalTweet\"])\n",
    "\n",
    "sc = StandardScaler(with_mean=False)\n",
    "sc.fit(train)\n",
    "train_normed = sc.transform(train)\n",
    "test_normed = sc.transform(test)\n",
    "\n",
    "lr = LogisticRegression()\n",
    "lr.fit(train_normed, y_train)\n",
    "\n",
    "train_pred = lr.predict(train_normed)\n",
    "test_pred = lr.predict(test_normed)\n",
    "\n",
    "accuracy = {\n",
    "    \"train\": accuracy_score(train_pred, y_train),\n",
    "    \"test\": accuracy_score(test_pred, y_test)\n",
    "}\n",
    "\n",
    "data_ans = pd.Series(accuracy)\n",
    "data_ans"
   ]
  },
  {
   "cell_type": "code",
   "execution_count": 186,
   "metadata": {},
   "outputs": [
    {
     "data": {
      "text/plain": [
       "crisi   -1.803679\n",
       "panic   -1.358317\n",
       "scam    -1.157640\n",
       "kill    -0.712733\n",
       "war     -0.650703\n",
       "           ...   \n",
       "best     0.936242\n",
       "thank    0.965898\n",
       "free     0.986654\n",
       "help     1.103822\n",
       "hand     1.133040\n",
       "Length: 3698, dtype: float64"
      ]
     },
     "execution_count": 186,
     "metadata": {},
     "output_type": "execute_result"
    }
   ],
   "source": [
    "tokens_weigth = pd.Series(\n",
    "    data=lr.coef_[0],\n",
    "    index=count_vc_data.get_feature_names_out()\n",
    ")\n",
    "tokens_weigth = tokens_weigth.sort_values()\n",
    "tokens_weigth"
   ]
  },
  {
   "cell_type": "code",
   "execution_count": 220,
   "metadata": {},
   "outputs": [
    {
     "data": {
      "text/plain": [
       "<matplotlib.legend.Legend at 0x14bf5a330>"
      ]
     },
     "execution_count": 220,
     "metadata": {},
     "output_type": "execute_result"
    },
    {
     "data": {
      "image/png": "[encoded data removed]",
      "text/plain": [
       "<Figure size 640x480 with 1 Axes>"
      ]
     },
     "metadata": {},
     "output_type": "display_data"
    }
   ],
   "source": [
    "import matplotlib.patches as mpatches\n",
    "\n",
    "positive = tokens_weigth[tokens_weigth > 0]\n",
    "negative = tokens_weigth[tokens_weigth < 0]\n",
    "\n",
    "top_5_positive = positive.iloc[-5:]\n",
    "top_5_negative = negative.iloc[:5]\n",
    "\n",
    "top_score = pd.DataFrame(\n",
    "    data=pd.concat([top_5_positive, top_5_negative]),\n",
    "    columns=[\"coef\"]\n",
    ")\n",
    "\n",
    "top_score[\"is_positive\"] = top_score[\"coef\"] > 0\n",
    "top_score[\"coef\"] = top_score[\"coef\"].abs()\n",
    "top_score = top_score.sort_values(\"coef\", ascending=False)\n",
    "\n",
    "blue_c = \"#162E65\"\n",
    "red_c = \"#B12D49\"\n",
    "color_bar = np.where(top_score[\"is_positive\"], blue_c, red_c)\n",
    "\n",
    "red_patch = mpatches.Patch(color=red_c, label='negative words')\n",
    "blue_patch = mpatches.Patch(color=blue_c, label='positive words')\n",
    "\n",
    "ax = top_score.plot.bar(y=\"coef\", color=color_bar, title=\"important words\")\n",
    "ax.legend(handles=[red_patch, blue_patch])"
   ]
  },
  {
   "cell_type": "markdown",
   "metadata": {
    "id": "ThcEfzY1LHET"
   },
   "source": [
    "**Ответ:** Данные токены самые важные в процессе анализа и определения\n",
    "тональности текста. Все они в самом деле (по субъективному мнению) отображают позитивную или негативную окраску."
   ]
  },
  {
   "cell_type": "markdown",
   "metadata": {
    "id": "ktJVOdrIHq7B"
   },
   "source": [
    "## Задание 7 Другие признаки (1.5 балла)"
   ]
  },
  {
   "cell_type": "markdown",
   "metadata": {
    "id": "Yt3jRCZ2H0Og"
   },
   "source": [
    "Мы были сконцентрированы на работе с текстами твиттов и не использовали другие признаки - имена пользователя, дату и местоположение"
   ]
  },
  {
   "cell_type": "markdown",
   "metadata": {
    "id": "52wjewCCo_di"
   },
   "source": [
    "Изучите признаки UserName и ScreenName. полезны ли они? Если полезны, то закодируйте их, добавьте к матрице с отскалированными признаками, обучите логистическую регрессию, замерьте качество."
   ]
  },
  {
   "cell_type": "code",
   "execution_count": null,
   "metadata": {
    "id": "63thouYZptj6"
   },
   "outputs": [],
   "source": [
    "# -- YOUR CODE HERE --"
   ]
  },
  {
   "cell_type": "markdown",
   "metadata": {
    "id": "r8_qR-gnpT3a"
   },
   "source": [
    "**Ответ:** # -- YOUR ANSWER HERE --"
   ]
  },
  {
   "cell_type": "markdown",
   "metadata": {
    "id": "ythEcFSkt7y3"
   },
   "source": [
    "Изучите признак TweetAt в обучающей выборке: преобразуйте его к типу datetime и нарисуйте его гистограмму с разделением по цвету на основе целевой переменной. Полезен ли он? Если полезен, то закодируйте его, добавьте к матрице с отскалированными признаками, обучите логистическую регрессию, замерьте качество."
   ]
  },
  {
   "cell_type": "code",
   "execution_count": null,
   "metadata": {
    "id": "Lxb_k0JLirNv"
   },
   "outputs": [],
   "source": [
    "# -- YOUR CODE HERE --"
   ]
  },
  {
   "cell_type": "markdown",
   "metadata": {
    "id": "4IdLBdpQxM-G"
   },
   "source": [
    "**Ответ:** # -- YOUR ANSWER HERE --\n",
    "\n"
   ]
  },
  {
   "cell_type": "markdown",
   "metadata": {
    "id": "r2JtRPhNP6qx"
   },
   "source": [
    "Поработайте с признаком Location в обучающей выборке. Сколько уникальных значений?"
   ]
  },
  {
   "cell_type": "code",
   "execution_count": null,
   "metadata": {
    "id": "xYQZQ1FRNpoe"
   },
   "outputs": [],
   "source": [
    "# -- YOUR CODE HERE --"
   ]
  },
  {
   "cell_type": "markdown",
   "metadata": {
    "id": "6k4JwpRTQISa"
   },
   "source": [
    "Постройте гистограмму топ-10 по популярности местоположений (исключая Unknown)"
   ]
  },
  {
   "cell_type": "code",
   "execution_count": null,
   "metadata": {
    "id": "J91YkhegJ0mz"
   },
   "outputs": [],
   "source": [
    "# -- YOUR CODE HERE --"
   ]
  },
  {
   "cell_type": "markdown",
   "metadata": {
    "id": "ZOsv3lODTfYB"
   },
   "source": [
    "Видно, что многие местоположения включают в себя более точное название места, чем другие (Например, у некоторых стоит London, UK; а у некоторых просто UK или United Kingdom).\n",
    "\n",
    "Создайте новый признак WiderLocation, который содержит самое широкое местоположение (например, из London, UK должно получиться UK). Сколько уникальных категорий теперь? Постройте аналогичную гистограмму."
   ]
  },
  {
   "cell_type": "code",
   "execution_count": null,
   "metadata": {
    "id": "mSkow6acOMyD"
   },
   "outputs": [],
   "source": [
    "# -- YOUR CODE HERE --"
   ]
  },
  {
   "cell_type": "markdown",
   "metadata": {
    "id": "cgyWrD2eVfff"
   },
   "source": [
    "Закодируйте признак WiderLocation с помощью OHE таким образом, чтобы создались только столбцы для местоположений, которые встречаются более одного раза. Сколько таких значений?\n"
   ]
  },
  {
   "cell_type": "code",
   "execution_count": null,
   "metadata": {
    "id": "SeJBfBWgPvg_"
   },
   "outputs": [],
   "source": [
    "# -- YOUR CODE HERE --"
   ]
  },
  {
   "cell_type": "markdown",
   "metadata": {
    "id": "ZyMX5kZuimPK"
   },
   "source": [
    "Добавьте этот признак к матрице отскалированных текстовых признаков, обучите логистическую регрессию, замерьте качество. Как оно изменилось? Оказался ли признак полезным?\n",
    "\n",
    "\n",
    "*Подсказка:* используйте параметр `categories` в энкодере."
   ]
  },
  {
   "cell_type": "code",
   "execution_count": null,
   "metadata": {
    "id": "EO1jNPeeim7A"
   },
   "outputs": [],
   "source": [
    "# -- YOUR CODE HERE --"
   ]
  },
  {
   "cell_type": "markdown",
   "metadata": {
    "id": "7dHsGlDRYUQt"
   },
   "source": [
    "**Ответ:** # -- YOUR ANSWER HERE --"
   ]
  }
 ],
 "metadata": {
  "colab": {
   "provenance": []
  },
  "kernelspec": {
   "display_name": "Python 3 (ipykernel)",
   "language": "python",
   "name": "python3"
  },
  "language_info": {
   "codemirror_mode": {
    "name": "ipython",
    "version": 3
   },
   "file_extension": ".py",
   "mimetype": "text/x-python",
   "name": "python",
   "nbconvert_exporter": "python",
   "pygments_lexer": "ipython3",
   "version": "3.12.4"
  }
 },
 "nbformat": 4,
 "nbformat_minor": 4
}
