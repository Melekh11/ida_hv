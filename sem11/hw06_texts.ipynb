{
 "cells": [
  {
   "cell_type": "markdown",
   "metadata": {
    "id": "Ffq6A2-ifzAA"
   },
   "source": [
    "# Интеллектуальный анализ данных – весна 2025\n",
    "# Домашнее задание 6: классификация текстов"
   ]
  },
  {
   "cell_type": "markdown",
   "metadata": {
    "id": "EPcxtekTA1Sm"
   },
   "source": [
    "Правила:\n",
    "\n",
    "\n",
    "\n",
    "*   Домашнее задание оценивается в 10 баллов.\n",
    "*   Можно использовать без доказательства любые результаты, встречавшиеся на лекциях или семинарах по курсу, если получение этих результатов не является вопросом задания.\n",
    "*  Можно использовать любые свободные источники с *обязательным* указанием ссылки на них.\n",
    "*  Плагиат не допускается. При обнаружении случаев списывания, 0 за работу выставляется всем участникам нарушения, даже если можно установить, кто у кого списал.\n",
    "*  Старайтесь сделать код как можно более оптимальным. В частности, будет штрафоваться использование циклов в тех случаях, когда операцию можно совершить при помощи инструментов библиотек, о которых рассказывалось в курсе.\n",
    "* Если в задании есть вопрос на рассуждение, то за отсутствие ответа на него балл за задание будет снижен вполовину."
   ]
  },
  {
   "cell_type": "markdown",
   "metadata": {
    "id": "itRtFtrOf0_b"
   },
   "source": [
    "В этом домашнем задании вам предстоит построить классификатор текстов.\n",
    "\n",
    "Будем предсказывать эмоциональную окраску твиттов о коронавирусе.\n",
    "\n"
   ]
  },
  {
   "cell_type": "code",
   "execution_count": 279,
   "metadata": {
    "id": "tNGRVO7_g9mz"
   },
   "outputs": [],
   "source": [
    "import warnings\n",
    "\n",
    "import numpy as np\n",
    "import pandas as pd\n",
    "from typing import  List\n",
    "import matplotlib.pyplot as plt\n",
    "import seaborn as sns\n",
    "from string import punctuation\n",
    "\n",
    "warnings.filterwarnings(\"ignore\")"
   ]
  },
  {
   "cell_type": "code",
   "execution_count": 280,
   "metadata": {
    "colab": {
     "base_uri": "https://localhost:8080/",
     "height": 348
    },
    "id": "zOy8iHJQg_Ss",
    "outputId": "6a32c325-1b9a-4895-ab22-5e985016da91"
   },
   "outputs": [
    {
     "data": {
      "text/html": [
       "<div>\n",
       "<style scoped>\n",
       "    .dataframe tbody tr th:only-of-type {\n",
       "        vertical-align: middle;\n",
       "    }\n",
       "\n",
       "    .dataframe tbody tr th {\n",
       "        vertical-align: top;\n",
       "    }\n",
       "\n",
       "    .dataframe thead th {\n",
       "        text-align: right;\n",
       "    }\n",
       "</style>\n",
       "<table border=\"1\" class=\"dataframe\">\n",
       "  <thead>\n",
       "    <tr style=\"text-align: right;\">\n",
       "      <th></th>\n",
       "      <th>UserName</th>\n",
       "      <th>ScreenName</th>\n",
       "      <th>Location</th>\n",
       "      <th>TweetAt</th>\n",
       "      <th>OriginalTweet</th>\n",
       "      <th>Sentiment</th>\n",
       "    </tr>\n",
       "  </thead>\n",
       "  <tbody>\n",
       "    <tr>\n",
       "      <th>20096</th>\n",
       "      <td>28302</td>\n",
       "      <td>73254</td>\n",
       "      <td>Norfolk</td>\n",
       "      <td>26-03-2020</td>\n",
       "      <td>Look out for the scammers. New websites, no wa...</td>\n",
       "      <td>Negative</td>\n",
       "    </tr>\n",
       "    <tr>\n",
       "      <th>14740</th>\n",
       "      <td>21724</td>\n",
       "      <td>66676</td>\n",
       "      <td>Cleveland, OH</td>\n",
       "      <td>23-03-2020</td>\n",
       "      <td>DonÃÂt say anything. Just watch, laugh and R...</td>\n",
       "      <td>Positive</td>\n",
       "    </tr>\n",
       "    <tr>\n",
       "      <th>14315</th>\n",
       "      <td>21179</td>\n",
       "      <td>66131</td>\n",
       "      <td>Tampa, FL</td>\n",
       "      <td>23-03-2020</td>\n",
       "      <td>When the store is out of courtesy sanitizing w...</td>\n",
       "      <td>Positive</td>\n",
       "    </tr>\n",
       "    <tr>\n",
       "      <th>12594</th>\n",
       "      <td>19066</td>\n",
       "      <td>64018</td>\n",
       "      <td>NaN</td>\n",
       "      <td>22-03-2020</td>\n",
       "      <td>Great work from ?@Morrisons?! TheyÃÂve becom...</td>\n",
       "      <td>Extremely Positive</td>\n",
       "    </tr>\n",
       "  </tbody>\n",
       "</table>\n",
       "</div>"
      ],
      "text/plain": [
       "       UserName  ScreenName       Location     TweetAt  \\\n",
       "20096     28302       73254        Norfolk  26-03-2020   \n",
       "14740     21724       66676  Cleveland, OH  23-03-2020   \n",
       "14315     21179       66131      Tampa, FL  23-03-2020   \n",
       "12594     19066       64018            NaN  22-03-2020   \n",
       "\n",
       "                                           OriginalTweet           Sentiment  \n",
       "20096  Look out for the scammers. New websites, no wa...            Negative  \n",
       "14740  DonÃÂt say anything. Just watch, laugh and R...            Positive  \n",
       "14315  When the store is out of courtesy sanitizing w...            Positive  \n",
       "12594  Great work from ?@Morrisons?! TheyÃÂve becom...  Extremely Positive  "
      ]
     },
     "execution_count": 280,
     "metadata": {},
     "output_type": "execute_result"
    }
   ],
   "source": [
    "df = pd.read_csv('./tweets_coronavirus.csv', encoding='latin-1')\n",
    "df.sample(4)"
   ]
  },
  {
   "cell_type": "markdown",
   "metadata": {
    "id": "m2OiDog9ZBlS"
   },
   "source": [
    "Для каждого твитта указано:\n",
    "\n",
    "\n",
    "*   UserName - имя пользователя, заменено на целое число для анонимности\n",
    "*   ScreenName - отображающееся имя пользователя, заменено на целое число для анонимности\n",
    "*   Location - местоположение\n",
    "*   TweetAt - дата создания твитта\n",
    "*   OriginalTweet - текст твитта\n",
    "*   Sentiment - эмоциональная окраска твитта (целевая переменная)\n",
    "\n"
   ]
  },
  {
   "cell_type": "markdown",
   "metadata": {
    "id": "pZTMseDkhTC7"
   },
   "source": [
    "## Задание 1 Подготовка (0.5 балла)"
   ]
  },
  {
   "cell_type": "markdown",
   "metadata": {
    "id": "Xx2-odn9hdAW"
   },
   "source": [
    "Целевая переменная находится в колонке `Sentiment`.  Преобразуйте ее таким образом, чтобы она стала бинарной: 1 - если у твитта положительная или очень положительная эмоциональная окраска и 0 - если отрицательная или очень отрицательная."
   ]
  },
  {
   "cell_type": "code",
   "execution_count": 281,
   "metadata": {},
   "outputs": [
    {
     "data": {
      "text/html": [
       "<div>\n",
       "<style scoped>\n",
       "    .dataframe tbody tr th:only-of-type {\n",
       "        vertical-align: middle;\n",
       "    }\n",
       "\n",
       "    .dataframe tbody tr th {\n",
       "        vertical-align: top;\n",
       "    }\n",
       "\n",
       "    .dataframe thead th {\n",
       "        text-align: right;\n",
       "    }\n",
       "</style>\n",
       "<table border=\"1\" class=\"dataframe\">\n",
       "  <thead>\n",
       "    <tr style=\"text-align: right;\">\n",
       "      <th></th>\n",
       "      <th>UserName</th>\n",
       "      <th>ScreenName</th>\n",
       "      <th>Location</th>\n",
       "      <th>TweetAt</th>\n",
       "      <th>OriginalTweet</th>\n",
       "      <th>Sentiment</th>\n",
       "    </tr>\n",
       "  </thead>\n",
       "  <tbody>\n",
       "    <tr>\n",
       "      <th>0</th>\n",
       "      <td>3800</td>\n",
       "      <td>48752</td>\n",
       "      <td>UK</td>\n",
       "      <td>16-03-2020</td>\n",
       "      <td>advice Talk to your neighbours family to excha...</td>\n",
       "      <td>Positive</td>\n",
       "    </tr>\n",
       "    <tr>\n",
       "      <th>1</th>\n",
       "      <td>3801</td>\n",
       "      <td>48753</td>\n",
       "      <td>Vagabonds</td>\n",
       "      <td>16-03-2020</td>\n",
       "      <td>Coronavirus Australia: Woolworths to give elde...</td>\n",
       "      <td>Positive</td>\n",
       "    </tr>\n",
       "    <tr>\n",
       "      <th>2</th>\n",
       "      <td>3802</td>\n",
       "      <td>48754</td>\n",
       "      <td>NaN</td>\n",
       "      <td>16-03-2020</td>\n",
       "      <td>My food stock is not the only one which is emp...</td>\n",
       "      <td>Positive</td>\n",
       "    </tr>\n",
       "    <tr>\n",
       "      <th>3</th>\n",
       "      <td>3803</td>\n",
       "      <td>48755</td>\n",
       "      <td>NaN</td>\n",
       "      <td>16-03-2020</td>\n",
       "      <td>Me, ready to go at supermarket during the #COV...</td>\n",
       "      <td>Extremely Negative</td>\n",
       "    </tr>\n",
       "    <tr>\n",
       "      <th>4</th>\n",
       "      <td>3804</td>\n",
       "      <td>48756</td>\n",
       "      <td>ÃÂT: 36.319708,-82.363649</td>\n",
       "      <td>16-03-2020</td>\n",
       "      <td>As news of the regionÃÂs first confirmed COV...</td>\n",
       "      <td>Positive</td>\n",
       "    </tr>\n",
       "  </tbody>\n",
       "</table>\n",
       "</div>"
      ],
      "text/plain": [
       "   UserName  ScreenName                     Location     TweetAt  \\\n",
       "0      3800       48752                           UK  16-03-2020   \n",
       "1      3801       48753                    Vagabonds  16-03-2020   \n",
       "2      3802       48754                          NaN  16-03-2020   \n",
       "3      3803       48755                          NaN  16-03-2020   \n",
       "4      3804       48756  ÃÂT: 36.319708,-82.363649  16-03-2020   \n",
       "\n",
       "                                       OriginalTweet           Sentiment  \n",
       "0  advice Talk to your neighbours family to excha...            Positive  \n",
       "1  Coronavirus Australia: Woolworths to give elde...            Positive  \n",
       "2  My food stock is not the only one which is emp...            Positive  \n",
       "3  Me, ready to go at supermarket during the #COV...  Extremely Negative  \n",
       "4  As news of the regionÃÂs first confirmed COV...            Positive  "
      ]
     },
     "execution_count": 281,
     "metadata": {},
     "output_type": "execute_result"
    }
   ],
   "source": [
    "# было\n",
    "df.head()"
   ]
  },
  {
   "cell_type": "code",
   "execution_count": 282,
   "metadata": {
    "id": "ZaQKQ1zEjP15"
   },
   "outputs": [
    {
     "data": {
      "text/html": [
       "<div>\n",
       "<style scoped>\n",
       "    .dataframe tbody tr th:only-of-type {\n",
       "        vertical-align: middle;\n",
       "    }\n",
       "\n",
       "    .dataframe tbody tr th {\n",
       "        vertical-align: top;\n",
       "    }\n",
       "\n",
       "    .dataframe thead th {\n",
       "        text-align: right;\n",
       "    }\n",
       "</style>\n",
       "<table border=\"1\" class=\"dataframe\">\n",
       "  <thead>\n",
       "    <tr style=\"text-align: right;\">\n",
       "      <th></th>\n",
       "      <th>UserName</th>\n",
       "      <th>ScreenName</th>\n",
       "      <th>Location</th>\n",
       "      <th>TweetAt</th>\n",
       "      <th>OriginalTweet</th>\n",
       "      <th>Sentiment</th>\n",
       "    </tr>\n",
       "  </thead>\n",
       "  <tbody>\n",
       "    <tr>\n",
       "      <th>0</th>\n",
       "      <td>3800</td>\n",
       "      <td>48752</td>\n",
       "      <td>UK</td>\n",
       "      <td>16-03-2020</td>\n",
       "      <td>advice Talk to your neighbours family to excha...</td>\n",
       "      <td>1</td>\n",
       "    </tr>\n",
       "    <tr>\n",
       "      <th>1</th>\n",
       "      <td>3801</td>\n",
       "      <td>48753</td>\n",
       "      <td>Vagabonds</td>\n",
       "      <td>16-03-2020</td>\n",
       "      <td>Coronavirus Australia: Woolworths to give elde...</td>\n",
       "      <td>1</td>\n",
       "    </tr>\n",
       "    <tr>\n",
       "      <th>2</th>\n",
       "      <td>3802</td>\n",
       "      <td>48754</td>\n",
       "      <td>NaN</td>\n",
       "      <td>16-03-2020</td>\n",
       "      <td>My food stock is not the only one which is emp...</td>\n",
       "      <td>1</td>\n",
       "    </tr>\n",
       "    <tr>\n",
       "      <th>3</th>\n",
       "      <td>3803</td>\n",
       "      <td>48755</td>\n",
       "      <td>NaN</td>\n",
       "      <td>16-03-2020</td>\n",
       "      <td>Me, ready to go at supermarket during the #COV...</td>\n",
       "      <td>0</td>\n",
       "    </tr>\n",
       "    <tr>\n",
       "      <th>4</th>\n",
       "      <td>3804</td>\n",
       "      <td>48756</td>\n",
       "      <td>ÃÂT: 36.319708,-82.363649</td>\n",
       "      <td>16-03-2020</td>\n",
       "      <td>As news of the regionÃÂs first confirmed COV...</td>\n",
       "      <td>1</td>\n",
       "    </tr>\n",
       "  </tbody>\n",
       "</table>\n",
       "</div>"
      ],
      "text/plain": [
       "   UserName  ScreenName                     Location     TweetAt  \\\n",
       "0      3800       48752                           UK  16-03-2020   \n",
       "1      3801       48753                    Vagabonds  16-03-2020   \n",
       "2      3802       48754                          NaN  16-03-2020   \n",
       "3      3803       48755                          NaN  16-03-2020   \n",
       "4      3804       48756  ÃÂT: 36.319708,-82.363649  16-03-2020   \n",
       "\n",
       "                                       OriginalTweet  Sentiment  \n",
       "0  advice Talk to your neighbours family to excha...          1  \n",
       "1  Coronavirus Australia: Woolworths to give elde...          1  \n",
       "2  My food stock is not the only one which is emp...          1  \n",
       "3  Me, ready to go at supermarket during the #COV...          0  \n",
       "4  As news of the regionÃÂs first confirmed COV...          1  "
      ]
     },
     "execution_count": 282,
     "metadata": {},
     "output_type": "execute_result"
    }
   ],
   "source": [
    "df[\"Sentiment\"] = np.where(df[\"Sentiment\"].str.contains(\"[Pp]ositive\"), 1, 0)\n",
    "df.head()"
   ]
  },
  {
   "cell_type": "markdown",
   "metadata": {
    "id": "pGq1FxJ-kBo5"
   },
   "source": [
    "Сбалансированы ли классы?"
   ]
  },
  {
   "cell_type": "code",
   "execution_count": 283,
   "metadata": {
    "id": "a7gdNtxckK5V"
   },
   "outputs": [
    {
     "data": {
      "text/plain": [
       "Sentiment\n",
       "1    18046\n",
       "0    15398\n",
       "Name: count, dtype: int64"
      ]
     },
     "execution_count": 283,
     "metadata": {},
     "output_type": "execute_result"
    }
   ],
   "source": [
    "sentiment_vc = df[\"Sentiment\"].value_counts()\n",
    "sentiment_vc"
   ]
  },
  {
   "cell_type": "code",
   "execution_count": 284,
   "metadata": {},
   "outputs": [
    {
     "data": {
      "text/plain": [
       "14.67"
      ]
     },
     "execution_count": 284,
     "metadata": {},
     "output_type": "execute_result"
    }
   ],
   "source": [
    "dif = np.abs(sentiment_vc.iloc[0] - sentiment_vc.iloc[1]) / np.max([sentiment_vc.iloc[0], sentiment_vc.iloc[1]])\n",
    "np.round(100 * dif, 2)"
   ]
  },
  {
   "cell_type": "markdown",
   "metadata": {
    "id": "Ng8BCelMkWb0"
   },
   "source": [
    "**Ответ:** разница в $\\thicksim$15% приемлема для принятия отношения\n",
    "классов за сбалансированные"
   ]
  },
  {
   "cell_type": "markdown",
   "metadata": {
    "id": "qmSIBSsLk5Zz"
   },
   "source": [
    "Выведете на экран информацию о пропусках в данных. Если пропуски присутствуют заполните их строкой 'Unknown'."
   ]
  },
  {
   "cell_type": "code",
   "execution_count": 285,
   "metadata": {
    "id": "UhUVRkR5kxa7"
   },
   "outputs": [
    {
     "data": {
      "text/plain": [
       "UserName            0\n",
       "ScreenName          0\n",
       "Location         7049\n",
       "TweetAt             0\n",
       "OriginalTweet       0\n",
       "Sentiment           0\n",
       "dtype: int64"
      ]
     },
     "execution_count": 285,
     "metadata": {},
     "output_type": "execute_result"
    }
   ],
   "source": [
    "df.isna().sum()"
   ]
  },
  {
   "cell_type": "markdown",
   "metadata": {},
   "source": [
    "Нет данных про локацию, заменим все пустой строкой `unknown`"
   ]
  },
  {
   "cell_type": "code",
   "execution_count": 286,
   "metadata": {},
   "outputs": [
    {
     "data": {
      "text/plain": [
       "UserName         0\n",
       "ScreenName       0\n",
       "Location         0\n",
       "TweetAt          0\n",
       "OriginalTweet    0\n",
       "Sentiment        0\n",
       "dtype: int64"
      ]
     },
     "execution_count": 286,
     "metadata": {},
     "output_type": "execute_result"
    }
   ],
   "source": [
    "df[\"Location\"] = df[\"Location\"].fillna(\"unknown\")\n",
    "df.isna().sum()"
   ]
  },
  {
   "cell_type": "markdown",
   "metadata": {
    "id": "1tzt27tfjUpq"
   },
   "source": [
    "Разделите данные на обучающие и тестовые в соотношении 7 : 3 и укажите `random_state=0`"
   ]
  },
  {
   "cell_type": "code",
   "execution_count": 287,
   "metadata": {
    "id": "xSLOA9tIj9Z6"
   },
   "outputs": [],
   "source": [
    "from sklearn.model_selection import train_test_split\n",
    "\n",
    "y = df[\"Sentiment\"]\n",
    "X = df.drop([\"Sentiment\"], axis=1)\n",
    "\n",
    "X_train, X_test, y_train, y_test = train_test_split(X, y, test_size=0.3, shuffle=True, random_state=0)"
   ]
  },
  {
   "cell_type": "markdown",
   "metadata": {
    "id": "J9RrPUsJlL60"
   },
   "source": [
    "## Задание 2 Токенизация (3 балла)"
   ]
  },
  {
   "cell_type": "markdown",
   "metadata": {
    "id": "2Dz_b7Xopc_R"
   },
   "source": [
    "Постройте словарь на основе обучающей выборки и посчитайте количество встреч каждого токена с использованием самой простой токенизации - деления текстов по пробельным символам и приведения токенов в нижний регистр."
   ]
  },
  {
   "cell_type": "code",
   "execution_count": 288,
   "metadata": {
    "id": "SFr67WOJphny"
   },
   "outputs": [
    {
     "data": {
      "text/plain": [
       "25621    None\n",
       "30135    None\n",
       "28899    None\n",
       "5989     None\n",
       "4367     None\n",
       "         ... \n",
       "20757    None\n",
       "32103    None\n",
       "30403    None\n",
       "21243    None\n",
       "2732     None\n",
       "Name: OriginalTweet, Length: 23410, dtype: object"
      ]
     },
     "execution_count": 288,
     "metadata": {},
     "output_type": "execute_result"
    }
   ],
   "source": [
    "words_data = {}\n",
    "\n",
    "def add_to_words(text_sample):\n",
    "    words = map(lambda x: x.lower(), text_sample.split())\n",
    "    for w in words:\n",
    "        words_data[w] = words_data.get(w, 0) + 1\n",
    "        \n",
    "X_train[\"OriginalTweet\"].apply(add_to_words)"
   ]
  },
  {
   "cell_type": "markdown",
   "metadata": {
    "id": "Pe0h2Jqkpnao"
   },
   "source": [
    "Какой размер словаря получился?"
   ]
  },
  {
   "cell_type": "code",
   "execution_count": 289,
   "metadata": {
    "id": "umyENA7EpokD"
   },
   "outputs": [
    {
     "data": {
      "text/plain": [
       "79755"
      ]
     },
     "execution_count": 289,
     "metadata": {},
     "output_type": "execute_result"
    }
   ],
   "source": [
    "len(words_data)"
   ]
  },
  {
   "cell_type": "markdown",
   "metadata": {
    "id": "0d2G1Z-Qpqkd"
   },
   "source": [
    "Выведите 10 самых популярных токенов с количеством встреч каждого из них. Объясните, почему именно эти токены в топе."
   ]
  },
  {
   "cell_type": "code",
   "execution_count": 290,
   "metadata": {
    "id": "Impi32a_pssg"
   },
   "outputs": [
    {
     "data": {
      "text/plain": [
       "the             26815\n",
       "to              23373\n",
       "and             14684\n",
       "of              13012\n",
       "a               11737\n",
       "in              11198\n",
       "for              8566\n",
       "#coronavirus     8223\n",
       "is               7383\n",
       "are              7050\n",
       "dtype: int64"
      ]
     },
     "execution_count": 290,
     "metadata": {},
     "output_type": "execute_result"
    }
   ],
   "source": [
    "words_data_s = pd.Series(words_data)\n",
    "words_data_s = words_data_s.sort_values(ascending=False)\n",
    "words_data_s.head(10)"
   ]
  },
  {
   "cell_type": "markdown",
   "metadata": {
    "id": "ZtuJCD0ApuFd"
   },
   "source": [
    "**Ответ:** Стоп-слова. Стоит заметить, что эти слова не склоняются, и потому их может \n",
    "быть больше, чем, например, склоняемых слов."
   ]
  },
  {
   "cell_type": "markdown",
   "metadata": {
    "id": "T7DTQDkWsVYp"
   },
   "source": [
    "Удалите стоп-слова из словаря и выведите новый топ-10 токенов (и количество встреч) по популярности.  Что можно сказать  о нем?"
   ]
  },
  {
   "cell_type": "code",
   "execution_count": 291,
   "metadata": {
    "id": "8csSAdgTsnFx"
   },
   "outputs": [
    {
     "data": {
      "text/plain": [
       "#coronavirus    8223\n",
       "prices          3891\n",
       "food            3820\n",
       "grocery         3469\n",
       "supermarket     3288\n",
       "people          3175\n",
       "covid-19        3173\n",
       "store           3155\n",
       "#covid19        2471\n",
       "&amp;           2314\n",
       "dtype: int64"
      ]
     },
     "execution_count": 291,
     "metadata": {},
     "output_type": "execute_result"
    }
   ],
   "source": [
    "import nltk\n",
    "from nltk.corpus import stopwords\n",
    "\n",
    "st_w = stopwords.words(\"english\")\n",
    "\n",
    "new_index_bool = ~np.in1d(words_data_s.index, st_w)\n",
    "new_index = words_data_s.index[new_index_bool]\n",
    "\n",
    "words_data_no_stopwords = words_data_s.reindex(new_index)\n",
    "\n",
    "words_data_no_stopwords.head(10)"
   ]
  },
  {
   "cell_type": "markdown",
   "metadata": {
    "id": "LZH0x2Lzs-Dh"
   },
   "source": [
    "**Ответ:** кроме, собственно, ковида, обсуждается функционирование магазинов \n",
    "и цен: сама основа быта каждого человека. Очевидный вывод: ковид консулся человека настолько плотно, что основные темы для обсуждения - самые низовые потребности, такие как купить покушать."
   ]
  },
  {
   "cell_type": "markdown",
   "metadata": {
    "id": "TKSGRyI-uor0"
   },
   "source": [
    "Также выведите 20 самых непопулярных слов (если самых непопулярных слов больше, выведите любые 20 из них) Почему эти токены непопулярны, требуется ли как-то дополнительно работать с ними?"
   ]
  },
  {
   "cell_type": "code",
   "execution_count": 292,
   "metadata": {
    "id": "moArbwfvun9t"
   },
   "outputs": [
    {
     "data": {
      "text/plain": [
       "pmt                        1\n",
       "acres                      1\n",
       "cucumber                   1\n",
       "https://t.co/x69jqbisox    1\n",
       "had!                       1\n",
       "#springcleaning            1\n",
       "https://t.co/l8jnzxjgwo    1\n",
       "contained,                 1\n",
       "readiness,                 1\n",
       "kick-in                    1\n",
       "(covid-19,                 1\n",
       "impacts)                   1\n",
       "https://t.co/wa7kcdwqea    1\n",
       "@linkedin                  1\n",
       "clare                      1\n",
       "connors                    1\n",
       "levins                     1\n",
       "587-4272                   1\n",
       "https://t.co/6ytxpz5ug9    1\n",
       "https://t.co/7j2y3rsld9    1\n",
       "dtype: int64"
      ]
     },
     "execution_count": 292,
     "metadata": {},
     "output_type": "execute_result"
    }
   ],
   "source": [
    "words_data_no_stopwords.tail(20)"
   ]
  },
  {
   "cell_type": "markdown",
   "metadata": {
    "id": "uRp3J1gQunlR"
   },
   "source": [
    "**Ответ:** работать с этими токенами не получится, но это не говорит, что, например, \n",
    "токен `prohibitions` (который в топ-20 самых редких) ни о чем не может нам сказать. Просто обработка текста путем сплита по пробелам может дать очень грубые усреднения, на которые можно ориентироваться, только когда ничего другого нет. Этим и займемся..\n",
    "\n"
   ]
  },
  {
   "cell_type": "markdown",
   "metadata": {
    "id": "wx9LQOSPzvjV"
   },
   "source": [
    "Теперь воспользуемся токенайзером получше - TweetTokenizer из библиотеки nltk. Примените его и посмотрите на топ-10 популярных слов. Чем он отличается от топа, который получался раньше? Почему?"
   ]
  },
  {
   "cell_type": "code",
   "execution_count": 293,
   "metadata": {
    "id": "2G1UkyVxzvFY"
   },
   "outputs": [
    {
     "data": {
      "text/plain": [
       "#coronavirus    8808\n",
       "19              7167\n",
       "covid           6253\n",
       "prices          4601\n",
       "food            4367\n",
       "store           3877\n",
       "supermarket     3805\n",
       "grocery         3523\n",
       "people          3463\n",
       "#covid19        2589\n",
       "dtype: int64"
      ]
     },
     "execution_count": 293,
     "metadata": {},
     "output_type": "execute_result"
    }
   ],
   "source": [
    "from nltk.tokenize import TweetTokenizer\n",
    "from string import punctuation\n",
    "\n",
    "tokens = {}\n",
    "tokenizer = TweetTokenizer()\n",
    "\n",
    "st_l = st_w + list(punctuation)\n",
    "\n",
    "def parse_tokens(text_sample):\n",
    "    ts = tokenizer.tokenize(text_sample)\n",
    "    for t in ts:\n",
    "        t = t.lower().strip()\n",
    "        if len(t) == 1 and ord(t) >= 128:\n",
    "            continue\n",
    "        if t not in st_l:\n",
    "            tokens[t] = tokens.get(t, 0) + 1\n",
    "\n",
    "X_train[\"OriginalTweet\"].apply(parse_tokens)\n",
    "\n",
    "tokens = pd.Series(tokens).sort_values(ascending=False)\n",
    "tokens.head(10)"
   ]
  },
  {
   "cell_type": "markdown",
   "metadata": {
    "id": "50eVUnJN1Zxl"
   },
   "source": [
    "**Ответ:** в целом, усреднение по сплиту оказалось полезнее, чем можно было предположить.\n",
    "Топ значений сохранился, как и интерпретация всего этого дела."
   ]
  },
  {
   "cell_type": "markdown",
   "metadata": {
    "id": "1gqQgiMs11bs"
   },
   "source": [
    "Удалите из словаря стоп-слова и пунктуацию, посмотрите на новый топ-10 слов с количеством встреч, есть ли теперь в нем что-то не похожее на слова?"
   ]
  },
  {
   "cell_type": "code",
   "execution_count": 294,
   "metadata": {
    "id": "0yHWdFrp0Mup"
   },
   "outputs": [],
   "source": [
    "from string import punctuation\n",
    "\n",
    "# -- YOUR CODE HERE --"
   ]
  },
  {
   "cell_type": "markdown",
   "metadata": {
    "id": "8ZJqXELP_Yxy"
   },
   "source": [
    "**Ответ:** упс, уже сделал"
   ]
  },
  {
   "cell_type": "markdown",
   "metadata": {
    "id": "rzXjMsSB_kXB"
   },
   "source": [
    "Скорее всего в некоторых топах были неотображаемые символы или отдельные буквы не латинского алфавита. Уберем их: удалите из словаря токены из одного символа, позиция которого в таблице Unicode 128 и более (`ord(x) >= 128`)\n",
    "\n",
    "Выведите топ-10 самых популярных и топ-20 непопулярных слов. Чем полученные топы отличаются от итоговых топов, полученных при использовании токенизации по пробелам? Что теперь лучше, а что хуже?"
   ]
  },
  {
   "cell_type": "code",
   "execution_count": 295,
   "metadata": {
    "id": "1695hlkS_1-J"
   },
   "outputs": [
    {
     "data": {
      "text/plain": [
       "@awgcorporate              1\n",
       "https://t.co/l8jnzxjgwo    1\n",
       "587-4272                   1\n",
       "readiness                  1\n",
       "kick-in                    1\n",
       "https://t.co/wa7kcdwqea    1\n",
       "@linkedin                  1\n",
       "clare                      1\n",
       "connors                    1\n",
       "levins                     1\n",
       "https://t.co/6ytxpz5ug9    1\n",
       "https://t.co/8xikga3rel    1\n",
       "quantitatively             1\n",
       "logarithmic                1\n",
       "non-log                    1\n",
       "improveã                   1\n",
       "https://t.co/aacxqg5sej    1\n",
       "rebooked                   1\n",
       "can't-miss                 1\n",
       "https://t.co/7j2y3rsld9    1\n",
       "dtype: int64"
      ]
     },
     "execution_count": 295,
     "metadata": {},
     "output_type": "execute_result"
    }
   ],
   "source": [
    "tokens.tail(20)"
   ]
  },
  {
   "cell_type": "markdown",
   "metadata": {
    "id": "KzjHAKIlDvc6"
   },
   "source": [
    "**Ответ:**\n",
    "\n",
    "Изначально я захардкодил пару неинформативных символов, добавив в стоп-лист, но увидев этот пункт изменил решение.\n",
    "\n",
    "Говоря о репрезентативности: топ остался тот же (или почти тот же, но новых выводов сделать нельзя), однако хвост оказался более репрезентативен. Несмотря на теги, ссылки и прочий смысловой мусор, о каких-то токенах мы можем рассуждать как о непопулярных, например, `wrinkles`, `ombudsman` "
   ]
  },
  {
   "cell_type": "markdown",
   "metadata": {
    "id": "EcDf9_6HB2zm"
   },
   "source": [
    "Выведите топ-10 популярных хештегов (токены, первые символы которых - #) с количеством встреч. Что можно сказать о них?"
   ]
  },
  {
   "cell_type": "code",
   "execution_count": 296,
   "metadata": {
    "id": "zk4fygCUBw3l"
   },
   "outputs": [
    {
     "data": {
      "text/plain": [
       "#coronavirus            8808\n",
       "#covid19                2589\n",
       "#covid_19               1734\n",
       "#covid2019               946\n",
       "#toiletpaper             744\n",
       "#covid                   641\n",
       "#socialdistancing        465\n",
       "#coronacrisis            448\n",
       "#pandemic                257\n",
       "#coronaviruspandemic     249\n",
       "#stayhome                235\n",
       "#coronavirusoutbreak     223\n",
       "#covid-19                218\n",
       "#corona                  209\n",
       "#lockdown                208\n",
       "#supermarket             206\n",
       "#stayathome              197\n",
       "#panicbuying             197\n",
       "#stayhomesavelives       194\n",
       "#stophoarding            190\n",
       "dtype: int64"
      ]
     },
     "execution_count": 296,
     "metadata": {},
     "output_type": "execute_result"
    }
   ],
   "source": [
    "hashtag_pattern = r'^#.+'\n",
    "\n",
    "hashtags_bool = tokens.index.str.match(hashtag_pattern)\n",
    "hashtags_index = tokens.index[hashtags_bool]\n",
    "\n",
    "hashtags = tokens.reindex(hashtags_index)\n",
    "hashtags.head(20)"
   ]
  },
  {
   "cell_type": "markdown",
   "metadata": {
    "id": "-6NeNWBkDxM7"
   },
   "source": [
    "**Ответ:** \n",
    "\n",
    "Выводы похожи на вывод для всех токенов, но с оговоркой. Кроме упоминаний базоых нужд, таких как туалетная бумага и магазины, можно заметить, что хештеги подсвечивают посыл, идею и внутренную ценность автора. Например, `stayhome`, `stayhomesavelives`, `socialdistancing` - явные призывы к действую. Возможно, имеет смысл удеелить хештегам больше внимания при обучении модели.\n",
    "\n",
    "*выбрал топ-20 для большей репрезентативности*"
   ]
  },
  {
   "cell_type": "markdown",
   "metadata": {
    "id": "LLYBg7caD5GA"
   },
   "source": [
    "То же самое проделайте для ссылок на сайт https://t.co Сравнима ли популярность ссылок с популярностью хештегов? Будет ли информация о ссылке на конкретную страницу полезна?"
   ]
  },
  {
   "cell_type": "code",
   "execution_count": 297,
   "metadata": {
    "id": "MXbm1oeaCK9S"
   },
   "outputs": [
    {
     "data": {
      "text/plain": [
       "https://t.co/oxa7swtond       5\n",
       "https://t.co/gp3eusapl8       4\n",
       "https://t.co/g63rp042ho       3\n",
       "https://t.co/3gbbdpdjat       3\n",
       "https://t.co/e2znxajpre       3\n",
       "https://t.co/catkegayoy       3\n",
       "https://t.co/zjnrx6dkkn       3\n",
       "https://t.co/wrlhyzizaa       3\n",
       "https://t.co/bylqxrjmnt       3\n",
       "https://t.co/oi39zsanq8       3\n",
       "https://t.co/wuieefsnoj       3\n",
       "https://t.co/kuwipf1kqw       3\n",
       "https://t.co/aziqcdgrnn       3\n",
       "https://t.co/deftrui1pfãâ    3\n",
       "https://t.co/idrwmv5xvd       2\n",
       "https://t.co/flsrsnlmwu       2\n",
       "https://t.co/ealrmfwnxg       2\n",
       "https://t.co/drfyfx7ths       2\n",
       "https://t.co/n4fznmmsh7       2\n",
       "https://t.co/i7uiizconb       2\n",
       "dtype: int64"
      ]
     },
     "execution_count": 297,
     "metadata": {},
     "output_type": "execute_result"
    }
   ],
   "source": [
    "url_pattern = r'^https://t\\.co'\n",
    "\n",
    "url_bool = tokens.index.str.match(url_pattern)\n",
    "url_index = tokens.index[url_bool]\n",
    "\n",
    "links = tokens.reindex(url_index)\n",
    "links.head(20)"
   ]
  },
  {
   "cell_type": "markdown",
   "metadata": {
    "id": "at6lRYZ8A07N"
   },
   "source": [
    "**Ответ:** самая популярная ссылка имеет 5 твитов с ней, что очень мало. Так что нет, ссылки\n",
    "для анализа не принесут ничего полезного, так как малое количесво данных не может позволить сделать какие-то знаяимые связи."
   ]
  },
  {
   "cell_type": "markdown",
   "metadata": {
    "id": "IOGdUU1kBU1D"
   },
   "source": [
    "Используем опыт предыдущих экспериментов и напишем собственный токенайзер, улучшив TweetTokenizer. Функция tokenize должна:\n",
    "\n",
    "\n",
    "\n",
    "*   Привести текст в нижний регистр\n",
    "*   Применить TweetTokenizer для  выделения токенов\n",
    "*   Удалить стоп-слова, пунктуацию, токены из одного символа с позицией в таблице Unicode 128 и более,  ссылки на t.co\n",
    "\n"
   ]
  },
  {
   "cell_type": "code",
   "execution_count": 298,
   "metadata": {
    "id": "ctEsB6xkFrrK"
   },
   "outputs": [],
   "source": [
    "# не думал не гадал, но уже почти написал его выше\n",
    "\n",
    "from nltk.tokenize import TweetTokenizer\n",
    "from string import punctuation\n",
    "import re\n",
    "\n",
    "tokenizer = TweetTokenizer()\n",
    "\n",
    "st_l = st_w + list(punctuation)\n",
    "\n",
    "def custom_tokenizer(text):\n",
    "    tokens = []\n",
    "    ts = tokenizer.tokenize(text)\n",
    "    \n",
    "    for t in ts:\n",
    "        t = t.lower().strip()\n",
    "        \n",
    "        if len(t) == 1 and ord(t) >= 128:\n",
    "            continue\n",
    "        if len(re.findall(url_pattern, t)) > 0:\n",
    "            continue\n",
    "        if t in st_l:\n",
    "            continue\n",
    "\n",
    "        tokens.append(t)\n",
    "\n",
    "    return tokens\n"
   ]
  },
  {
   "cell_type": "code",
   "execution_count": 299,
   "metadata": {
    "colab": {
     "base_uri": "https://localhost:8080/"
    },
    "id": "XwbgtYkJGYym",
    "outputId": "5808765b-3448-45e6-ccc1-7cd65f6371ef"
   },
   "outputs": [
    {
     "data": {
      "text/plain": [
       "['sample', 'text', '@sample_text', '#sampletext']"
      ]
     },
     "execution_count": 299,
     "metadata": {},
     "output_type": "execute_result"
    }
   ],
   "source": [
    "custom_tokenizer('This is sample text!!!! @Sample_text I, \\x92\\x92 https://t.co  #sampletext')"
   ]
  },
  {
   "cell_type": "markdown",
   "metadata": {
    "id": "wURVABmXHk97"
   },
   "source": [
    "## Задание 3 Векторизация текстов (2 балла)"
   ]
  },
  {
   "cell_type": "markdown",
   "metadata": {
    "id": "H44iXkoHIQfN"
   },
   "source": [
    "Обучите CountVectorizer с использованием custom_tokenizer в качестве токенайзера. Как размер полученного словаря соотносится с размером изначального словаря из начала задания 2?"
   ]
  },
  {
   "cell_type": "code",
   "execution_count": 300,
   "metadata": {},
   "outputs": [
    {
     "data": {
      "text/plain": [
       "(23410, 5)"
      ]
     },
     "execution_count": 300,
     "metadata": {},
     "output_type": "execute_result"
    }
   ],
   "source": [
    "X_train.shape"
   ]
  },
  {
   "cell_type": "code",
   "execution_count": 301,
   "metadata": {
    "colab": {
     "base_uri": "https://localhost:8080/"
    },
    "id": "gHn_limQl3BI",
    "outputId": "8e9c1826-319f-4376-f06e-c30c2eb82648"
   },
   "outputs": [
    {
     "name": "stdout",
     "output_type": "stream",
     "text": [
      "45290\n"
     ]
    }
   ],
   "source": [
    "from sklearn.feature_extraction.text import CountVectorizer\n",
    "\n",
    "cv = CountVectorizer(tokenizer=custom_tokenizer)\n",
    "cv.fit_transform(X_train[\"OriginalTweet\"])\n",
    "\n",
    "print(len(cv.vocabulary_))"
   ]
  },
  {
   "cell_type": "markdown",
   "metadata": {
    "id": "gsfmaSGoItUm"
   },
   "source": [
    "**Ответ:** # -- YOUR ANSWER HERE --\n",
    "\n",
    "было: 45308"
   ]
  },
  {
   "cell_type": "markdown",
   "metadata": {
    "id": "lm6UHNmqKZT0"
   },
   "source": [
    "Посмотрим на какой-нибудь конкретный твитт:"
   ]
  },
  {
   "cell_type": "code",
   "execution_count": 302,
   "metadata": {
    "id": "aJVjjfqOJh8m"
   },
   "outputs": [
    {
     "data": {
      "text/plain": [
       "(\"Shop keepers taking advantage of #Coronavirus boosting prices disproportionately so the most Marginalised suffer who can't afford it #SHAMEONYOU #Wewillremember\",\n",
       " 0)"
      ]
     },
     "execution_count": 302,
     "metadata": {},
     "output_type": "execute_result"
    }
   ],
   "source": [
    "ind = 9023\n",
    "df.iloc[ind]['OriginalTweet'], df.iloc[ind]['Sentiment']"
   ]
  },
  {
   "cell_type": "markdown",
   "metadata": {
    "id": "PBMIHBI5KdaS"
   },
   "source": [
    "Автор твитта не доволен ситуацией с едой во Франции и текст имеет резко негативную окраску.\n",
    "\n",
    "Примените обученный CountVectorizer для векторизации данного текста, и попытайтесь определить самый важный токен и самый неважный токен (токен, компонента которого в векторе максимальна/минимальна, без учета 0). Хорошо ли они определились, почему?"
   ]
  },
  {
   "cell_type": "code",
   "execution_count": 303,
   "metadata": {
    "id": "7NcAllaEKsJj"
   },
   "outputs": [
    {
     "data": {
      "text/plain": [
       "#wewillremember       1\n",
       "can't                 1\n",
       "shop                  1\n",
       "afford                1\n",
       "disproportionately    1\n",
       "#coronavirus          1\n",
       "boosting              1\n",
       "prices                1\n",
       "#shameonyou           1\n",
       "suffer                1\n",
       "taking                1\n",
       "marginalised          1\n",
       "keepers               1\n",
       "advantage             1\n",
       "interest              0\n",
       "interactions          0\n",
       "intereste             0\n",
       "interesed             0\n",
       "interested            0\n",
       "interesting           0\n",
       "dtype: int64"
      ]
     },
     "execution_count": 303,
     "metadata": {},
     "output_type": "execute_result"
    }
   ],
   "source": [
    "arr = cv.transform([df.iloc[ind]['OriginalTweet']]).toarray()\n",
    "bof = pd.Series(arr.reshape(-1), index=cv.get_feature_names_out())\n",
    "bof = bof.sort_values(ascending=False)\n",
    "bof.head(20)"
   ]
  },
  {
   "cell_type": "markdown",
   "metadata": {
    "id": "TpEsl1k_NF4T"
   },
   "source": [
    "**Ответ:** самых важных слово в тексте - 11, ровно столько в нем токенов.\n",
    "То есть каждое слово имеет одинаковый вес в данном представлении. То есть мы не смогли отпределить самого важногог токена."
   ]
  },
  {
   "cell_type": "markdown",
   "metadata": {
    "id": "w4DsEQpLO3J6"
   },
   "source": [
    "Теперь примените TfidfVectorizer и  определите самый важный/неважный токены. Хорошо ли определились, почему?"
   ]
  },
  {
   "cell_type": "code",
   "execution_count": 304,
   "metadata": {
    "id": "uSNzdK3ENGB3"
   },
   "outputs": [
    {
     "data": {
      "text/plain": [
       "marginalised          0.373460\n",
       "#wewillremember       0.373460\n",
       "#shameonyou           0.348492\n",
       "keepers               0.333887\n",
       "disproportionately    0.328334\n",
       "boosting              0.306035\n",
       "suffer                0.266462\n",
       "afford                0.230787\n",
       "advantage             0.211172\n",
       "can't                 0.196633\n",
       "taking                0.187111\n",
       "shop                  0.172201\n",
       "prices                0.096845\n",
       "#coronavirus          0.071426\n",
       "dtype: float64"
      ]
     },
     "execution_count": 304,
     "metadata": {},
     "output_type": "execute_result"
    }
   ],
   "source": [
    "from sklearn.feature_extraction.text import TfidfVectorizer\n",
    "\n",
    "tfidf_vec = TfidfVectorizer(tokenizer=custom_tokenizer)\n",
    "tfidf_vec.fit(X_train[\"OriginalTweet\"])\n",
    "\n",
    "ans = tfidf_vec.transform([df.iloc[ind]['OriginalTweet']]).toarray()\n",
    "\n",
    "needed_indexes = custom_tokenizer(df.iloc[ind]['OriginalTweet'])\n",
    "\n",
    "sample_v = pd.Series(ans.reshape(-1), index=tfidf_vec.get_feature_names_out())\n",
    "sample_v = sample_v.reindex(needed_indexes)\n",
    "sample_v = sample_v.sort_values(ascending=False)\n",
    "sample_v.head(20)"
   ]
  },
  {
   "cell_type": "markdown",
   "metadata": {
    "id": "NYao_UhqQADm"
   },
   "source": [
    "**Ответ:**\n",
    "\n",
    "Маргинализировать в самом деле обычно имеет негативную окраску как что-то непопулярное и отталкивающие массы. Так что браво! Да и весь топ-3 (который очень похож по важности) сильно передает негативную окраску текстов. \n",
    "\n",
    "И последнему месту браво не меньше, ведь коронавирус упоминаются в таком большом количестве твитов, что на этот токен не имеет смысла ориентироваться."
   ]
  },
  {
   "cell_type": "markdown",
   "metadata": {},
   "source": [
    "-------------"
   ]
  },
  {
   "cell_type": "markdown",
   "metadata": {
    "id": "LGRJPqfWSesQ"
   },
   "source": [
    "Найдите какой-нибудь положительно окрашенный твитт, где TfidfVectorizer хорошо (полезно для определения окраски) выделяет важный токен, поясните пример.\n",
    "\n",
    "*Подсказка:* явно положительные твитты можно искать при помощи положительных слов (good, great, amazing и т. д.)"
   ]
  },
  {
   "cell_type": "code",
   "execution_count": 305,
   "metadata": {
    "id": "jSjbKPCWk87K"
   },
   "outputs": [
    {
     "data": {
      "text/plain": [
       "\"On the way home, I wanted to stop by a grocery store for a few items but I didn't. It can wait. I hope my decision today saved a life or two! #DidntDoList #StayHomeSaveLives\""
      ]
     },
     "execution_count": 305,
     "metadata": {},
     "output_type": "execute_result"
    }
   ],
   "source": [
    "idx = 33169\n",
    "\n",
    "# в предложении есть слово \"hope\"\n",
    "sample = df.iloc[idx]\n",
    "sample[\"OriginalTweet\"]"
   ]
  },
  {
   "cell_type": "code",
   "execution_count": 306,
   "metadata": {},
   "outputs": [
    {
     "data": {
      "text/plain": [
       "#didntdolist          0.444128\n",
       "saved                 0.343401\n",
       "decision              0.315799\n",
       "wanted                0.282513\n",
       "wait                  0.262441\n",
       "#stayhomesavelives    0.247940\n",
       "hope                  0.233841\n",
       "life                  0.229202\n",
       "two                   0.224887\n",
       "items                 0.207433\n",
       "way                   0.204947\n",
       "stop                  0.192462\n",
       "today                 0.188281\n",
       "home                  0.169852\n",
       "grocery               0.125894\n",
       "store                 0.122157\n",
       "dtype: float64"
      ]
     },
     "execution_count": 306,
     "metadata": {},
     "output_type": "execute_result"
    }
   ],
   "source": [
    "needed_indexes = custom_tokenizer(df.iloc[idx]['OriginalTweet'])\n",
    "\n",
    "ans = tfidf_vec.transform([df.iloc[idx]['OriginalTweet']]).toarray()\n",
    "\n",
    "sample_v = pd.Series(ans.reshape(-1), index=tfidf_vec.get_feature_names_out())\n",
    "sample_v = sample_v.reindex(needed_indexes)\n",
    "sample_v = sample_v.sort_values(ascending=False)\n",
    "sample_v.head(20)"
   ]
  },
  {
   "cell_type": "markdown",
   "metadata": {
    "id": "JTv9ST2_U6NA"
   },
   "source": [
    "**Ответ:** Сравнивая мое предположительный токен: `hope`, и токен, выделенный\n",
    "алгоритмом, я склоняюсь к его версии! `saved` сразу навеевает позитив на сообщение. А что значит `#didntdolist` я так и не понял "
   ]
  },
  {
   "cell_type": "markdown",
   "metadata": {
    "id": "JVEuZm8BHms6"
   },
   "source": [
    "## Задание 4 Обучение первых моделей (1 балл)"
   ]
  },
  {
   "cell_type": "markdown",
   "metadata": {
    "id": "JADkO3sfXdOG"
   },
   "source": [
    "Примените оба векторайзера для получения матриц с признаками текстов.  Выделите целевую переменную."
   ]
  },
  {
   "cell_type": "code",
   "execution_count": 307,
   "metadata": {
    "id": "DguoiXhCX2oN"
   },
   "outputs": [],
   "source": [
    "simple_cv_train = cv.transform(X_train['OriginalTweet'])\n",
    "tfidf_vc_train = tfidf_vec.transform(X_train['OriginalTweet'])\n",
    "\n",
    "simple_cv_test = cv.transform(X_test['OriginalTweet'])\n",
    "tfidf_vc_test = tfidf_vec.transform(X_test['OriginalTweet'])"
   ]
  },
  {
   "cell_type": "markdown",
   "metadata": {
    "id": "_FX1KSOfYSx4"
   },
   "source": [
    "Обучите логистическую регрессию на векторах из обоих векторайзеров. Посчитайте долю правильных ответов на обучающих и тестовых данных. Какой векторайзер показал лучший результат? Что можно сказать о моделях?\n",
    "\n",
    "Используйте `sparse` матрицы (после векторизации), не превращайте их в `numpy.ndarray` или `pd.DataFrame` - может не хватить памяти."
   ]
  },
  {
   "cell_type": "code",
   "execution_count": 308,
   "metadata": {
    "id": "-Tb3eh8UXJ6v"
   },
   "outputs": [
    {
     "data": {
      "text/plain": [
       "count_train    0.984665\n",
       "count_test     0.867052\n",
       "tfidf_train    0.922426\n",
       "tfidf_test     0.852800\n",
       "dtype: float64"
      ]
     },
     "execution_count": 308,
     "metadata": {},
     "output_type": "execute_result"
    }
   ],
   "source": [
    "from sklearn.linear_model import LogisticRegression\n",
    "from sklearn.metrics import accuracy_score\n",
    "\n",
    "lr_simple = LogisticRegression()\n",
    "lr_tfidf = LogisticRegression()\n",
    "\n",
    "lr_simple.fit(simple_cv_train, y_train)\n",
    "lr_tfidf.fit(tfidf_vc_train, y_train)\n",
    "\n",
    "simple_cv_train_pred = lr_simple.predict(simple_cv_train)\n",
    "tfidf_cv_train_pred = lr_tfidf.predict(tfidf_vc_train)\n",
    "\n",
    "simple_cv_test_pred = lr_simple.predict(simple_cv_test)\n",
    "tfidf_cv_test_pred = lr_tfidf.predict(tfidf_vc_test)\n",
    "\n",
    "data_accuracy = {\n",
    "    \"count_train\": accuracy_score(simple_cv_train_pred, y_train),\n",
    "    \"count_test\": accuracy_score(simple_cv_test_pred, y_test),\n",
    "    \"tfidf_train\": accuracy_score(tfidf_cv_train_pred, y_train),\n",
    "    \"tfidf_test\": accuracy_score(tfidf_cv_test_pred, y_test),\n",
    "}\n",
    "\n",
    "pd.Series(data_accuracy)"
   ]
  },
  {
   "cell_type": "markdown",
   "metadata": {
    "id": "8y_wO7rCmv7K"
   },
   "source": [
    "**Ответ:** на наших моделях себя лучше показал логистический регрессор,\n",
    "и на `test`, и на `train` выборках. Получается, на данном примере себя намного лучше показал вариант векторизации попроще. Интерпретирвоать это сложно, на самом деле, но поптаюсь:\n",
    "\n",
    "ладно, я не знаю, сдаюсь..."
   ]
  },
  {
   "cell_type": "markdown",
   "metadata": {
    "id": "rSOR1i3mjrys"
   },
   "source": [
    "## Задание 5 Стемминг (0.5 балла)"
   ]
  },
  {
   "cell_type": "markdown",
   "metadata": {
    "id": "i6ONBWNPjuq-"
   },
   "source": [
    "Для уменьшения словаря можно использовать стемминг.\n",
    "\n",
    "Модифицируйте написанный токенайзер, добавив в него стемминг с использованием SnowballStemmer. Обучите Count- и Tfidf- векторайзеры. Как изменился размер словаря?"
   ]
  },
  {
   "cell_type": "code",
   "execution_count": 309,
   "metadata": {
    "id": "oVfA2-iMkQBb"
   },
   "outputs": [],
   "source": [
    "from nltk.tokenize import TweetTokenizer\n",
    "from nltk.stem.snowball import SnowballStemmer\n",
    "from string import punctuation\n",
    "import re\n",
    "\n",
    "tokenizer = TweetTokenizer()\n",
    "stemmer = SnowballStemmer(\"english\")\n",
    "st_l = st_w + list(punctuation)\n",
    "\n",
    "def custom_stem_tokenizer(text):\n",
    "    tokens = []\n",
    "    ts = tokenizer.tokenize(text)\n",
    "    ts = [stemmer.stem(t) for t in ts]\n",
    "    \n",
    "    for t in ts:\n",
    "        t = t.lower().strip()\n",
    "        \n",
    "        if len(t) == 1 and ord(t) >= 128:\n",
    "            continue\n",
    "        if len(re.findall(url_pattern, t)) > 0:\n",
    "            continue\n",
    "        if t in st_l:\n",
    "            continue\n",
    "\n",
    "        tokens.append(t)\n",
    "\n",
    "    return tokens"
   ]
  },
  {
   "cell_type": "code",
   "execution_count": 310,
   "metadata": {
    "colab": {
     "base_uri": "https://localhost:8080/"
    },
    "id": "9QmrjYtqnlPd",
    "outputId": "cd91291d-9676-4611-9fc4-28afaed58963"
   },
   "outputs": [
    {
     "data": {
      "text/plain": [
       "['sampl', 'text', '@sample_text', '#sampletext', 'ad', 'word', 'check', 'stem']"
      ]
     },
     "execution_count": 310,
     "metadata": {},
     "output_type": "execute_result"
    }
   ],
   "source": [
    "custom_stem_tokenizer('This is sample text!!!! @Sample_text I, \\x92\\x92 https://t.co/sample  #sampletext adding more words to check stemming')"
   ]
  },
  {
   "cell_type": "code",
   "execution_count": 311,
   "metadata": {
    "colab": {
     "base_uri": "https://localhost:8080/"
    },
    "id": "zAvUTmaplzOS",
    "outputId": "566207fe-183b-4ed6-d333-f86f0cc9ae38"
   },
   "outputs": [
    {
     "name": "stdout",
     "output_type": "stream",
     "text": [
      "36608\n"
     ]
    }
   ],
   "source": [
    "cv = CountVectorizer(tokenizer=custom_stem_tokenizer)\n",
    "cv.fit(X_train[\"OriginalTweet\"])\n",
    "\n",
    "print(len(cv.vocabulary_))"
   ]
  },
  {
   "cell_type": "markdown",
   "metadata": {
    "id": "Oyzs5TaAoHP6"
   },
   "source": [
    "**Ответ** Что предсказуемо, словарных запас значительно сохранился, ведь \n",
    "функция стемминга от невозрастающая (слов станосится меньше или равно). А так как наш корпус текстов был велик, он уменьшился."
   ]
  },
  {
   "cell_type": "markdown",
   "metadata": {
    "id": "1OkncHI8oRmd"
   },
   "source": [
    "Обучите логистическую регрессию с использованием обоих векторайзеров. Изменилось ли качество? Есть ли смысл применять стемминг?"
   ]
  },
  {
   "cell_type": "code",
   "execution_count": 312,
   "metadata": {},
   "outputs": [],
   "source": [
    "count_vc_stemed = CountVectorizer(tokenizer=custom_stem_tokenizer)\n",
    "tfidf_vc_stemed = TfidfVectorizer(tokenizer=custom_stem_tokenizer)\n",
    "\n",
    "count_vc_stemed.fit(X_train[\"OriginalTweet\"])\n",
    "tfidf_vc_stemed.fit(X_train[\"OriginalTweet\"])\n",
    "\n",
    "count_vc_test = count_vc_stemed.transform(X_test[\"OriginalTweet\"])\n",
    "count_vc_train = count_vc_stemed.transform(X_train[\"OriginalTweet\"])\n",
    "\n",
    "tfidf_vc_test = tfidf_vc_stemed.transform(X_test[\"OriginalTweet\"])\n",
    "tfidf_vc_train = tfidf_vc_stemed.transform(X_train[\"OriginalTweet\"])"
   ]
  },
  {
   "cell_type": "code",
   "execution_count": 313,
   "metadata": {
    "id": "ykZJPphEoZ5W"
   },
   "outputs": [
    {
     "data": {
      "text/plain": [
       "count_train    0.971721\n",
       "count_test     0.868148\n",
       "tfidf_train    0.915549\n",
       "tfidf_test     0.854694\n",
       "dtype: float64"
      ]
     },
     "execution_count": 313,
     "metadata": {},
     "output_type": "execute_result"
    }
   ],
   "source": [
    "lr_count = LogisticRegression()\n",
    "lr_tfidf = LogisticRegression()\n",
    "\n",
    "lr_count.fit(count_vc_train, y_train)\n",
    "lr_tfidf.fit(tfidf_vc_train, y_train)\n",
    "\n",
    "count_train_pred = lr_count.predict(count_vc_train)\n",
    "tfidf_train_pred = lr_tfidf.predict(tfidf_vc_train)\n",
    "\n",
    "count_test_pred = lr_count.predict(count_vc_test)\n",
    "tfidf_test_pred = lr_tfidf.predict(tfidf_vc_test)\n",
    "\n",
    "data_stem_accuracy = {\n",
    "    \"count_train\": accuracy_score(count_train_pred, y_train),\n",
    "    \"count_test\": accuracy_score(count_test_pred, y_test),\n",
    "    \"tfidf_train\": accuracy_score(tfidf_train_pred, y_train),\n",
    "    \"tfidf_test\": accuracy_score(tfidf_test_pred, y_test),\n",
    "}\n",
    "\n",
    "pd.Series(data_stem_accuracy)\n"
   ]
  },
  {
   "cell_type": "markdown",
   "metadata": {
    "id": "bCRlrODro0h8"
   },
   "source": [
    "**Ответ:** применив стеминг значения при `CountVectorizer` почти не изменились\n",
    "(что даже похоже на ошибку, но вроде нет), и `TfidfVectirizer` изменился несущественно: минус процент на обучающей, плюс процент на тестовой. В данно мпримере нет смсла использовать стемминг. Качество моделей меняется несущественно."
   ]
  },
  {
   "cell_type": "markdown",
   "metadata": {
    "id": "hYWGQNEDqLC-"
   },
   "source": [
    "## Задание  6 Работа с частотами (1.5 балла)"
   ]
  },
  {
   "cell_type": "markdown",
   "metadata": {
    "id": "8Hq-tl5mqUSn"
   },
   "source": [
    "Еще один способ уменьшить количество признаков - это использовать параметры min_df и max_df при построении векторайзера  эти параметры помогают ограничить требуемую частоту встречаемости токена в документах.\n",
    "\n",
    "По умолчанию берутся все токены, которые встретились хотя бы один раз.\n",
    "\n"
   ]
  },
  {
   "cell_type": "markdown",
   "metadata": {
    "id": "m1SiD4DE3WZ2"
   },
   "source": [
    "Подберите max_df такой, что размер словаря будет 36651 (на 1 меньше, чем было). Почему параметр получился такой большой/маленький?"
   ]
  },
  {
   "cell_type": "code",
   "execution_count": 314,
   "metadata": {
    "id": "tyEpkJUkjnuK"
   },
   "outputs": [
    {
     "name": "stdout",
     "output_type": "stream",
     "text": [
      "36596 0.1\n",
      "36607 0.325\n",
      "36608 0.55\n",
      "36608 0.775\n",
      "36608 1.0\n"
     ]
    }
   ],
   "source": [
    "possible = np.linspace(0.1, 1, 5)\n",
    "for p in possible:\n",
    "    cv_df = CountVectorizer(tokenizer=custom_stem_tokenizer,\n",
    "                        max_df=p\n",
    "                        ).fit(\n",
    "                            X_train[\"OriginalTweet\"]\n",
    "                            )\n",
    "    print(len(cv_df.vocabulary_), p)"
   ]
  },
  {
   "cell_type": "markdown",
   "metadata": {
    "id": "UdZYoGZR4UsA"
   },
   "source": [
    "**Ответ:** получается, только 2 слова встречались в более чем 10% текстов,\n",
    "и только одно в более чем  в 32.5% текстов. Значение в ответ - 0.325, так как оно вычеркивает одно значение из текста.\n",
    "\n",
    "Это можно интерпретировать так: люди редко используют одни и те же слова (токены) (не считая мусорные stop-words), когда пишут посты."
   ]
  },
  {
   "cell_type": "markdown",
   "metadata": {
    "id": "_gRIUaB1u32f"
   },
   "source": [
    "Подберите min_df (используйте дефолтное значение max_df) в CountVectorizer таким образом, чтобы размер словаря был 3700 токенов (при использовании токенайзера со стеммингом), а качество осталось таким же, как и было. Что можно сказать о результатах?"
   ]
  },
  {
   "cell_type": "code",
   "execution_count": 315,
   "metadata": {
    "id": "mvMDwpdfjm8Y"
   },
   "outputs": [],
   "source": [
    "def din_search(l, r, res):\n",
    "    eps = 1e-10\n",
    "    while (r - l) > eps:\n",
    "        mid = (l + r) / 2\n",
    "        \n",
    "        cv_df = CountVectorizer(tokenizer=custom_stem_tokenizer,\n",
    "                        min_df=mid\n",
    "                        ).fit(\n",
    "                            X_train[\"OriginalTweet\"]\n",
    "                            )\n",
    "        cur_amount = len(cv_df.vocabulary_)\n",
    "\n",
    "        print(cur_amount, l, r)\n",
    "\n",
    "        if cur_amount < res: # то есть слов у нас мало, надо больше слов! надо уменьшить границу\n",
    "            r = mid\n",
    "        elif cur_amount == 3700:\n",
    "            return mid\n",
    "        else:\n",
    "            l = mid\n",
    "        \n",
    "    return l"
   ]
  },
  {
   "cell_type": "code",
   "execution_count": 317,
   "metadata": {},
   "outputs": [
    {
     "name": "stdout",
     "output_type": "stream",
     "text": [
      "36 0.0001 0.1\n",
      "107 0.0001 0.050050000000000004\n",
      "248 0.0001 0.025075000000000004\n",
      "537 0.0001 0.012587500000000001\n",
      "975 0.0001 0.00634375\n",
      "1614 0.0001 0.0032218750000000003\n",
      "2421 0.0001 0.0016609375\n",
      "3484 0.0001 0.0008804687500000001\n",
      "4963 0.0001 0.000490234375\n",
      "3925 0.0002951171875 0.000490234375\n",
      "3694 0.00039267578125 0.000490234375\n",
      "3925 0.00039267578125 0.000441455078125\n",
      "3694 0.0004170654296875 0.000441455078125\n",
      "3925 0.0004170654296875 0.00042926025390624997\n",
      "3925 0.000423162841796875 0.00042926025390624997\n",
      "3694 0.00042621154785156247 0.00042926025390624997\n",
      "3925 0.00042621154785156247 0.00042773590087890625\n",
      "3694 0.00042697372436523433 0.00042773590087890625\n"
     ]
    },
    {
     "ename": "KeyboardInterrupt",
     "evalue": "",
     "output_type": "error",
     "traceback": [
      "\u001b[0;31m---------------------------------------------------------------------------\u001b[0m",
      "\u001b[0;31mKeyboardInterrupt\u001b[0m                         Traceback (most recent call last)",
      "Cell \u001b[0;32mIn[317], line 1\u001b[0m\n\u001b[0;32m----> 1\u001b[0m din_search(\u001b[38;5;241m0.0001\u001b[39m, \u001b[38;5;241m0.1\u001b[39m, \u001b[38;5;241m3700\u001b[39m)\n",
      "Cell \u001b[0;32mIn[315], line 8\u001b[0m, in \u001b[0;36mdin_search\u001b[0;34m(l, r, res)\u001b[0m\n\u001b[1;32m      3\u001b[0m \u001b[38;5;28;01mwhile\u001b[39;00m (r \u001b[38;5;241m-\u001b[39m l) \u001b[38;5;241m>\u001b[39m eps:\n\u001b[1;32m      4\u001b[0m     mid \u001b[38;5;241m=\u001b[39m (l \u001b[38;5;241m+\u001b[39m r) \u001b[38;5;241m/\u001b[39m \u001b[38;5;241m2\u001b[39m\n\u001b[1;32m      6\u001b[0m     cv_df \u001b[38;5;241m=\u001b[39m CountVectorizer(tokenizer\u001b[38;5;241m=\u001b[39mcustom_stem_tokenizer,\n\u001b[1;32m      7\u001b[0m                     min_df\u001b[38;5;241m=\u001b[39mmid\n\u001b[0;32m----> 8\u001b[0m                     )\u001b[38;5;241m.\u001b[39mfit(\n\u001b[1;32m      9\u001b[0m                         X_train[\u001b[38;5;124m\"\u001b[39m\u001b[38;5;124mOriginalTweet\u001b[39m\u001b[38;5;124m\"\u001b[39m]\n\u001b[1;32m     10\u001b[0m                         )\n\u001b[1;32m     11\u001b[0m     cur_amount \u001b[38;5;241m=\u001b[39m \u001b[38;5;28mlen\u001b[39m(cv_df\u001b[38;5;241m.\u001b[39mvocabulary_)\n\u001b[1;32m     13\u001b[0m     \u001b[38;5;28mprint\u001b[39m(cur_amount, l, r)\n",
      "File \u001b[0;32m/opt/miniconda3/lib/python3.12/site-packages/sklearn/feature_extraction/text.py:1323\u001b[0m, in \u001b[0;36mCountVectorizer.fit\u001b[0;34m(self, raw_documents, y)\u001b[0m\n\u001b[1;32m   1307\u001b[0m \u001b[38;5;28;01mdef\u001b[39;00m \u001b[38;5;21mfit\u001b[39m(\u001b[38;5;28mself\u001b[39m, raw_documents, y\u001b[38;5;241m=\u001b[39m\u001b[38;5;28;01mNone\u001b[39;00m):\n\u001b[1;32m   1308\u001b[0m \u001b[38;5;250m    \u001b[39m\u001b[38;5;124;03m\"\"\"Learn a vocabulary dictionary of all tokens in the raw documents.\u001b[39;00m\n\u001b[1;32m   1309\u001b[0m \n\u001b[1;32m   1310\u001b[0m \u001b[38;5;124;03m    Parameters\u001b[39;00m\n\u001b[0;32m   (...)\u001b[0m\n\u001b[1;32m   1321\u001b[0m \u001b[38;5;124;03m        Fitted vectorizer.\u001b[39;00m\n\u001b[1;32m   1322\u001b[0m \u001b[38;5;124;03m    \"\"\"\u001b[39;00m\n\u001b[0;32m-> 1323\u001b[0m     \u001b[38;5;28mself\u001b[39m\u001b[38;5;241m.\u001b[39mfit_transform(raw_documents)\n\u001b[1;32m   1324\u001b[0m     \u001b[38;5;28;01mreturn\u001b[39;00m \u001b[38;5;28mself\u001b[39m\n",
      "File \u001b[0;32m/opt/miniconda3/lib/python3.12/site-packages/sklearn/base.py:1473\u001b[0m, in \u001b[0;36m_fit_context.<locals>.decorator.<locals>.wrapper\u001b[0;34m(estimator, *args, **kwargs)\u001b[0m\n\u001b[1;32m   1466\u001b[0m     estimator\u001b[38;5;241m.\u001b[39m_validate_params()\n\u001b[1;32m   1468\u001b[0m \u001b[38;5;28;01mwith\u001b[39;00m config_context(\n\u001b[1;32m   1469\u001b[0m     skip_parameter_validation\u001b[38;5;241m=\u001b[39m(\n\u001b[1;32m   1470\u001b[0m         prefer_skip_nested_validation \u001b[38;5;129;01mor\u001b[39;00m global_skip_validation\n\u001b[1;32m   1471\u001b[0m     )\n\u001b[1;32m   1472\u001b[0m ):\n\u001b[0;32m-> 1473\u001b[0m     \u001b[38;5;28;01mreturn\u001b[39;00m fit_method(estimator, \u001b[38;5;241m*\u001b[39margs, \u001b[38;5;241m*\u001b[39m\u001b[38;5;241m*\u001b[39mkwargs)\n",
      "File \u001b[0;32m/opt/miniconda3/lib/python3.12/site-packages/sklearn/feature_extraction/text.py:1372\u001b[0m, in \u001b[0;36mCountVectorizer.fit_transform\u001b[0;34m(self, raw_documents, y)\u001b[0m\n\u001b[1;32m   1364\u001b[0m             warnings\u001b[38;5;241m.\u001b[39mwarn(\n\u001b[1;32m   1365\u001b[0m                 \u001b[38;5;124m\"\u001b[39m\u001b[38;5;124mUpper case characters found in\u001b[39m\u001b[38;5;124m\"\u001b[39m\n\u001b[1;32m   1366\u001b[0m                 \u001b[38;5;124m\"\u001b[39m\u001b[38;5;124m vocabulary while \u001b[39m\u001b[38;5;124m'\u001b[39m\u001b[38;5;124mlowercase\u001b[39m\u001b[38;5;124m'\u001b[39m\u001b[38;5;124m\"\u001b[39m\n\u001b[1;32m   1367\u001b[0m                 \u001b[38;5;124m\"\u001b[39m\u001b[38;5;124m is True. These entries will not\u001b[39m\u001b[38;5;124m\"\u001b[39m\n\u001b[1;32m   1368\u001b[0m                 \u001b[38;5;124m\"\u001b[39m\u001b[38;5;124m be matched with any documents\u001b[39m\u001b[38;5;124m\"\u001b[39m\n\u001b[1;32m   1369\u001b[0m             )\n\u001b[1;32m   1370\u001b[0m             \u001b[38;5;28;01mbreak\u001b[39;00m\n\u001b[0;32m-> 1372\u001b[0m vocabulary, X \u001b[38;5;241m=\u001b[39m \u001b[38;5;28mself\u001b[39m\u001b[38;5;241m.\u001b[39m_count_vocab(raw_documents, \u001b[38;5;28mself\u001b[39m\u001b[38;5;241m.\u001b[39mfixed_vocabulary_)\n\u001b[1;32m   1374\u001b[0m \u001b[38;5;28;01mif\u001b[39;00m \u001b[38;5;28mself\u001b[39m\u001b[38;5;241m.\u001b[39mbinary:\n\u001b[1;32m   1375\u001b[0m     X\u001b[38;5;241m.\u001b[39mdata\u001b[38;5;241m.\u001b[39mfill(\u001b[38;5;241m1\u001b[39m)\n",
      "File \u001b[0;32m/opt/miniconda3/lib/python3.12/site-packages/sklearn/feature_extraction/text.py:1270\u001b[0m, in \u001b[0;36mCountVectorizer._count_vocab\u001b[0;34m(self, raw_documents, fixed_vocab)\u001b[0m\n\u001b[1;32m   1266\u001b[0m     \u001b[38;5;28;01mexcept\u001b[39;00m \u001b[38;5;167;01mKeyError\u001b[39;00m:\n\u001b[1;32m   1267\u001b[0m         \u001b[38;5;66;03m# Ignore out-of-vocabulary items for fixed_vocab=True\u001b[39;00m\n\u001b[1;32m   1268\u001b[0m         \u001b[38;5;28;01mcontinue\u001b[39;00m\n\u001b[0;32m-> 1270\u001b[0m j_indices\u001b[38;5;241m.\u001b[39mextend(feature_counter\u001b[38;5;241m.\u001b[39mkeys())\n\u001b[1;32m   1271\u001b[0m values\u001b[38;5;241m.\u001b[39mextend(feature_counter\u001b[38;5;241m.\u001b[39mvalues())\n\u001b[1;32m   1272\u001b[0m indptr\u001b[38;5;241m.\u001b[39mappend(\u001b[38;5;28mlen\u001b[39m(j_indices))\n",
      "\u001b[0;31mKeyboardInterrupt\u001b[0m: "
     ]
    }
   ],
   "source": [
    "din_search(0.0001, 0.1, 3700)"
   ]
  },
  {
   "cell_type": "markdown",
   "metadata": {
    "id": "3fGYpUIZx0fk"
   },
   "source": [
    "**Ответ:** получатся, четку грань найти сложно, однако число \n",
    "`0.0004271679900586605` наиболее подходит под условие задачи.\n",
    "\n",
    "Интерпретация: всего доли процента достаточно, чтобы отрезать большую часть слов (токенов). То есть слова редко встрнечаются в разных текстах."
   ]
  },
  {
   "cell_type": "code",
   "execution_count": 318,
   "metadata": {},
   "outputs": [],
   "source": [
    "min_db_var = 0.0004271679900586605"
   ]
  },
  {
   "cell_type": "markdown",
   "metadata": {
    "id": "Gx_h_-inKbBl"
   },
   "source": [
    "В предыдущих заданиях признаки не скалировались. Отскалируйте данные (при словаре размера 3.7 тысяч, векторизованные CountVectorizer), обучите логистическую регрессию, посмотрите качество и выведите `barplot`, содержащий по 10 токенов, с наибольшим по модулю положительными/отрицательными весами. Что можно сказать об этих токенах?"
   ]
  },
  {
   "cell_type": "code",
   "execution_count": 319,
   "metadata": {
    "id": "KBATXJX6LG9q"
   },
   "outputs": [
    {
     "data": {
      "text/plain": [
       "train    0.941521\n",
       "test     0.843731\n",
       "dtype: float64"
      ]
     },
     "execution_count": 319,
     "metadata": {},
     "output_type": "execute_result"
    }
   ],
   "source": [
    "from sklearn.preprocessing import StandardScaler\n",
    "\n",
    "count_vc_data = CountVectorizer(\n",
    "    tokenizer=custom_stem_tokenizer,\n",
    "    min_df=min_db_var\n",
    ")\n",
    "\n",
    "train = count_vc_data.fit_transform(X_train[\"OriginalTweet\"])\n",
    "test = count_vc_data.transform(X_test[\"OriginalTweet\"])\n",
    "\n",
    "sc = StandardScaler(with_mean=False)\n",
    "sc.fit(train)\n",
    "train_normed = sc.transform(train)\n",
    "test_normed = sc.transform(test)\n",
    "\n",
    "lr = LogisticRegression()\n",
    "lr.fit(train_normed, y_train)\n",
    "\n",
    "train_pred = lr.predict(train_normed)\n",
    "test_pred = lr.predict(test_normed)\n",
    "\n",
    "accuracy = {\n",
    "    \"train\": accuracy_score(train_pred, y_train),\n",
    "    \"test\": accuracy_score(test_pred, y_test)\n",
    "}\n",
    "\n",
    "data_ans = pd.Series(accuracy)\n",
    "data_ans"
   ]
  },
  {
   "cell_type": "code",
   "execution_count": 320,
   "metadata": {},
   "outputs": [
    {
     "data": {
      "text/plain": [
       "crisi   -1.733760\n",
       "panic   -1.295540\n",
       "scam    -1.067524\n",
       "kill    -0.751484\n",
       "crude   -0.616757\n",
       "           ...   \n",
       "like     0.928459\n",
       "thank    1.054481\n",
       "help     1.082601\n",
       "free     1.125817\n",
       "hand     1.228622\n",
       "Length: 3694, dtype: float64"
      ]
     },
     "execution_count": 320,
     "metadata": {},
     "output_type": "execute_result"
    }
   ],
   "source": [
    "tokens_weigth = pd.Series(\n",
    "    data=lr.coef_[0],\n",
    "    index=count_vc_data.get_feature_names_out()\n",
    ")\n",
    "tokens_weigth = tokens_weigth.sort_values()\n",
    "tokens_weigth"
   ]
  },
  {
   "cell_type": "code",
   "execution_count": 321,
   "metadata": {},
   "outputs": [
    {
     "data": {
      "text/plain": [
       "<matplotlib.legend.Legend at 0x157cbe690>"
      ]
     },
     "execution_count": 321,
     "metadata": {},
     "output_type": "execute_result"
    },
    {
     "data": {
      "image/png": "[encoded data removed]",
      "text/plain": [
       "<Figure size 640x480 with 1 Axes>"
      ]
     },
     "metadata": {},
     "output_type": "display_data"
    }
   ],
   "source": [
    "import matplotlib.patches as mpatches\n",
    "\n",
    "positive = tokens_weigth[tokens_weigth > 0]\n",
    "negative = tokens_weigth[tokens_weigth < 0]\n",
    "\n",
    "top_5_positive = positive.iloc[-5:]\n",
    "top_5_negative = negative.iloc[:5]\n",
    "\n",
    "top_score = pd.DataFrame(\n",
    "    data=pd.concat([top_5_positive, top_5_negative]),\n",
    "    columns=[\"coef\"]\n",
    ")\n",
    "\n",
    "top_score[\"is_positive\"] = top_score[\"coef\"] > 0\n",
    "top_score[\"coef\"] = top_score[\"coef\"].abs()\n",
    "top_score = top_score.sort_values(\"coef\", ascending=False)\n",
    "\n",
    "blue_c = \"#162E65\"\n",
    "red_c = \"#B12D49\"\n",
    "color_bar = np.where(top_score[\"is_positive\"], blue_c, red_c)\n",
    "\n",
    "red_patch = mpatches.Patch(color=red_c, label='negative words')\n",
    "blue_patch = mpatches.Patch(color=blue_c, label='positive words')\n",
    "\n",
    "ax = top_score.plot.bar(y=\"coef\", color=color_bar, title=\"important words\")\n",
    "ax.legend(handles=[red_patch, blue_patch])"
   ]
  },
  {
   "cell_type": "markdown",
   "metadata": {
    "id": "ThcEfzY1LHET"
   },
   "source": [
    "**Ответ:** Данные токены самые важные в процессе анализа и определения\n",
    "тональности текста. Все они в самом деле (по субъективному мнению) отображают позитивную или негативную окраску."
   ]
  },
  {
   "cell_type": "markdown",
   "metadata": {
    "id": "ktJVOdrIHq7B"
   },
   "source": [
    "## Задание 7 Другие признаки (1.5 балла)"
   ]
  },
  {
   "cell_type": "markdown",
   "metadata": {
    "id": "Yt3jRCZ2H0Og"
   },
   "source": [
    "Мы были сконцентрированы на работе с текстами твиттов и не использовали другие признаки - имена пользователя, дату и местоположение"
   ]
  },
  {
   "cell_type": "markdown",
   "metadata": {
    "id": "52wjewCCo_di"
   },
   "source": [
    "Изучите признаки UserName и ScreenName. полезны ли они? Если полезны, то закодируйте их, добавьте к матрице с отскалированными признаками, обучите логистическую регрессию, замерьте качество."
   ]
  },
  {
   "cell_type": "markdown",
   "metadata": {},
   "source": [
    "Как сказал классик, для проверки важности столбца нужно ее перемешать, если точность упала - \n",
    "признак важен. Если точность выросла, нужно задуматься... В самом деле, мы модели жить мешаем, а ей только лучше становится.\n",
    "\n",
    "Работа тут больше не с текстом, а с категорией (имя пользователя), потому попробуем применить методы работы с категориальными признаками.\n",
    "\n",
    "1) Label encoding\n",
    "2) One-hot-кодирование\n",
    "3) Счётчики (CTR, mean-target кодирование) — каждый категориальный признак заменяется на среднее значение целевой переменной по всем объектам, имеющим одинаковое значение в этом признаке"
   ]
  },
  {
   "cell_type": "markdown",
   "metadata": {},
   "source": [
    "Просмотрим, сколько всего категорий имен пользователей и screenName'ов "
   ]
  },
  {
   "cell_type": "code",
   "execution_count": 322,
   "metadata": {},
   "outputs": [
    {
     "data": {
      "text/plain": [
       "ScreenName\n",
       "48752    1\n",
       "48759    1\n",
       "48760    1\n",
       "48762    1\n",
       "48763    1\n",
       "        ..\n",
       "89888    1\n",
       "89865    1\n",
       "89864    1\n",
       "89825    1\n",
       "89907    1\n",
       "Name: count, Length: 33444, dtype: int64"
      ]
     },
     "execution_count": 322,
     "metadata": {},
     "output_type": "execute_result"
    }
   ],
   "source": [
    "df[\"ScreenName\"].value_counts().sort_values()"
   ]
  },
  {
   "cell_type": "code",
   "execution_count": 323,
   "metadata": {
    "id": "63thouYZptj6"
   },
   "outputs": [
    {
     "data": {
      "text/plain": [
       "UserName\n",
       "3800     1\n",
       "3807     1\n",
       "3808     1\n",
       "3810     1\n",
       "3811     1\n",
       "        ..\n",
       "44936    1\n",
       "44913    1\n",
       "44912    1\n",
       "44873    1\n",
       "44955    1\n",
       "Name: count, Length: 33444, dtype: int64"
      ]
     },
     "execution_count": 323,
     "metadata": {},
     "output_type": "execute_result"
    }
   ],
   "source": [
    "df[\"UserName\"].value_counts().sort_values()"
   ]
  },
  {
   "cell_type": "markdown",
   "metadata": {},
   "source": [
    "Очевидно, как категориальные оба критерия рассматривать не надо (возможно, не стоит и \n",
    "явным образом кодировать значения)."
   ]
  },
  {
   "cell_type": "markdown",
   "metadata": {},
   "source": [
    "Значит, будем работать с признаками больше как текстом, а не категорией (тк,\n",
    "получается, в каждой категории только одно значение)."
   ]
  },
  {
   "cell_type": "markdown",
   "metadata": {},
   "source": [
    "Мы бы может и могли выявить паттерны в именах, но из-за анонимизации все что\n",
    "у нас есть - числа. То есть признаки бесполезны и никак помочь нам не могут."
   ]
  },
  {
   "cell_type": "markdown",
   "metadata": {
    "id": "r8_qR-gnpT3a"
   },
   "source": [
    "**Ответ:** признаки `ScreenName`, `UserName` - бесполезны"
   ]
  },
  {
   "cell_type": "markdown",
   "metadata": {
    "id": "ythEcFSkt7y3"
   },
   "source": [
    "Изучите признак TweetAt в обучающей выборке: преобразуйте его к типу datetime и нарисуйте его гистограмму с разделением по цвету на основе целевой переменной. Полезен ли он? Если полезен, то закодируйте его, добавьте к матрице с отскалированными признаками, обучите логистическую регрессию, замерьте качество."
   ]
  },
  {
   "cell_type": "code",
   "execution_count": 324,
   "metadata": {
    "id": "Lxb_k0JLirNv"
   },
   "outputs": [
    {
     "data": {
      "text/plain": [
       "TweetAt\n",
       "2020-03-20    2851\n",
       "2020-03-19    2644\n",
       "2020-03-25    2455\n",
       "2020-03-18    2256\n",
       "2020-03-21    2197\n",
       "2020-03-22    1733\n",
       "2020-03-23    1668\n",
       "2020-03-17    1616\n",
       "2020-04-08    1516\n",
       "2020-04-07    1469\n",
       "2020-04-06    1382\n",
       "2020-03-24    1196\n",
       "2020-04-09    1186\n",
       "2020-04-13    1157\n",
       "2020-03-26    1014\n",
       "2020-04-05     896\n",
       "2020-04-10     766\n",
       "2020-04-02     753\n",
       "2020-04-11     727\n",
       "2020-04-12     657\n",
       "2020-04-03     656\n",
       "2020-04-04     637\n",
       "2020-03-16     548\n",
       "2020-04-01     505\n",
       "2020-03-31     274\n",
       "2020-03-27     265\n",
       "2020-04-14     224\n",
       "2020-03-29      97\n",
       "2020-03-30      77\n",
       "2020-03-28      22\n",
       "Name: count, dtype: int64"
      ]
     },
     "execution_count": 324,
     "metadata": {},
     "output_type": "execute_result"
    }
   ],
   "source": [
    "df.TweetAt = pd.to_datetime(df.TweetAt)\n",
    "df[\"TweetAt\"].value_counts()"
   ]
  },
  {
   "cell_type": "code",
   "execution_count": 325,
   "metadata": {},
   "outputs": [
    {
     "data": {
      "image/png": "[encoded data removed]",
      "text/plain": [
       "<Figure size 1200x600 with 1 Axes>"
      ]
     },
     "metadata": {},
     "output_type": "display_data"
    }
   ],
   "source": [
    "import matplotlib.pyplot as plt\n",
    "\n",
    "fig, ax = plt.subplots(figsize=(12, 6))\n",
    "\n",
    "categories = [\"positive\", \"negative\"]\n",
    "days_vc = df[\"TweetAt\"].value_counts()\n",
    "num_days = len(days_vc)\n",
    "\n",
    "tweets_sorted = df[\"TweetAt\"].value_counts().index.sort_values()\n",
    "day_to_int = {tweets_sorted[i]: i for i in range(30)}\n",
    "\n",
    "pos_to_days = np.zeros(num_days)\n",
    "neg_to_days = np.zeros(num_days)\n",
    "\n",
    "days = np.arange(num_days) \n",
    "width = 0.4\n",
    "\n",
    "day_labels = [f\"{x.month}.{x.day}\" for x in day_to_int.keys()]\n",
    "\n",
    "def aggregate_group(gr):\n",
    "    vals_pos = gr[gr[\"Sentiment\"] == 1]\n",
    "    vals_neg = gr[gr[\"Sentiment\"] == 0]\n",
    "\n",
    "    day = gr[\"TweetAt\"].iloc[0]\n",
    "    day_idx = day_to_int[day]\n",
    "\n",
    "    pos_to_days[day_idx] += vals_pos.shape[0]\n",
    "    neg_to_days[day_idx] += vals_neg.shape[0]\n",
    "\n",
    "\n",
    "pos_vals_to_date = df.groupby(\"TweetAt\").apply(aggregate_group)\n",
    "\n",
    "# Построим positive и negative колонки рядом\n",
    "rects_pos = ax.bar(days - width/2, pos_to_days, width, label='Positive', color=blue_c)\n",
    "rects_neg = ax.bar(days + width/2, neg_to_days, width, label='Negative', color=red_c)\n",
    "\n",
    "ax.set_xticks(days)\n",
    "ax.set_xticklabels(day_labels, rotation=45)\n",
    "\n",
    "ax.set_ylabel('amount')\n",
    "ax.set_xlabel(\"day\")\n",
    "ax.set_title('posivive and negative depending on day')\n",
    "\n",
    "ax.legend(loc='upper right', ncols=2)\n",
    "\n",
    "fig.show()\n"
   ]
  },
  {
   "cell_type": "markdown",
   "metadata": {
    "id": "4IdLBdpQxM-G"
   },
   "source": [
    "**Ответ:** видим, что везде примерно одинаковое число как негативных, так\n",
    "и позитивных постов. Так что день недели ничего не говорит нам о вероятности выпадения положительного и негативного твита.\n",
    "\n"
   ]
  },
  {
   "cell_type": "markdown",
   "metadata": {
    "id": "r2JtRPhNP6qx"
   },
   "source": [
    "Поработайте с признаком Location в обучающей выборке. Сколько уникальных значений?"
   ]
  },
  {
   "cell_type": "code",
   "execution_count": 326,
   "metadata": {
    "id": "xYQZQ1FRNpoe"
   },
   "outputs": [
    {
     "data": {
      "text/plain": [
       "Location\n",
       "unknown                           2107\n",
       "London, England                    139\n",
       "London                             134\n",
       "United States                      121\n",
       "Washington, DC                      95\n",
       "                                  ... \n",
       "Harris County Texas, USA             1\n",
       "??? ???  ???? ??? ??????????         1\n",
       "San Bernardino, CA.                  1\n",
       "University of Waterloo, Canada       1\n",
       "Lexington/Phoenix                    1\n",
       "Name: count, Length: 3983, dtype: int64"
      ]
     },
     "execution_count": 326,
     "metadata": {},
     "output_type": "execute_result"
    }
   ],
   "source": [
    "locations = X_test[\"Location\"].value_counts()\n",
    "locations"
   ]
  },
  {
   "cell_type": "code",
   "execution_count": 327,
   "metadata": {},
   "outputs": [
    {
     "data": {
      "text/plain": [
       "Index(['unknown', 'London, England', 'London', 'United States',\n",
       "       'Washington, DC', 'United Kingdom', 'New York, NY', 'Los Angeles, CA',\n",
       "       'USA', 'India',\n",
       "       ...\n",
       "       'Abu Dhabi', '17', 'North Lancashire', 'Marietta, Ohio',\n",
       "       'Tampa Bay Area, Florida', 'Harris County Texas, USA',\n",
       "       '??? ???  ???? ??? ??????????', 'San Bernardino, CA.',\n",
       "       'University of Waterloo, Canada', 'Lexington/Phoenix '],\n",
       "      dtype='object', name='Location', length=3983)"
      ]
     },
     "execution_count": 327,
     "metadata": {},
     "output_type": "execute_result"
    }
   ],
   "source": [
    "locations.index"
   ]
  },
  {
   "cell_type": "markdown",
   "metadata": {},
   "source": [
    "С этим бы хорошо поработать и удалить разыне значения, но сейчас только удалим группу \n",
    "`unknown`"
   ]
  },
  {
   "cell_type": "code",
   "execution_count": 328,
   "metadata": {},
   "outputs": [
    {
     "data": {
      "text/plain": [
       "Location\n",
       "London, England                   139\n",
       "London                            134\n",
       "United States                     121\n",
       "Washington, DC                     95\n",
       "United Kingdom                     82\n",
       "                                 ... \n",
       "Harris County Texas, USA            1\n",
       "??? ???  ???? ??? ??????????        1\n",
       "San Bernardino, CA.                 1\n",
       "University of Waterloo, Canada      1\n",
       "Lexington/Phoenix                   1\n",
       "Name: count, Length: 3982, dtype: int64"
      ]
     },
     "execution_count": 328,
     "metadata": {},
     "output_type": "execute_result"
    }
   ],
   "source": [
    "locations = locations.drop(index=[\"unknown\"])\n",
    "locations"
   ]
  },
  {
   "cell_type": "markdown",
   "metadata": {
    "id": "6k4JwpRTQISa"
   },
   "source": [
    "Постройте гистограмму топ-10 по популярности местоположений (исключая Unknown)"
   ]
  },
  {
   "cell_type": "code",
   "execution_count": 329,
   "metadata": {
    "id": "J91YkhegJ0mz"
   },
   "outputs": [
    {
     "data": {
      "image/png": "[encoded data removed]",
      "text/plain": [
       "<Figure size 1200x600 with 1 Axes>"
      ]
     },
     "metadata": {},
     "output_type": "display_data"
    }
   ],
   "source": [
    "import matplotlib.pyplot as plt\n",
    "\n",
    "plt.rcParams.update({'font.size': 7})\n",
    "\n",
    "labels = locations.head(10).index\n",
    "values = locations.head(10).values\n",
    "\n",
    "x_linspace = np.arange(len(labels)) \n",
    "\n",
    "fig, ax = plt.subplots(figsize=(12, 6))\n",
    "\n",
    "ax.bar(labels, values, color=blue_c)\n",
    "ax.set_ylabel('amount')\n",
    "ax.set_xlabel(\"place\")\n",
    "ax.set_title('most popular places')\n",
    "\n",
    "fig.show()"
   ]
  },
  {
   "cell_type": "markdown",
   "metadata": {
    "id": "ZOsv3lODTfYB"
   },
   "source": [
    "Видно, что многие местоположения включают в себя более точное название места, чем другие (Например, у некоторых стоит London, UK; а у некоторых просто UK или United Kingdom).\n",
    "\n",
    "Создайте новый признак WiderLocation, который содержит самое широкое местоположение (например, из London, UK должно получиться UK). Сколько уникальных категорий теперь? Постройте аналогичную гистограмму."
   ]
  },
  {
   "cell_type": "code",
   "execution_count": 330,
   "metadata": {
    "id": "mSkow6acOMyD"
   },
   "outputs": [
    {
     "data": {
      "text/plain": [
       "3983"
      ]
     },
     "metadata": {},
     "output_type": "display_data"
    },
    {
     "data": {
      "text/plain": [
       "1983"
      ]
     },
     "execution_count": 330,
     "metadata": {},
     "output_type": "execute_result"
    }
   ],
   "source": [
    "display(len(X_test[\"Location\"].value_counts()))\n",
    "\n",
    "X_test['WiderLocation'] = (\n",
    "    df['Location']\n",
    "    .str.split(',') \n",
    "    .str[-1]  \n",
    "    .str.split()\n",
    "    .apply(lambda x:       # а тут добавил такое\n",
    "           x[0]\n",
    "           if len(x) == 1  # если пункт из одного слова - пусть\n",
    "           else \"\".join(w[0].upper() for w in x)  # если слов много, сделай join их первых букв\n",
    "    )\n",
    ")\n",
    "\n",
    "X_train['WiderLocation'] = (\n",
    "    df['Location']\n",
    "    .str.split(',') \n",
    "    .str[-1]  \n",
    "    .str.split()\n",
    "    .apply(lambda x:\n",
    "           x[0]\n",
    "           if len(x) == 1\n",
    "           else \"\".join(w[0].upper() for w in x)\n",
    "    )\n",
    ")\n",
    "\n",
    "\n",
    "len(X_test[\"WiderLocation\"].value_counts())"
   ]
  },
  {
   "cell_type": "code",
   "execution_count": 331,
   "metadata": {},
   "outputs": [
    {
     "data": {
      "image/png": "[encoded data removed]",
      "text/plain": [
       "<Figure size 1200x600 with 1 Axes>"
      ]
     },
     "metadata": {},
     "output_type": "display_data"
    }
   ],
   "source": [
    "import matplotlib.pyplot as plt\n",
    "\n",
    "plt.rcParams.update({'font.size': 7})\n",
    "\n",
    "locations_wider = X_train[\"WiderLocation\"].value_counts()\n",
    "locations_wider = locations_wider.drop(index=[\"unknown\"])\n",
    "\n",
    "\n",
    "labels = locations_wider.head(10).index\n",
    "values = locations_wider.head(10).values\n",
    "\n",
    "x_linspace = np.arange(len(labels)) \n",
    "\n",
    "fig, ax = plt.subplots(figsize=(12, 6))\n",
    "\n",
    "ax.bar(labels, values, color=blue_c)\n",
    "ax.set_ylabel('amount')\n",
    "ax.set_xlabel(\"place\")\n",
    "ax.set_title('most popular places')\n",
    "\n",
    "fig.show()"
   ]
  },
  {
   "cell_type": "markdown",
   "metadata": {
    "id": "cgyWrD2eVfff"
   },
   "source": [
    "Закодируйте признак WiderLocation с помощью OHE таким образом, чтобы создались только столбцы для местоположений, которые встречаются более одного раза. Сколько таких значений?\n"
   ]
  },
  {
   "cell_type": "code",
   "execution_count": 332,
   "metadata": {
    "id": "SeJBfBWgPvg_"
   },
   "outputs": [
    {
     "data": {
      "text/plain": [
       "3722"
      ]
     },
     "metadata": {},
     "output_type": "display_data"
    },
    {
     "data": {
      "text/plain": [
       "1075"
      ]
     },
     "execution_count": 332,
     "metadata": {},
     "output_type": "execute_result"
    }
   ],
   "source": [
    "display(locations_wider.shape[0])\n",
    "wider_more_1 = locations_wider[locations_wider > 1]\n",
    "wider_more_1.shape[0]"
   ]
  },
  {
   "cell_type": "code",
   "execution_count": 333,
   "metadata": {},
   "outputs": [
    {
     "data": {
      "text/plain": [
       "WiderLocation\n",
       "USA         962\n",
       "England     873\n",
       "UK          784\n",
       "CA          611\n",
       "India       547\n",
       "           ... \n",
       "illinois      2\n",
       "Woolwich      2\n",
       "LE            2\n",
       "P1            2\n",
       "##B           2\n",
       "Name: count, Length: 1075, dtype: int64"
      ]
     },
     "execution_count": 333,
     "metadata": {},
     "output_type": "execute_result"
    }
   ],
   "source": [
    "wider_more_1"
   ]
  },
  {
   "cell_type": "markdown",
   "metadata": {},
   "source": [
    "Мало, в общем, таких мест, откуда больше одного раза писали."
   ]
  },
  {
   "cell_type": "code",
   "execution_count": 334,
   "metadata": {},
   "outputs": [
    {
     "data": {
      "text/plain": [
       "25621    False\n",
       "30135     True\n",
       "28899     True\n",
       "5989      True\n",
       "4367     False\n",
       "         ...  \n",
       "20757    False\n",
       "32103     True\n",
       "30403     True\n",
       "21243    False\n",
       "2732     False\n",
       "Name: WiderLocation, Length: 23410, dtype: bool"
      ]
     },
     "execution_count": 334,
     "metadata": {},
     "output_type": "execute_result"
    }
   ],
   "source": [
    "X_train[\"WiderLocation\"].isin(wider_more_1.index)"
   ]
  },
  {
   "cell_type": "code",
   "execution_count": 335,
   "metadata": {},
   "outputs": [
    {
     "data": {
      "text/plain": [
       "(23410, 6)"
      ]
     },
     "execution_count": 335,
     "metadata": {},
     "output_type": "execute_result"
    }
   ],
   "source": [
    "X_train.shape"
   ]
  },
  {
   "cell_type": "code",
   "execution_count": 336,
   "metadata": {},
   "outputs": [
    {
     "data": {
      "text/plain": [
       "(23410, 1075)"
      ]
     },
     "metadata": {},
     "output_type": "display_data"
    },
    {
     "data": {
      "text/plain": [
       "Index(['UserName', 'ScreenName', 'Location', 'TweetAt', 'OriginalTweet',\n",
       "       'WiderLocation', 'WiderLocation_', 'WiderLocation_##',\n",
       "       'WiderLocation_###', 'WiderLocation_##B',\n",
       "       ...\n",
       "       'WiderLocation_tx', 'WiderLocation_uk', 'WiderLocation_up',\n",
       "       'WiderLocation_usa', 'WiderLocation_washington', 'WiderLocation_world',\n",
       "       'WiderLocation_worldwide', 'WiderLocation_y'all',\n",
       "       'WiderLocation_||somali|kenyan??', 'WiderLocation_ÃÂ¯\\_(?)_/ÃÂ¯'],\n",
       "      dtype='object', length=1081)"
      ]
     },
     "execution_count": 336,
     "metadata": {},
     "output_type": "execute_result"
    }
   ],
   "source": [
    "from sklearn.preprocessing import OneHotEncoder\n",
    "\n",
    "ohe = OneHotEncoder(handle_unknown='ignore')\n",
    "to_fit_ohe = X_train[X_train[\"WiderLocation\"].isin(wider_more_1.index)]\n",
    "ohe.fit(to_fit_ohe[[\"WiderLocation\"]])\n",
    "\n",
    "X_test_loc_ohe = ohe.transform(X_test[[\"WiderLocation\"]]).toarray()\n",
    "X_test_loc_ohe = pd.DataFrame(data=X_test_loc_ohe, columns=ohe.get_feature_names_out())\n",
    "\n",
    "X_train_loc_ohe = ohe.transform(X_train[[\"WiderLocation\"]]).toarray()\n",
    "display(X_train_loc_ohe.shape)\n",
    "X_train_loc_ohe = pd.DataFrame(data=X_train_loc_ohe, columns=ohe.get_feature_names_out())\n",
    "\n",
    "X_train = pd.concat([X_train, X_test_loc_ohe], axis=1)\n",
    "X_train.columns"
   ]
  },
  {
   "cell_type": "markdown",
   "metadata": {
    "id": "ZyMX5kZuimPK"
   },
   "source": [
    "Добавьте этот признак к матрице отскалированных текстовых признаков, обучите логистическую регрессию, замерьте качество. Как оно изменилось? Оказался ли признак полезным?\n",
    "\n",
    "\n",
    "*Подсказка:* используйте параметр `categories` в энкодере."
   ]
  },
  {
   "cell_type": "code",
   "execution_count": 345,
   "metadata": {},
   "outputs": [
    {
     "data": {
      "text/plain": [
       "((23410, 3694), (23410, 1075))"
      ]
     },
     "execution_count": 345,
     "metadata": {},
     "output_type": "execute_result"
    }
   ],
   "source": [
    "train_normed.toarray().shape, X_train_loc_ohe.shape"
   ]
  },
  {
   "cell_type": "code",
   "execution_count": 346,
   "metadata": {},
   "outputs": [
    {
     "data": {
      "text/plain": [
       "((10034, 3694), (10034, 1075))"
      ]
     },
     "execution_count": 346,
     "metadata": {},
     "output_type": "execute_result"
    }
   ],
   "source": [
    "test_normed.toarray().shape, X_test_loc_ohe.shape"
   ]
  },
  {
   "cell_type": "code",
   "execution_count": 356,
   "metadata": {
    "id": "EO1jNPeeim7A"
   },
   "outputs": [
    {
     "data": {
      "text/plain": [
       "train    0.944169\n",
       "test     0.844429\n",
       "dtype: float64"
      ]
     },
     "execution_count": 356,
     "metadata": {},
     "output_type": "execute_result"
    }
   ],
   "source": [
    "lr = LogisticRegression()\n",
    "train_normed_ohe = np.concatenate([train_normed.toarray(), X_train_loc_ohe.values], axis=1)\n",
    "test_normed_ohe = np.concatenate([test_normed.toarray(), X_test_loc_ohe.values], axis=1)\n",
    "lr.fit(train_normed_ohe, y_train)\n",
    "\n",
    "train_pred = lr.predict(train_normed_ohe)\n",
    "test_pred = lr.predict(test_normed_ohe)\n",
    "\n",
    "data_stem_accuracy = {\n",
    "    \"train\": accuracy_score(train_pred, y_train),\n",
    "    \"test\": accuracy_score(test_pred, y_test),\n",
    "}\n",
    "\n",
    "pd.Series(data_stem_accuracy)"
   ]
  },
  {
   "cell_type": "code",
   "execution_count": 357,
   "metadata": {},
   "outputs": [
    {
     "data": {
      "text/plain": [
       "train    0.941521\n",
       "test     0.843731\n",
       "dtype: float64"
      ]
     },
     "execution_count": 357,
     "metadata": {},
     "output_type": "execute_result"
    }
   ],
   "source": [
    "# было\n",
    "data_ans"
   ]
  },
  {
   "cell_type": "markdown",
   "metadata": {
    "id": "7dHsGlDRYUQt"
   },
   "source": [
    "**Ответ:** нет, геолокация ничего не дает о позитиве или негативе поста,\n",
    "так как разницы скоринга в пределах процентной единицы."
   ]
  },
  {
   "cell_type": "markdown",
   "metadata": {},
   "source": [
    "**НА ЭТОМ ВСЕ**"
   ]
  },
  {
   "cell_type": "markdown",
   "metadata": {},
   "source": [
    "А вот видосик для настроения (написан из 16 мая)"
   ]
  },
  {
   "cell_type": "code",
   "execution_count": null,
   "metadata": {},
   "outputs": [],
   "source": [
    "https://www.youtube.com/shorts/PWKqOxC9a1E"
   ]
  },
  {
   "cell_type": "markdown",
   "metadata": {},
   "source": [
    "а вообще нереально долго копаться в документации, пытаться понять почему не сходятся размерности массивов, почему числа разные из прошлых логов, почему качество моделей иногда вообще падает. документации и эти графики тоже хлопот доставляют. тяжело все это. короче, хочу еще :)))"
   ]
  },
  {
   "cell_type": "code",
   "execution_count": null,
   "metadata": {},
   "outputs": [],
   "source": []
  }
 ],
 "metadata": {
  "colab": {
   "provenance": []
  },
  "kernelspec": {
   "display_name": "Python 3 (ipykernel)",
   "language": "python",
   "name": "python3"
  },
  "language_info": {
   "codemirror_mode": {
    "name": "ipython",
    "version": 3
   },
   "file_extension": ".py",
   "mimetype": "text/x-python",
   "name": "python",
   "nbconvert_exporter": "python",
   "pygments_lexer": "ipython3",
   "version": "3.12.4"
  }
 },
 "nbformat": 4,
 "nbformat_minor": 4
}
