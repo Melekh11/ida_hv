{
 "cells": [
  {
   "cell_type": "markdown",
   "id": "b41b89ff-65a3-40be-b0e9-4613d2020c65",
   "metadata": {},
   "source": [
    "# Семинар 2"
   ]
  },
  {
   "cell_type": "code",
   "execution_count": 30,
   "id": "fdbd57d1-e09d-4157-a4ed-fc736d4f4b25",
   "metadata": {},
   "outputs": [
    {
     "data": {
      "text/plain": [
       "str"
      ]
     },
     "execution_count": 30,
     "metadata": {},
     "output_type": "execute_result"
    }
   ],
   "source": [
    "type(\"jfgjhf\")"
   ]
  },
  {
   "cell_type": "code",
   "execution_count": 99,
   "id": "caf772c9-6241-4f44-96a2-47cd92decf32",
   "metadata": {},
   "outputs": [],
   "source": [
    "class Product:\n",
    "    def __init__(self, name, amount):\n",
    "        self.name = name\n",
    "        self.amount = amount\n",
    "\n",
    "    def __repr__(self):\n",
    "        return f\"there are {self.amount} of {self.name} now\"\n",
    "\n",
    "    def take_product(self):\n",
    "        if self.amount == 0:\n",
    "            return False\n",
    "        self.amount -= 1\n",
    "        return True\n",
    "\n",
    "\n",
    "class VendingMachine:\n",
    "    # products: Product[] = []\n",
    "    products = []\n",
    "\n",
    "    def __init__(self, products: dict[str, int]):\n",
    "        for key, value in products.items():\n",
    "            prod = Product(key, value)\n",
    "            self.products.append(prod)\n",
    "\n",
    "    def get_items(self):\n",
    "        return self.products\n",
    "\n",
    "    def get_product(self, query):\n",
    "        for i, prod in enumerate(self.products):\n",
    "            if type(query) is int and i == query:\n",
    "                if prod.take_product():\n",
    "                    return prod\n",
    "                else:\n",
    "                    print(\"no product left :(\")\n",
    "                    return\n",
    "            elif type(query) is str and prod.name == query:\n",
    "                if prod.take_product():\n",
    "                    return prod\n",
    "                else:\n",
    "                    print(\"no product left :(\")\n",
    "                    return\n",
    "        else:\n",
    "            print(\"no such product :(\")\n",
    "        \n",
    "        "
   ]
  },
  {
   "cell_type": "code",
   "execution_count": 100,
   "id": "e1cf3d98-aaea-47e8-8c9e-b2ebdc2ff45e",
   "metadata": {},
   "outputs": [],
   "source": [
    "prods = {\n",
    "    \"cocke\": 10,\n",
    "    \"snickers\": 3,\n",
    "    \"blueberry\": 1,\n",
    "}"
   ]
  },
  {
   "cell_type": "code",
   "execution_count": 101,
   "id": "9247575b-8d9b-4da5-90e3-b2fb788e2e9b",
   "metadata": {},
   "outputs": [],
   "source": [
    "vm = VendingMachine(prods)"
   ]
  },
  {
   "cell_type": "code",
   "execution_count": 102,
   "id": "6826dc41-32d2-419d-b5d1-14baa7edd5c8",
   "metadata": {},
   "outputs": [
    {
     "data": {
      "text/plain": [
       "[there are 10 of cocke now,\n",
       " there are 3 of snickers now,\n",
       " there are 1 of blueberry now]"
      ]
     },
     "execution_count": 102,
     "metadata": {},
     "output_type": "execute_result"
    }
   ],
   "source": [
    "vm.get_items()"
   ]
  },
  {
   "cell_type": "code",
   "execution_count": 103,
   "id": "4ea9a088-a37c-4882-92a5-9b36dc2d997c",
   "metadata": {},
   "outputs": [
    {
     "data": {
      "text/plain": [
       "there are 9 of cocke now"
      ]
     },
     "execution_count": 103,
     "metadata": {},
     "output_type": "execute_result"
    }
   ],
   "source": [
    "vm.get_product(\"cocke\")"
   ]
  },
  {
   "cell_type": "code",
   "execution_count": 104,
   "id": "89a0fbd6-4d29-4342-8604-3a4e83b02b97",
   "metadata": {},
   "outputs": [
    {
     "data": {
      "text/plain": [
       "there are 0 of blueberry now"
      ]
     },
     "execution_count": 104,
     "metadata": {},
     "output_type": "execute_result"
    }
   ],
   "source": [
    "vm.get_product(2)\n"
   ]
  },
  {
   "cell_type": "code",
   "execution_count": 105,
   "id": "90894b02-9582-4150-ae91-de2268deca41",
   "metadata": {},
   "outputs": [
    {
     "name": "stdout",
     "output_type": "stream",
     "text": [
      "no product left :(\n"
     ]
    }
   ],
   "source": [
    "vm.get_product(2)"
   ]
  },
  {
   "cell_type": "code",
   "execution_count": null,
   "id": "5313e821-8513-442f-acb7-0113a0c938d2",
   "metadata": {},
   "outputs": [],
   "source": []
  },
  {
   "cell_type": "code",
   "execution_count": null,
   "id": "b8891b6e-2954-4c20-81a6-aeb2cffc0212",
   "metadata": {},
   "outputs": [],
   "source": []
  }
 ],
 "metadata": {
  "kernelspec": {
   "display_name": "Python 3 (ipykernel)",
   "language": "python",
   "name": "python3"
  },
  "language_info": {
   "codemirror_mode": {
    "name": "ipython",
    "version": 3
   },
   "file_extension": ".py",
   "mimetype": "text/x-python",
   "name": "python",
   "nbconvert_exporter": "python",
   "pygments_lexer": "ipython3",
   "version": "3.12.4"
  }
 },
 "nbformat": 4,
 "nbformat_minor": 5
}
