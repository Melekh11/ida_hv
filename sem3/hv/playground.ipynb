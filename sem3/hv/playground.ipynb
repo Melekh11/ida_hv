{
 "cells": [
  {
   "cell_type": "code",
   "execution_count": 2,
   "id": "fa94ac1b-e34b-4c00-a013-f760a9241635",
   "metadata": {},
   "outputs": [],
   "source": [
    "import pandas as pd\n",
    "import numpy as np"
   ]
  },
  {
   "cell_type": "code",
   "execution_count": 3,
   "id": "d0398fae-852b-48d9-9d7d-f5ded74f947a",
   "metadata": {},
   "outputs": [
    {
     "data": {
      "text/plain": [
       "0    1.000000\n",
       "1    1.111111\n",
       "2    1.222222\n",
       "3    1.333333\n",
       "4    1.444444\n",
       "5    1.555556\n",
       "6    1.666667\n",
       "7    1.777778\n",
       "8    1.888889\n",
       "9    2.000000\n",
       "dtype: float64"
      ]
     },
     "execution_count": 3,
     "metadata": {},
     "output_type": "execute_result"
    }
   ],
   "source": [
    "data = pd.Series(np.linspace(1, 2, 10))\n",
    "data"
   ]
  },
  {
   "cell_type": "code",
   "execution_count": 4,
   "id": "9ca89593-3bfe-4dc9-b29e-9594dc8e6603",
   "metadata": {},
   "outputs": [
    {
     "data": {
      "text/plain": [
       "RangeIndex(start=0, stop=10, step=1)"
      ]
     },
     "execution_count": 4,
     "metadata": {},
     "output_type": "execute_result"
    }
   ],
   "source": [
    "data.index"
   ]
  },
  {
   "cell_type": "code",
   "execution_count": 5,
   "id": "20eed1ba-8d65-4646-8271-db5389e8e7cf",
   "metadata": {},
   "outputs": [
    {
     "data": {
      "text/plain": [
       "a    1.0\n",
       "b    2.0\n",
       "c    3.0\n",
       "d    4.0\n",
       "e    5.0\n",
       "dtype: float64"
      ]
     },
     "execution_count": 5,
     "metadata": {},
     "output_type": "execute_result"
    }
   ],
   "source": [
    "data = pd.Series(np.linspace(1, 5, 5), index=[\"a\", \"b\", \"c\", \"d\", \"e\"])\n",
    "data"
   ]
  },
  {
   "cell_type": "code",
   "execution_count": 6,
   "id": "fd1b36cf-a70d-4336-a0aa-cd85bf538132",
   "metadata": {},
   "outputs": [
    {
     "data": {
      "text/plain": [
       "2.0"
      ]
     },
     "execution_count": 6,
     "metadata": {},
     "output_type": "execute_result"
    }
   ],
   "source": [
    "data[\"b\"]"
   ]
  },
  {
   "cell_type": "code",
   "execution_count": 7,
   "id": "cf4bdd17-e848-47d0-a6fa-8e5b2d493989",
   "metadata": {},
   "outputs": [
    {
     "data": {
      "text/plain": [
       "sem1     numpy\n",
       "sem2       oop\n",
       "sem3    pandas\n",
       "sem4     plots\n",
       "dtype: object"
      ]
     },
     "execution_count": 7,
     "metadata": {},
     "output_type": "execute_result"
    }
   ],
   "source": [
    "values = {\n",
    "    \"sem1\": \"numpy\",\n",
    "    \"sem2\": \"oop\",\n",
    "    \"sem3\": \"pandas\",\n",
    "    \"sem4\": \"plots\"\n",
    "}\n",
    "\n",
    "data = pd.Series(values)\n",
    "data"
   ]
  },
  {
   "cell_type": "code",
   "execution_count": 8,
   "id": "5dfa5f6c-32cb-4c3c-b36e-d4ec08e901b6",
   "metadata": {},
   "outputs": [
    {
     "data": {
      "text/plain": [
       "'numpy'"
      ]
     },
     "execution_count": 8,
     "metadata": {},
     "output_type": "execute_result"
    }
   ],
   "source": [
    "data[\"sem1\"]"
   ]
  },
  {
   "cell_type": "code",
   "execution_count": null,
   "id": "c330e461-c573-4f39-a34e-a83df123ab8e",
   "metadata": {},
   "outputs": [],
   "source": []
  }
 ],
 "metadata": {
  "kernelspec": {
   "display_name": "Python 3 (ipykernel)",
   "language": "python",
   "name": "python3"
  },
  "language_info": {
   "codemirror_mode": {
    "name": "ipython",
    "version": 3
   },
   "file_extension": ".py",
   "mimetype": "text/x-python",
   "name": "python",
   "nbconvert_exporter": "python",
   "pygments_lexer": "ipython3",
   "version": "3.12.4"
  }
 },
 "nbformat": 4,
 "nbformat_minor": 5
}
