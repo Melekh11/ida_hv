{
 "cells": [
  {
   "cell_type": "markdown",
   "metadata": {
    "_uuid": "21c25e4f8bb31570029fd6b069131a5d00f84cf1"
   },
   "source": [
    "# Домашнее задание 2 (5 баллов).\n",
    "\n",
    "*Все задания ниже имеют равный вес (5/10)*"
   ]
  },
  {
   "cell_type": "markdown",
   "metadata": {},
   "source": [
    "Код для импорта мы написали за вас (не благодарите, нам не трудно). Дальше код будете писать вы. \n",
    "\n",
    "[Тут](https://habr.com/ru/companies/ruvds/articles/494720/) шпора по pandas. За основу домашнего задания взят ноутбук [отсюда](https://rutube.ru/video/f884aa6ed5f94120b7304506042fe5bb/) (не подглядывайте!)."
   ]
  },
  {
   "cell_type": "code",
   "execution_count": 164,
   "metadata": {
    "_uuid": "568eb2d31004b87d22e119112ae01a1e75105f1d"
   },
   "outputs": [],
   "source": [
    "import pandas as pd\n",
    "import numpy as np"
   ]
  },
  {
   "cell_type": "markdown",
   "metadata": {},
   "source": [
    "#### Описание данных\n",
    "\n",
    "Автор д/з - плохой человек, который не стал переводить описание с мотивировкой, что весь DS на английском. Так что описание полей будет на английском:\n",
    "\n",
    "1. Account ID\n",
    "- Description: A unique identifier for each social media account in the dataset.\n",
    "- Type: Integer\n",
    "- Example: 1, 2, 3, …\n",
    "2. Username\n",
    "- Description: The username or handle of the social media account.\n",
    "- Type: String\n",
    "- Example: john_doe, tech_guru_22, fitness_freak\n",
    "3. Platform\n",
    "- Description: The social media platform the account is using (Instagram, Twitter, Facebook, TikTok, LinkedIn).\n",
    "- Type: Categorical (String)\n",
    "- Example: Instagram, Twitter, Facebook, TikTok, LinkedIn\n",
    "4. Follower Count\n",
    "- Description: The total number of followers the account has.\n",
    "- Type: Integer\n",
    "- Example: 1500, 245000, 78000\n",
    "5. Posts Per Week\n",
    "- Description: The average number of posts the account creates per week.\n",
    "- Type: Integer\n",
    "- Example: 3, 5, 7\n",
    "6. Engagement Rate\n",
    "- Description: The percentage of interactions (likes, comments, shares) relative to the follower count. This is a measure of how engaging the content is.\n",
    "- Type: Float\n",
    "- Range: 0.01 to 0.15\n",
    "- Example: 0.045 (4.5% engagement rate)\n",
    "7. Ad Spend (USD)\n",
    "- Description: The monthly amount spent on advertising or promoting posts.\n",
    "- Type: Float\n",
    "- Example: 150.75, 850.00, 300.50\n",
    "8. Conversion Rate\n",
    "- Description: The percentage of users who take a desired action (e.g., clicking a link, signing up, etc.) after interacting with an ad.\n",
    "- Type: Float\n",
    "- Range: 0.01 to 0.05 (1% to 5% conversion rate)\n",
    "- Example: 0.025 (2.5% conversion rate)\n",
    "9. Campaign Reach\n",
    "- Description: The total number of unique users reached by the user’s campaigns in a given month.\n",
    "- Type: Integer\n",
    "- Example: 5000, 20000, 15000"
   ]
  },
  {
   "cell_type": "markdown",
   "metadata": {},
   "source": [
    "#### Задание 0\n",
    "\n",
    "Подгрузите данные. Да-да, за чтение таблицы баллов не будет))\n",
    "\n",
    "**Hint**: [pd.read_csv](https://pandas.pydata.org/pandas-docs/stable/reference/api/pandas.read_csv.html)"
   ]
  },
  {
   "cell_type": "code",
   "execution_count": 165,
   "metadata": {},
   "outputs": [],
   "source": [
    "df = pd.read_csv(\"data.csv\")"
   ]
  },
  {
   "cell_type": "code",
   "execution_count": 166,
   "metadata": {},
   "outputs": [
    {
     "name": "stdout",
     "output_type": "stream",
     "text": [
      "<class 'pandas.core.frame.DataFrame'>\n",
      "RangeIndex: 10000 entries, 0 to 9999\n",
      "Data columns (total 9 columns):\n",
      " #   Column           Non-Null Count  Dtype  \n",
      "---  ------           --------------  -----  \n",
      " 0   Account ID       10000 non-null  int64  \n",
      " 1   Username         10000 non-null  object \n",
      " 2   Platform         10000 non-null  object \n",
      " 3   Follower Count   10000 non-null  int64  \n",
      " 4   Posts Per Week   10000 non-null  int64  \n",
      " 5   Engagement Rate  10000 non-null  float64\n",
      " 6   Ad Spend (USD)   10000 non-null  float64\n",
      " 7   Conversion Rate  10000 non-null  float64\n",
      " 8   Campaign Reach   10000 non-null  int64  \n",
      "dtypes: float64(3), int64(4), object(2)\n",
      "memory usage: 703.3+ KB\n"
     ]
    }
   ],
   "source": [
    "df.info()"
   ]
  },
  {
   "cell_type": "markdown",
   "metadata": {},
   "source": [
    "#### Задание 1\n",
    "\n",
    "Колонка `Platform` содержит название различных платформ. Давайте представим, что в них есть некоторое отношение порядка. Закодируйте каждую платформу целым числом (от 0 до N) и положите этот \"код\" в новую колонку `Platform_Code`. Теперь вычислите корреляцию Спирмена между всеми парами колонок в датасете (результатом будет таблица корреляций). В качестве ответа выведите значение корреляции `Platform_Code` с `Engagement Rate`. Можете после вывода числа еще коротко написать, что оно означает (нет, это не оценивается).\n",
    "\n",
    "**Hint**: [pd.factorize](https://pandas.pydata.org/pandas-docs/stable/reference/api/pandas.factorize.html), [pd.DataFrame.select_dtypes](https://pandas.pydata.org/pandas-docs/stable/reference/api/pandas.DataFrame.select_dtypes.html), [pd.DataFrame.corr](https://pandas.pydata.org/pandas-docs/stable/reference/api/pandas.DataFrame.corr.html)."
   ]
  },
  {
   "cell_type": "code",
   "execution_count": 167,
   "metadata": {},
   "outputs": [
    {
     "data": {
      "text/plain": [
       "0.03470195165241881"
      ]
     },
     "execution_count": 167,
     "metadata": {},
     "output_type": "execute_result"
    }
   ],
   "source": [
    "codes, platrorms = pd.factorize(df[\"Platform\"])\n",
    "df[\"Platform_Code\"] = codes\n",
    "corr = df.corr(numeric_only=True)\n",
    "corr[\"Platform_Code\"][\"Engagement Rate\"]"
   ]
  },
  {
   "cell_type": "markdown",
   "metadata": {},
   "source": [
    "Корреляция на уровне 3%, значит при увеличении индекса соц сети средняя вовлеченность чуть меняется. \n",
    "Проанализируем каждую соц сети отдельно, "
   ]
  },
  {
   "cell_type": "code",
   "execution_count": 168,
   "metadata": {},
   "outputs": [
    {
     "data": {
      "image/png": "[encoded data removed]",
      "text/plain": [
       "<Figure size 640x480 with 1 Axes>"
      ]
     },
     "metadata": {},
     "output_type": "display_data"
    }
   ],
   "source": [
    "df.groupby(\"Platform\")[[\"Engagement Rate\"]].mean().plot(\n",
    "    kind=\"bar\", stacked=True\n",
    ");"
   ]
  },
  {
   "cell_type": "markdown",
   "metadata": {},
   "source": [
    "Получаем, что во всех соц сетях примерно одинаковая вовлеченность аудитории и датасет скучный."
   ]
  },
  {
   "cell_type": "markdown",
   "metadata": {},
   "source": [
    "#### Задание 2\n",
    "\n",
    "Теперь посмотрите на столбец `Follower Count`. В нем какие-то числа. Иногда бывает полезно провести дискретизацию такого признака. Разбейте все значения в столбце на 4 группы: \"Low\", \"Medium\", \"High\", \"Very High\". Каждая группа включает в себя новые 25% данных. То есть, Low включает в себя 25% самых маленьких значений признака и так далее. Положите значения \"Low\", \"Medium\", \"High\" или \"Very High\" для каждого сэмпла датасета в новую колонку `Follower_Bin`. Теперь посчитайте среднее значение `Engagement Rate` для каждой категории из `Follower_Bin`. В качестве ответа выведите значение для категории \"High\".\n",
    "\n",
    "**Hint**: [pd.qcut](https://pandas.pydata.org/pandas-docs/stable/reference/api/pandas.qcut.html), [pd.groupby](https://pandas.pydata.org/pandas-docs/stable/reference/api/pandas.DataFrame.groupby.html), [pd.DataFrame.mean](https://pandas.pydata.org/pandas-docs/stable/reference/api/pandas.DataFrame.mean.html)"
   ]
  },
  {
   "cell_type": "code",
   "execution_count": 242,
   "metadata": {},
   "outputs": [
    {
     "name": "stdout",
     "output_type": "stream",
     "text": [
      "CPU times: user 17.6 ms, sys: 82.2 ms, total: 99.7 ms\n",
      "Wall time: 203 ms\n"
     ]
    },
    {
     "data": {
      "text/plain": [
       "0.08655032"
      ]
     },
     "execution_count": 242,
     "metadata": {},
     "output_type": "execute_result"
    }
   ],
   "source": [
    "%%time\n",
    "labels = [\"Low\", \"Medium\", \"High\", \"Very High\"]\n",
    "nbins = len(labels)\n",
    "\n",
    "follower_bin = pd.qcut(df[\"Follower Count\"], nbins, labels=labels)\n",
    "df[\"Follower_Bin\"] = follower_bin\n",
    "\n",
    "engagement_raitings = df.groupby(\"Follower_Bin\", observed=False)[\"Engagement Rate\"].mean()\n",
    "engagement_raitings[\"High\"]"
   ]
  },
  {
   "cell_type": "markdown",
   "metadata": {},
   "source": [
    "#### Задание 3\n",
    "\n",
    "Иногда бывает полезно превратить широкую таблицу в длинную (например, для визуализаций сразу нескольких признаков на одной картинке). Да, звучит странно, но именно этим вы сейчас и займетесь. Сделайте новый датафрейм `melted_df`, в который вы поместите каждый сэмпл датасета 6 раз: по одному разу на значение из 'Follower Count', 'Posts Per Week', 'Ad Spend (USD)', 'Conversion Rate', 'Engagement Rate' и 'Campaign Reach'. То есть, вы берете сэмпл из датасета (строку) и превращаете ее в 6 отдельных строк. Каждая отдельная строка в столбце `Metric` имеет имя из предложенного списка 5 признаков, а в столбце `Value` - значение данного сэмпла по этому признаку. Значение `Platform` повторяется в этих 6 строках.\n",
    "\n",
    "Иначе говоря, \n",
    "\n",
    "```json\n",
    "{\n",
    "    \"Account ID\": 1,\n",
    "    \"Username\": \"harrislisa\",\n",
    "    \"Platform\": \"TikTok\",\n",
    "    \"Follower Count\": 54217,\n",
    "    \"Posts Per Week\": 3,\n",
    "    \"Engagement Rate\": 0.0986,\n",
    "    \"Ad Spend (USD)\": 538.1,\n",
    "    \"Conversion Rate\": 0.049,\n",
    "    \"Campaign Reach\": 1308,\n",
    "    \"Platform_Code\": 0,\n",
    "    \"Follower_Bin\": \"Low\"\n",
    "}\n",
    "```\n",
    "\n",
    "превращается в \n",
    "\n",
    "```json\n",
    "{\n",
    "    \"Platform\": \"TikTok\",\n",
    "    \"Metric\": \"Follower Count\",\n",
    "    \"Value\": 54217,\n",
    "},\n",
    "{\n",
    "    \"Platform\": \"TikTok\",\n",
    "    \"Metric\": \"Posts Per Week\",\n",
    "    \"Value\": 3,\n",
    "}, ...\n",
    "```\n",
    "\n",
    "Для каждого уникальной пары значений (`Platform`, `Metric`) посчитайте моду среди всех значений `Value` для этой пары, результат сделайте списком и оставьте только наибольшее. В качестве ответа выведите сумму полученных мод (сумму всех значений в столбце `Value` уже после вычисления мод). Иначе говоря, выведите сумму всех мод значений для всех уникальных пар (`Platform`, `Metric`).\n",
    "\n",
    "**Hint**: [pd.melt](https://pandas.pydata.org/pandas-docs/stable/reference/api/pandas.melt.html), [pd.DataFrame.mode](https://pandas.pydata.org/pandas-docs/stable/reference/api/pandas.DataFrame.mode.html), [pd.DataFrameGroupBy.agg](https://pandas.pydata.org/docs/dev/reference/api/pandas.core.groupby.DataFrameGroupBy.agg.html)"
   ]
  },
  {
   "cell_type": "code",
   "execution_count": 170,
   "metadata": {},
   "outputs": [
    {
     "data": {
      "text/plain": [
       "3100285.4716"
      ]
     },
     "execution_count": 170,
     "metadata": {},
     "output_type": "execute_result"
    }
   ],
   "source": [
    "melt_params = ['Follower Count', 'Posts Per Week', 'Ad Spend (USD)', 'Conversion Rate', 'Engagement Rate', 'Campaign Reach']\n",
    "\n",
    "melted_df = pd.melt(\n",
    "    df,\n",
    "    id_vars=[\"Platform\"],\n",
    "    value_vars=melt_params,\n",
    "    var_name='Metric',\n",
    "    value_name='Value',\n",
    ")\n",
    "\n",
    "def mode_group(group: pd.DataFrame) -> int:\n",
    "    max_count = group.mode()[\"Value\"].max()\n",
    "    return max_count\n",
    "\n",
    "melted_df_grouped = melted_df.groupby([\"Platform\", \"Metric\"]).apply(mode_group, include_groups=False)\n",
    "melted_df_grouped.sum()"
   ]
  },
  {
   "cell_type": "markdown",
   "metadata": {},
   "source": [
    "#### Задание 4\n",
    "\n",
    "А теперь хочется посмотреть на самые популярные аккаунты на разных платформах. Для каждой платформы отсортируйте датафрейм по убыванию количества подписчиков (`Follower Count`) - да, без циклов, сразу для всех платформ сделать сортировку, а затем оставьте только первые три записи для каждой платформы - это и будут три самых популярных аккаунта для каждой платформы. В качестве ответа выведите саму таблицу и минимальное значение `Follower Count` в ней.\n",
    "\n",
    "**Hint**: к *groupby* можно применять функции - это эквивалентно применению функции к каждой \"группе\" внутри groupby-объекта. Читайте [про применение apply к датафрейму после groupby](https://pandas.pydata.org/pandas-docs/stable/user_guide/groupby.html#flexible-apply)."
   ]
  },
  {
   "cell_type": "code",
   "execution_count": 171,
   "metadata": {},
   "outputs": [
    {
     "name": "stdout",
     "output_type": "stream",
     "text": [
      "min value of that thing is: 997512\n"
     ]
    },
    {
     "data": {
      "text/html": [
       "<div>\n",
       "<style scoped>\n",
       "    .dataframe tbody tr th:only-of-type {\n",
       "        vertical-align: middle;\n",
       "    }\n",
       "\n",
       "    .dataframe tbody tr th {\n",
       "        vertical-align: top;\n",
       "    }\n",
       "\n",
       "    .dataframe thead th {\n",
       "        text-align: right;\n",
       "    }\n",
       "</style>\n",
       "<table border=\"1\" class=\"dataframe\">\n",
       "  <thead>\n",
       "    <tr style=\"text-align: right;\">\n",
       "      <th></th>\n",
       "      <th></th>\n",
       "      <th>Account ID</th>\n",
       "      <th>Username</th>\n",
       "      <th>Follower Count</th>\n",
       "      <th>Posts Per Week</th>\n",
       "      <th>Engagement Rate</th>\n",
       "      <th>Ad Spend (USD)</th>\n",
       "      <th>Conversion Rate</th>\n",
       "      <th>Campaign Reach</th>\n",
       "      <th>Platform_Code</th>\n",
       "      <th>Follower_Bin</th>\n",
       "    </tr>\n",
       "    <tr>\n",
       "      <th>Platform</th>\n",
       "      <th></th>\n",
       "      <th></th>\n",
       "      <th></th>\n",
       "      <th></th>\n",
       "      <th></th>\n",
       "      <th></th>\n",
       "      <th></th>\n",
       "      <th></th>\n",
       "      <th></th>\n",
       "      <th></th>\n",
       "      <th></th>\n",
       "    </tr>\n",
       "  </thead>\n",
       "  <tbody>\n",
       "    <tr>\n",
       "      <th rowspan=\"3\" valign=\"top\">TikTok</th>\n",
       "      <th>5838</th>\n",
       "      <td>5839</td>\n",
       "      <td>edwardthomas</td>\n",
       "      <td>999739</td>\n",
       "      <td>7</td>\n",
       "      <td>0.0642</td>\n",
       "      <td>630.77</td>\n",
       "      <td>0.0325</td>\n",
       "      <td>35523</td>\n",
       "      <td>0</td>\n",
       "      <td>Very High</td>\n",
       "    </tr>\n",
       "    <tr>\n",
       "      <th>4234</th>\n",
       "      <td>4235</td>\n",
       "      <td>andradewesley</td>\n",
       "      <td>999234</td>\n",
       "      <td>5</td>\n",
       "      <td>0.0834</td>\n",
       "      <td>872.77</td>\n",
       "      <td>0.0481</td>\n",
       "      <td>17188</td>\n",
       "      <td>0</td>\n",
       "      <td>Very High</td>\n",
       "    </tr>\n",
       "    <tr>\n",
       "      <th>2575</th>\n",
       "      <td>2576</td>\n",
       "      <td>williamwyatt</td>\n",
       "      <td>998623</td>\n",
       "      <td>6</td>\n",
       "      <td>0.0856</td>\n",
       "      <td>477.98</td>\n",
       "      <td>0.0250</td>\n",
       "      <td>43299</td>\n",
       "      <td>0</td>\n",
       "      <td>Very High</td>\n",
       "    </tr>\n",
       "    <tr>\n",
       "      <th rowspan=\"3\" valign=\"top\">LinkedIn</th>\n",
       "      <th>3039</th>\n",
       "      <td>3040</td>\n",
       "      <td>toneill</td>\n",
       "      <td>999055</td>\n",
       "      <td>4</td>\n",
       "      <td>0.0642</td>\n",
       "      <td>799.49</td>\n",
       "      <td>0.0174</td>\n",
       "      <td>21862</td>\n",
       "      <td>1</td>\n",
       "      <td>Very High</td>\n",
       "    </tr>\n",
       "    <tr>\n",
       "      <th>6359</th>\n",
       "      <td>6360</td>\n",
       "      <td>andrewgregory</td>\n",
       "      <td>998968</td>\n",
       "      <td>7</td>\n",
       "      <td>0.1020</td>\n",
       "      <td>797.64</td>\n",
       "      <td>0.0351</td>\n",
       "      <td>15552</td>\n",
       "      <td>1</td>\n",
       "      <td>Very High</td>\n",
       "    </tr>\n",
       "    <tr>\n",
       "      <th>2159</th>\n",
       "      <td>2160</td>\n",
       "      <td>ashleycooper</td>\n",
       "      <td>998925</td>\n",
       "      <td>6</td>\n",
       "      <td>0.0856</td>\n",
       "      <td>474.46</td>\n",
       "      <td>0.0156</td>\n",
       "      <td>45956</td>\n",
       "      <td>1</td>\n",
       "      <td>Very High</td>\n",
       "    </tr>\n",
       "    <tr>\n",
       "      <th rowspan=\"3\" valign=\"top\">Facebook</th>\n",
       "      <th>2403</th>\n",
       "      <td>2404</td>\n",
       "      <td>eric65</td>\n",
       "      <td>999982</td>\n",
       "      <td>6</td>\n",
       "      <td>0.0642</td>\n",
       "      <td>884.06</td>\n",
       "      <td>0.0281</td>\n",
       "      <td>17312</td>\n",
       "      <td>2</td>\n",
       "      <td>Very High</td>\n",
       "    </tr>\n",
       "    <tr>\n",
       "      <th>7350</th>\n",
       "      <td>7351</td>\n",
       "      <td>patricknoble</td>\n",
       "      <td>997915</td>\n",
       "      <td>3</td>\n",
       "      <td>0.0834</td>\n",
       "      <td>429.01</td>\n",
       "      <td>0.0182</td>\n",
       "      <td>25985</td>\n",
       "      <td>2</td>\n",
       "      <td>Very High</td>\n",
       "    </tr>\n",
       "    <tr>\n",
       "      <th>1689</th>\n",
       "      <td>1690</td>\n",
       "      <td>chavezjason</td>\n",
       "      <td>997512</td>\n",
       "      <td>7</td>\n",
       "      <td>0.0834</td>\n",
       "      <td>993.20</td>\n",
       "      <td>0.0397</td>\n",
       "      <td>45717</td>\n",
       "      <td>2</td>\n",
       "      <td>Very High</td>\n",
       "    </tr>\n",
       "    <tr>\n",
       "      <th rowspan=\"3\" valign=\"top\">Instagram</th>\n",
       "      <th>8685</th>\n",
       "      <td>8686</td>\n",
       "      <td>alexandersamuel</td>\n",
       "      <td>999726</td>\n",
       "      <td>3</td>\n",
       "      <td>0.0834</td>\n",
       "      <td>687.61</td>\n",
       "      <td>0.0205</td>\n",
       "      <td>11050</td>\n",
       "      <td>3</td>\n",
       "      <td>Very High</td>\n",
       "    </tr>\n",
       "    <tr>\n",
       "      <th>3965</th>\n",
       "      <td>3966</td>\n",
       "      <td>lrodgers</td>\n",
       "      <td>999351</td>\n",
       "      <td>1</td>\n",
       "      <td>0.0834</td>\n",
       "      <td>565.07</td>\n",
       "      <td>0.0335</td>\n",
       "      <td>12391</td>\n",
       "      <td>3</td>\n",
       "      <td>Very High</td>\n",
       "    </tr>\n",
       "    <tr>\n",
       "      <th>2189</th>\n",
       "      <td>2190</td>\n",
       "      <td>jbrown</td>\n",
       "      <td>997844</td>\n",
       "      <td>5</td>\n",
       "      <td>0.0642</td>\n",
       "      <td>505.61</td>\n",
       "      <td>0.0202</td>\n",
       "      <td>14717</td>\n",
       "      <td>3</td>\n",
       "      <td>Very High</td>\n",
       "    </tr>\n",
       "    <tr>\n",
       "      <th rowspan=\"3\" valign=\"top\">Twitter</th>\n",
       "      <th>4920</th>\n",
       "      <td>4921</td>\n",
       "      <td>teresaellis</td>\n",
       "      <td>999919</td>\n",
       "      <td>6</td>\n",
       "      <td>0.0834</td>\n",
       "      <td>411.63</td>\n",
       "      <td>0.0460</td>\n",
       "      <td>3975</td>\n",
       "      <td>4</td>\n",
       "      <td>Very High</td>\n",
       "    </tr>\n",
       "    <tr>\n",
       "      <th>9684</th>\n",
       "      <td>9685</td>\n",
       "      <td>sriley</td>\n",
       "      <td>999442</td>\n",
       "      <td>3</td>\n",
       "      <td>0.0834</td>\n",
       "      <td>206.84</td>\n",
       "      <td>0.0225</td>\n",
       "      <td>12783</td>\n",
       "      <td>4</td>\n",
       "      <td>Very High</td>\n",
       "    </tr>\n",
       "    <tr>\n",
       "      <th>7576</th>\n",
       "      <td>7577</td>\n",
       "      <td>peggymunoz</td>\n",
       "      <td>998216</td>\n",
       "      <td>6</td>\n",
       "      <td>0.0642</td>\n",
       "      <td>456.61</td>\n",
       "      <td>0.0456</td>\n",
       "      <td>22037</td>\n",
       "      <td>4</td>\n",
       "      <td>Very High</td>\n",
       "    </tr>\n",
       "  </tbody>\n",
       "</table>\n",
       "</div>"
      ],
      "text/plain": [
       "                Account ID         Username  Follower Count  Posts Per Week  \\\n",
       "Platform                                                                      \n",
       "TikTok    5838        5839     edwardthomas          999739               7   \n",
       "          4234        4235    andradewesley          999234               5   \n",
       "          2575        2576     williamwyatt          998623               6   \n",
       "LinkedIn  3039        3040          toneill          999055               4   \n",
       "          6359        6360    andrewgregory          998968               7   \n",
       "          2159        2160     ashleycooper          998925               6   \n",
       "Facebook  2403        2404           eric65          999982               6   \n",
       "          7350        7351     patricknoble          997915               3   \n",
       "          1689        1690      chavezjason          997512               7   \n",
       "Instagram 8685        8686  alexandersamuel          999726               3   \n",
       "          3965        3966         lrodgers          999351               1   \n",
       "          2189        2190           jbrown          997844               5   \n",
       "Twitter   4920        4921      teresaellis          999919               6   \n",
       "          9684        9685           sriley          999442               3   \n",
       "          7576        7577       peggymunoz          998216               6   \n",
       "\n",
       "                Engagement Rate  Ad Spend (USD)  Conversion Rate  \\\n",
       "Platform                                                           \n",
       "TikTok    5838           0.0642          630.77           0.0325   \n",
       "          4234           0.0834          872.77           0.0481   \n",
       "          2575           0.0856          477.98           0.0250   \n",
       "LinkedIn  3039           0.0642          799.49           0.0174   \n",
       "          6359           0.1020          797.64           0.0351   \n",
       "          2159           0.0856          474.46           0.0156   \n",
       "Facebook  2403           0.0642          884.06           0.0281   \n",
       "          7350           0.0834          429.01           0.0182   \n",
       "          1689           0.0834          993.20           0.0397   \n",
       "Instagram 8685           0.0834          687.61           0.0205   \n",
       "          3965           0.0834          565.07           0.0335   \n",
       "          2189           0.0642          505.61           0.0202   \n",
       "Twitter   4920           0.0834          411.63           0.0460   \n",
       "          9684           0.0834          206.84           0.0225   \n",
       "          7576           0.0642          456.61           0.0456   \n",
       "\n",
       "                Campaign Reach  Platform_Code Follower_Bin  \n",
       "Platform                                                    \n",
       "TikTok    5838           35523              0    Very High  \n",
       "          4234           17188              0    Very High  \n",
       "          2575           43299              0    Very High  \n",
       "LinkedIn  3039           21862              1    Very High  \n",
       "          6359           15552              1    Very High  \n",
       "          2159           45956              1    Very High  \n",
       "Facebook  2403           17312              2    Very High  \n",
       "          7350           25985              2    Very High  \n",
       "          1689           45717              2    Very High  \n",
       "Instagram 8685           11050              3    Very High  \n",
       "          3965           12391              3    Very High  \n",
       "          2189           14717              3    Very High  \n",
       "Twitter   4920            3975              4    Very High  \n",
       "          9684           12783              4    Very High  \n",
       "          7576           22037              4    Very High  "
      ]
     },
     "execution_count": 171,
     "metadata": {},
     "output_type": "execute_result"
    }
   ],
   "source": [
    "def group_sort(group: pd.DataFrame) -> pd.DataFrame:\n",
    "    return group.sort_values(by=[\"Follower Count\"], ascending=False).iloc[:3]\n",
    "\n",
    "df_groupd_platorms = df.groupby(\"Platform\").apply(group_sort, include_groups=False)\n",
    "min_value = df_groupd_platorms[\"Follower Count\"].min()\n",
    "\n",
    "print(f\"min value of that thing is: {min_value}\")\n",
    "df_groupd_platorms.sort_values(by=[\"Platform_Code\"]) # not necessary sort, but good looking for me"
   ]
  },
  {
   "cell_type": "markdown",
   "metadata": {},
   "source": [
    "#### Задание 5\n",
    "\n",
    "Хочется посчитать какую-то метрику. Мы хотим посмотреть, на отношение разности суммы подписчиков аккаунтов с высокой и низкой конверсией к суммарному охвату рекламы на каждой платформе. То есть, мы делим аккаунты на две группы: высокая и низка конверсия. Затем мы смотрим на то, на сколько сильно влияние аккаунтов с высокой конверсией по сравнению с аккаунтами с низкой конверсией. \n",
    "\n",
    "Давайте определим *Conversion Influence* следущим образом:\n",
    "\n",
    "$$Conversion Influence = \\frac{Total Follower\\ Count (High) - Total Follower\\ Count (Low)}{Total Campaign Reach (High)+Total Campaign Reach (Low)}$$\n",
    "\n",
    "Считать эту метрику мы будет для каждой `Platform`. В этой формуле High - это значения всех сэмплов датасета, в которых `Conversion Rate` больше медианы, а `Low` - не более медианы. `Total Feature` - это суммарное количество значений `Feature` либо по `High` сэмплам, либо по `Low`.\n",
    "\n",
    "Чтобы постоянно не пересчитывать, где High. где Low, сделайте новую колонку в датасете `Conversion_Category`. Положите в нее для каждой строки либо High, либо Low.\n",
    "\n",
    "Выведите платформу с самым большим `Conversion Influence`.\n",
    "\n",
    "**Hint**: данное задание не про *groupby*, а скорее про [pd.pivot_table](https://pandas.pydata.org/pandas-docs/stable/reference/api/pandas.pivot_table.html). Сделайте сводную таблицу, по которой уже можно посчитать суммы, а затем подставить их в формулы."
   ]
  },
  {
   "cell_type": "code",
   "execution_count": 172,
   "metadata": {},
   "outputs": [
    {
     "data": {
      "text/html": [
       "<div>\n",
       "<style scoped>\n",
       "    .dataframe tbody tr th:only-of-type {\n",
       "        vertical-align: middle;\n",
       "    }\n",
       "\n",
       "    .dataframe tbody tr th {\n",
       "        vertical-align: top;\n",
       "    }\n",
       "\n",
       "    .dataframe thead tr th {\n",
       "        text-align: left;\n",
       "    }\n",
       "\n",
       "    .dataframe thead tr:last-of-type th {\n",
       "        text-align: right;\n",
       "    }\n",
       "</style>\n",
       "<table border=\"1\" class=\"dataframe\">\n",
       "  <thead>\n",
       "    <tr>\n",
       "      <th></th>\n",
       "      <th colspan=\"4\" halign=\"left\">count</th>\n",
       "      <th>High_Influence</th>\n",
       "      <th>Low_Influence</th>\n",
       "      <th>Conversion_Influence</th>\n",
       "    </tr>\n",
       "    <tr>\n",
       "      <th></th>\n",
       "      <th colspan=\"4\" halign=\"left\">Account ID</th>\n",
       "      <th></th>\n",
       "      <th></th>\n",
       "      <th></th>\n",
       "    </tr>\n",
       "    <tr>\n",
       "      <th>Follower_Bin</th>\n",
       "      <th>Low</th>\n",
       "      <th>Medium</th>\n",
       "      <th>High</th>\n",
       "      <th>Very High</th>\n",
       "      <th></th>\n",
       "      <th></th>\n",
       "      <th></th>\n",
       "    </tr>\n",
       "    <tr>\n",
       "      <th>Platform</th>\n",
       "      <th></th>\n",
       "      <th></th>\n",
       "      <th></th>\n",
       "      <th></th>\n",
       "      <th></th>\n",
       "      <th></th>\n",
       "      <th></th>\n",
       "    </tr>\n",
       "  </thead>\n",
       "  <tbody>\n",
       "    <tr>\n",
       "      <th>Facebook</th>\n",
       "      <td>497</td>\n",
       "      <td>525</td>\n",
       "      <td>494</td>\n",
       "      <td>500</td>\n",
       "      <td>994</td>\n",
       "      <td>1022</td>\n",
       "      <td>-0.013889</td>\n",
       "    </tr>\n",
       "    <tr>\n",
       "      <th>Instagram</th>\n",
       "      <td>478</td>\n",
       "      <td>511</td>\n",
       "      <td>506</td>\n",
       "      <td>502</td>\n",
       "      <td>1008</td>\n",
       "      <td>989</td>\n",
       "      <td>0.009514</td>\n",
       "    </tr>\n",
       "    <tr>\n",
       "      <th>LinkedIn</th>\n",
       "      <td>515</td>\n",
       "      <td>515</td>\n",
       "      <td>486</td>\n",
       "      <td>501</td>\n",
       "      <td>987</td>\n",
       "      <td>1030</td>\n",
       "      <td>-0.021319</td>\n",
       "    </tr>\n",
       "    <tr>\n",
       "      <th>TikTok</th>\n",
       "      <td>510</td>\n",
       "      <td>482</td>\n",
       "      <td>478</td>\n",
       "      <td>498</td>\n",
       "      <td>976</td>\n",
       "      <td>992</td>\n",
       "      <td>-0.008130</td>\n",
       "    </tr>\n",
       "    <tr>\n",
       "      <th>Twitter</th>\n",
       "      <td>500</td>\n",
       "      <td>467</td>\n",
       "      <td>536</td>\n",
       "      <td>499</td>\n",
       "      <td>1035</td>\n",
       "      <td>967</td>\n",
       "      <td>0.033966</td>\n",
       "    </tr>\n",
       "  </tbody>\n",
       "</table>\n",
       "</div>"
      ],
      "text/plain": [
       "                  count                       High_Influence Low_Influence  \\\n",
       "             Account ID                                                      \n",
       "Follower_Bin        Low Medium High Very High                                \n",
       "Platform                                                                     \n",
       "Facebook            497    525  494       500            994          1022   \n",
       "Instagram           478    511  506       502           1008           989   \n",
       "LinkedIn            515    515  486       501            987          1030   \n",
       "TikTok              510    482  478       498            976           992   \n",
       "Twitter             500    467  536       499           1035           967   \n",
       "\n",
       "             Conversion_Influence  \n",
       "                                   \n",
       "Follower_Bin                       \n",
       "Platform                           \n",
       "Facebook                -0.013889  \n",
       "Instagram                0.009514  \n",
       "LinkedIn                -0.021319  \n",
       "TikTok                  -0.008130  \n",
       "Twitter                  0.033966  "
      ]
     },
     "execution_count": 172,
     "metadata": {},
     "output_type": "execute_result"
    }
   ],
   "source": [
    "pivot_concversion_influence = pd.pivot_table(\n",
    "    df,\n",
    "    index=[\"Platform\"],\n",
    "    values=[\"Account ID\"],\n",
    "    columns=[\"Follower_Bin\"],\n",
    "    aggfunc=[\"count\"],\n",
    "    observed=True,\n",
    ")\n",
    "\n",
    "\n",
    "pivot_concversion_influence[\"High_Influence\"] = pivot_concversion_influence[\"count\"][\"Account ID\"][\"High\"] + pivot_concversion_influence[\"count\"][\"Account ID\"][\"Very High\"]\n",
    "pivot_concversion_influence[\"Low_Influence\"] = pivot_concversion_influence[\"count\"][\"Account ID\"][\"Low\"] + pivot_concversion_influence[\"count\"][\"Account ID\"][\"Medium\"]\n",
    "pivot_concversion_influence[\"Conversion_Influence\"] = (pivot_concversion_influence[\"High_Influence\"] - pivot_concversion_influence[\"Low_Influence\"]) / (pivot_concversion_influence[\"High_Influence\"] + pivot_concversion_influence[\"Low_Influence\"])\n",
    "pivot_concversion_influence"
   ]
  },
  {
   "cell_type": "markdown",
   "metadata": {},
   "source": [
    "#### Задание 6\n",
    "\n",
    "Мы знаем, что вам понравилось считать метрики по формуле. Давайте закрепим этот успех. Теперь для каждой платформы посчитаем, на сколько эффективна реклама в разрезе трех последовательных записей в датасете. \n",
    "\n",
    "Для каждой платформы отсортируйте записи в порядке убывания `Posts Per Week`. Будто бы аккаунты, которые постят чаще, используют более \"активные\" стратегии по рекламе. Теперь посчитайте *скользущие суммы с окном 3* по `Campaign Reach` и `Ad Spend (USD)`. Скользящая сумма с окном N - это вы идете по массиву, берете все последовательные тройки записей и суммируете их. Для первых двух записей троек не найдется. Для них скользящее среднее - NaN, что нам не помешает. \n",
    "\n",
    "Теперь для каждого окна посчитайте \n",
    "\n",
    "$$Rolling Efficiency Ratio = \\frac{Rolling Sum of Campaign Reach}{Rolling Sum of Ad Spend}$$\n",
    "\n",
    "По сути, для каждого окна вы посчитаете сколько пользователе привлеклось за один доллар, потреченный на рекламу, в данном окне. Понятно, что значений будет столько, сколько окон. Нам интересно максимально значение такой эффективности для каждой платформы.\n",
    "\n",
    "В качестве ответа выведите название платформы с наибольшей максимальной эффективность и наименьшей (два названия, не одно, не три, ровно два).\n",
    "\n",
    "**Hint**: окна можно делать через [pd.DataFrame.rolling](https://pandas.pydata.org/pandas-docs/stable/reference/api/pandas.DataFrame.rolling.html)."
   ]
  },
  {
   "cell_type": "code",
   "execution_count": 173,
   "metadata": {},
   "outputs": [
    {
     "name": "stderr",
     "output_type": "stream",
     "text": [
      "/var/folders/bc/z2tbr02j71z_j79b47m1vkp80000gn/T/ipykernel_52482/1303806774.py:8: DeprecationWarning: DataFrameGroupBy.apply operated on the grouping columns. This behavior is deprecated, and in a future version of pandas the grouping columns will be excluded from the operation. Either pass `include_groups=False` to exclude the groupings or explicitly select the grouping columns after groupby to silence this warning.\n",
      "  platform_efficiency = df.groupby(\"Platform\").apply(calc_efficiency)\n"
     ]
    },
    {
     "data": {
      "text/plain": [
       "'best is LinkedIn with top 446.5986674343979, and worst is Twitter with top 244.07623556299149'"
      ]
     },
     "execution_count": 173,
     "metadata": {},
     "output_type": "execute_result"
    }
   ],
   "source": [
    "def calc_efficiency(g: pd.DataFrame) -> int:\n",
    "    rolling_reach = g[\"Campaign Reach\"].rolling(3).sum()\n",
    "    rolling_ad = g[\"Ad Spend (USD)\"].rolling(3).sum()\n",
    "    rolling_efficiency = rolling_reach / rolling_ad\n",
    "    return rolling_efficiency.max()\n",
    "    \n",
    "\n",
    "platform_efficiency = df.groupby(\"Platform\").apply(calc_efficiency)\n",
    "platform_efficiency.sort_values(inplace=True, ascending=False)\n",
    "\n",
    "platform_best = platform_efficiency.index[0]\n",
    "platform_worst = platform_efficiency.index[-1]\n",
    "\n",
    "f\"best is {platform_best} with top {platform_efficiency[platform_best]}, and worst is {platform_worst} with top {platform_efficiency[platform_worst]}\"\n"
   ]
  },
  {
   "cell_type": "markdown",
   "metadata": {},
   "source": [
    "#### Задание 7\n",
    "\n",
    "Это еще не все прекрасные функции pandas, которые мы хотим вам показать. Теперь вы посчитаете, сколько аккаунтов на каждой платформе одновременно лучшие по `Engagement Rate` и `Conversion Rate`.\n",
    "\n",
    "Сделайте два отдельных суб-сета. В одном оставьте для каждой платфмормы один топовый аккаунт по `Engagement Rate`, в другом - по `Conversion Rate`. Соедините эти два подмножества по столбцу `Platform` так, что в одно строке есть описание сразу двух аккаунтов-лидеров. Теперь посмотрите равны ли имена аккаунтов в одной строке. Выведите количество строк, в которых названия аккаунтов совпадают."
   ]
  },
  {
   "cell_type": "code",
   "execution_count": 175,
   "metadata": {},
   "outputs": [
    {
     "data": {
      "text/plain": [
       "'there are 3 of cool users'"
      ]
     },
     "execution_count": 175,
     "metadata": {},
     "output_type": "execute_result"
    }
   ],
   "source": [
    "tops = df.groupby(\"Platform\").max().reset_index()[[\"Engagement Rate\", \"Conversion Rate\", \"Platform_Code\"]]\n",
    "df_with_tops = df.merge(tops, how=\"left\", on=\"Platform_Code\", suffixes=(\"\", \"_top\"))\n",
    "\n",
    "engagement_top = df_with_tops[df_with_tops[\"Engagement Rate\"] == df_with_tops[\"Engagement Rate_top\"]]\n",
    "convertion_top = df_with_tops[df_with_tops[\"Conversion Rate\"] == df_with_tops[\"Conversion Rate_top\"]]\n",
    "users_top = engagement_top.merge(convertion_top, how=\"inner\", on=\"Account ID\")\n",
    "f\"there are {users_top[\"Account ID\"].count()} of cool users\"\n"
   ]
  },
  {
   "cell_type": "markdown",
   "metadata": {},
   "source": [
    "#### Задание 8\n",
    "\n",
    "Давайте теперь что-то попроще сделаем. Например, посчитаем отношение суммарного количества подписчиков на аккаунтах с высокой конверсией к такой же сумме в аккаунтах с низкой конверсией (очевидно, для каждой платформы). По сути, мы просто хотим получить число, которое характеризует, на сколько сильно аккаунты с высокой конверсией \"доминируют\" над аккаунтами с низкой конверсией в плане количества подписчиков.\n",
    "\n",
    "Высокой конверсией будем считать конверсию больше средней. Остальное - низкая. Посчитайте суммы подписчиков для каждой платформы, поделите одно на другое и выведите разницу между самым большим значением и самым маленьким, а также платформы, которые соотвутствуют этим значениям.\n",
    "\n",
    "Используйте магическую команду `%%time`, чтобы замерить, сколько времени ушло на исполнение вашего pandas-скрипта."
   ]
  },
  {
   "cell_type": "code",
   "execution_count": 241,
   "metadata": {},
   "outputs": [
    {
     "name": "stdout",
     "output_type": "stream",
     "text": [
      "CPU times: user 17.3 ms, sys: 5.5 ms, total: 22.8 ms\n",
      "Wall time: 26.3 ms\n"
     ]
    },
    {
     "name": "stderr",
     "output_type": "stream",
     "text": [
      "<timed exec>:8: DeprecationWarning: DataFrameGroupBy.apply operated on the grouping columns. This behavior is deprecated, and in a future version of pandas the grouping columns will be excluded from the operation. Either pass `include_groups=False` to exclude the groupings or explicitly select the grouping columns after groupby to silence this warning.\n"
     ]
    },
    {
     "data": {
      "text/plain": [
       "0.34645573095080895"
      ]
     },
     "execution_count": 241,
     "metadata": {},
     "output_type": "execute_result"
    }
   ],
   "source": [
    "%%time\n",
    "def calc_converiton(g):\n",
    "    total_high = g[g[\"Follower_Bin\"].isin([\"Very High\", \"High\"])]\n",
    "    total_high = total_high[\"Follower Count\"].sum()\n",
    "    total_low = g[g[\"Follower_Bin\"].isin([\"Medium\", \"Low\"])]\n",
    "    total_low = total_low[\"Follower Count\"].sum()\n",
    "    return total_high / total_low\n",
    "\n",
    "df_platforms = df.groupby(\"Platform\").apply(calc_converiton)\n",
    "df_platforms.max() - df_platforms.min()"
   ]
  },
  {
   "cell_type": "markdown",
   "metadata": {},
   "source": [
    "#### Задание 9\n",
    "\n",
    "А теперь решите задание 8 чисто питоном. Никаких функций и методов pandas. Только питоновские циклы. Замерьте время выполнения кода. Наконец, сравните время в задании 8 и 9. Напишите ниже, кто же победил: чистый python и pandas?\n",
    "\n",
    "**Hint**: Чтобы итерироваться по датафрейму, можно из него сделать генератор через [pd.DataFrame.iterrows](https://pandas.pydata.org/pandas-docs/stable/reference/api/pandas.DataFrame.iterrows.html) или [pd.DataFrame.itertuples](https://pandas.pydata.org/pandas-docs/stable/reference/api/pandas.DataFrame.itertuples.html#pandas.DataFrame.itertuples). К слову, это не все способы итерироваться по датафрейму."
   ]
  },
  {
   "cell_type": "code",
   "execution_count": 240,
   "metadata": {},
   "outputs": [
    {
     "name": "stdout",
     "output_type": "stream",
     "text": [
      "CPU times: user 29.6 ms, sys: 3.26 ms, total: 32.9 ms\n",
      "Wall time: 35.3 ms\n"
     ]
    },
    {
     "data": {
      "text/plain": [
       "0.34645573095080895"
      ]
     },
     "execution_count": 240,
     "metadata": {},
     "output_type": "execute_result"
    }
   ],
   "source": [
    "%%time\n",
    "platforms = df[\"Platform\"].unique().tolist()\n",
    "counts = {platform: {\"high\": 0, \"low\": 0, \"res\": 0} for platform in platforms}\n",
    "\n",
    "for row in df.itertuples():\n",
    "    platform = row[3]\n",
    "    fw_bin = \"high\" if row[11] in [\"Very High\", \"High\"] else \"low\"\n",
    "    counts[platform][fw_bin] += row[4]\n",
    "\n",
    "max_r = -100\n",
    "min_r = 1e10\n",
    "for plt in counts:\n",
    "    r = counts[plt][\"high\"] / counts[plt][\"low\"]\n",
    "    max_r = max(max_r, r)\n",
    "    min_r = min(min_r, r)\n",
    "    counts[plt][\"res\"] = r\n",
    "\n",
    "max_r - min_r"
   ]
  },
  {
   "cell_type": "markdown",
   "metadata": {},
   "source": [
    "почему перебор вышел быстрее?\n",
    "и как отказаться от `pd.apply`?"
   ]
  },
  {
   "cell_type": "markdown",
   "metadata": {},
   "source": [
    "**А победителем является**: <А ТУТ МОЙ ОТВЕТ, Я ЗАМЕТИЛ, ЧТО В ЗАДАНИИ НУЖНО ЕЩЕ ЧТО-ТО НАПИСАТЬ ПОСЛЕ КОДА, ИНАЧЕ НЕ ПОЛУЧУ ПОЛНЫЙ БАЛЛ ЗА ЗАДАНИЕ>"
   ]
  },
  {
   "cell_type": "markdown",
   "metadata": {},
   "source": [
    "#### Задание 10\n",
    "\n",
    "Крайне серьезное задание. Отнеситесь к нему соответствующе. В ячейке ниже напишите ваш любимый анекдот или мем (только без баянов, окей?). Можно плохие. Помните, это задание на полный балл. Проверяющий работу ассистент должен улыбнуться.\n",
    "\n",
    "Если вставляете картинку, то убедитесь, что вы ее не подгружаете локально. А то будет неудобно - потерять балл на этом задании, когда надо было выложить картинку на облако и прокинуть ссылку. И нет, нельзя сюда просто ссылку вставить. Либо ищите, как вставить картинку, либо смешной анекдот. Есть всего два стула - выбирайте..."
   ]
  },
  {
   "cell_type": "markdown",
   "metadata": {},
   "source": [
    "---------------------------------------------------\n",
    "\n",
    "Жуков выходит из кабинета Сталина, вытирает лоб: *\"Фу, сволочь усатая...\"*\n",
    "\n",
    "Берия услышал, доложил Сталину, так, мол, и так, Жуков, выходя из вашего кабинета, **такое** сказал.\n",
    "\n",
    "Жукова вызывают к Сталину, тот спрашивает: \"Скажите, товарищ Жюков, вот ви, виходя вчера от меня, сказали \"сволочь усатая\". Ви _кого_ имели в виду?\"\n",
    "\n",
    "Жуков: \"Гитлера, товарищ Сталин!\"\n",
    "\n",
    "Сталин вызывает Берию, пересказывает диалог: \"А ви _кого_ имели в виду, товарищ Берия?\"\n",
    "\n",
    "---------------------------------------------------"
   ]
  }
 ],
 "metadata": {
  "kernelspec": {
   "display_name": "Python 3 (ipykernel)",
   "language": "python",
   "name": "python3"
  },
  "language_info": {
   "codemirror_mode": {
    "name": "ipython",
    "version": 3
   },
   "file_extension": ".py",
   "mimetype": "text/x-python",
   "name": "python",
   "nbconvert_exporter": "python",
   "pygments_lexer": "ipython3",
   "version": "3.12.4"
  }
 },
 "nbformat": 4,
 "nbformat_minor": 4
}
